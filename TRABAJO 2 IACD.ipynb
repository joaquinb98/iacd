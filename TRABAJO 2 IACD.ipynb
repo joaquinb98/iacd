{
 "cells": [
  {
   "cell_type": "code",
   "execution_count": 46,
   "id": "0139a0c2",
   "metadata": {},
   "outputs": [],
   "source": [
    "from sklearn.model_selection import train_test_split, StratifiedKFold, cross_val_score\n",
    "from sklearn.metrics import confusion_matrix, accuracy_score, recall_score, precision_score, f1_score, classification_report\n",
    "import seaborn as sns\n",
    "from sklearn.feature_selection import SelectKBest, chi2, RFE, VarianceThreshold\n",
    "from sklearn.decomposition import PCA\n",
    "from sklearn.model_selection import GridSearchCV, ParameterGrid\n",
    "from sklearn.ensemble import IsolationForest\n",
    "from sklearn.discriminant_analysis import LinearDiscriminantAnalysis as LDA\n",
    "from sklearn import preprocessing\n",
    "from sklearn.preprocessing import OneHotEncoder \n",
    "import numpy as np\n",
    "import pandas as pd\n",
    "import matplotlib.pyplot as plt\n",
    "import seaborn as sns\n",
    "from sklearn.ensemble import RandomForestClassifier\n",
    "from sklearn.linear_model import LogisticRegression\n",
    "from sklearn.metrics import classification_report, confusion_matrix\n",
    "\n",
    "import warnings\n",
    "warnings.filterwarnings('ignore')"
   ]
  },
  {
   "cell_type": "markdown",
   "id": "4140859a",
   "metadata": {},
   "source": [
    "Autores:\n",
    "- Juan Antonio Sánchez Díaz\n",
    "- Francisco Javier Gañán Onievas"
   ]
  },
  {
   "cell_type": "markdown",
   "id": "c9759294",
   "metadata": {},
   "source": [
    "# 1. Exploración y visualización"
   ]
  },
  {
   "cell_type": "markdown",
   "id": "1689d8c4",
   "metadata": {},
   "source": [
    "El conjunto de datos elegido para realizar el estudio forma parte de spreedsheats, en particular el dataset *Census income*: https://www.apispreadsheets.com/datasets/106. Este conjunto contiene información profesional y personal de personas con el fin de intentar predecir si conseguirá generar unos ingresos mayores a 50.000$ a lo largo del año.\n",
    "\n",
    "En primer lugar, se realizar un estudio del conjunto de datos para conocer el tamaño del dataseet, que tipo de datos forman el conjunto, números de datos ausentes, etc. Para la lectura se utilizará la librería **Pandas** que permite leer archivos con la extensión .csv como en nuestro caso. "
   ]
  },
  {
   "cell_type": "markdown",
   "id": "241475b6",
   "metadata": {},
   "source": [
    "## Análisis de los atributos y variable respuesta"
   ]
  },
  {
   "cell_type": "code",
   "execution_count": 47,
   "id": "d47794c5",
   "metadata": {},
   "outputs": [
    {
     "data": {
      "text/html": [
       "<div>\n",
       "<style scoped>\n",
       "    .dataframe tbody tr th:only-of-type {\n",
       "        vertical-align: middle;\n",
       "    }\n",
       "\n",
       "    .dataframe tbody tr th {\n",
       "        vertical-align: top;\n",
       "    }\n",
       "\n",
       "    .dataframe thead th {\n",
       "        text-align: right;\n",
       "    }\n",
       "</style>\n",
       "<table border=\"1\" class=\"dataframe\">\n",
       "  <thead>\n",
       "    <tr style=\"text-align: right;\">\n",
       "      <th></th>\n",
       "      <th>age</th>\n",
       "      <th>workclass</th>\n",
       "      <th>fnlwgt</th>\n",
       "      <th>education</th>\n",
       "      <th>education_num</th>\n",
       "      <th>marital_status</th>\n",
       "      <th>occupation</th>\n",
       "      <th>relationship</th>\n",
       "      <th>race</th>\n",
       "      <th>sex</th>\n",
       "      <th>capital_gain</th>\n",
       "      <th>capital_loss</th>\n",
       "      <th>hours_per_week</th>\n",
       "      <th>native_country</th>\n",
       "      <th>income_level</th>\n",
       "    </tr>\n",
       "  </thead>\n",
       "  <tbody>\n",
       "    <tr>\n",
       "      <th>0</th>\n",
       "      <td>39</td>\n",
       "      <td>State-gov</td>\n",
       "      <td>77516.0</td>\n",
       "      <td>Bachelors</td>\n",
       "      <td>13</td>\n",
       "      <td>Never-married</td>\n",
       "      <td>Adm-clerical</td>\n",
       "      <td>Not-in-family</td>\n",
       "      <td>White</td>\n",
       "      <td>Male</td>\n",
       "      <td>2174.0</td>\n",
       "      <td>0.0</td>\n",
       "      <td>40.0</td>\n",
       "      <td>United-States</td>\n",
       "      <td>&lt;=50K</td>\n",
       "    </tr>\n",
       "    <tr>\n",
       "      <th>1</th>\n",
       "      <td>50</td>\n",
       "      <td>Self-emp-not-inc</td>\n",
       "      <td>83311.0</td>\n",
       "      <td>Bachelors</td>\n",
       "      <td>13</td>\n",
       "      <td>Married-civ-spouse</td>\n",
       "      <td>Exec-managerial</td>\n",
       "      <td>Husband</td>\n",
       "      <td>White</td>\n",
       "      <td>Male</td>\n",
       "      <td>0.0</td>\n",
       "      <td>0.0</td>\n",
       "      <td>13.0</td>\n",
       "      <td>United-States</td>\n",
       "      <td>&lt;=50K</td>\n",
       "    </tr>\n",
       "    <tr>\n",
       "      <th>2</th>\n",
       "      <td>38</td>\n",
       "      <td>Private</td>\n",
       "      <td>215646.0</td>\n",
       "      <td>HS-grad</td>\n",
       "      <td>9</td>\n",
       "      <td>Divorced</td>\n",
       "      <td>Handlers-cleaners</td>\n",
       "      <td>Not-in-family</td>\n",
       "      <td>White</td>\n",
       "      <td>Male</td>\n",
       "      <td>0.0</td>\n",
       "      <td>0.0</td>\n",
       "      <td>40.0</td>\n",
       "      <td>United-States</td>\n",
       "      <td>&lt;=50K</td>\n",
       "    </tr>\n",
       "    <tr>\n",
       "      <th>3</th>\n",
       "      <td>53</td>\n",
       "      <td>Private</td>\n",
       "      <td>234721.0</td>\n",
       "      <td>11th</td>\n",
       "      <td>7</td>\n",
       "      <td>Married-civ-spouse</td>\n",
       "      <td>Handlers-cleaners</td>\n",
       "      <td>Husband</td>\n",
       "      <td>Black</td>\n",
       "      <td>Male</td>\n",
       "      <td>0.0</td>\n",
       "      <td>0.0</td>\n",
       "      <td>40.0</td>\n",
       "      <td>United-States</td>\n",
       "      <td>&lt;=50K</td>\n",
       "    </tr>\n",
       "    <tr>\n",
       "      <th>4</th>\n",
       "      <td>28</td>\n",
       "      <td>Private</td>\n",
       "      <td>338409.0</td>\n",
       "      <td>Bachelors</td>\n",
       "      <td>13</td>\n",
       "      <td>Married-civ-spouse</td>\n",
       "      <td>Prof-specialty</td>\n",
       "      <td>Wife</td>\n",
       "      <td>Black</td>\n",
       "      <td>Female</td>\n",
       "      <td>0.0</td>\n",
       "      <td>0.0</td>\n",
       "      <td>40.0</td>\n",
       "      <td>Cuba</td>\n",
       "      <td>&lt;=50K</td>\n",
       "    </tr>\n",
       "    <tr>\n",
       "      <th>5</th>\n",
       "      <td>37</td>\n",
       "      <td>Private</td>\n",
       "      <td>284582.0</td>\n",
       "      <td>Masters</td>\n",
       "      <td>14</td>\n",
       "      <td>Married-civ-spouse</td>\n",
       "      <td>Exec-managerial</td>\n",
       "      <td>Wife</td>\n",
       "      <td>White</td>\n",
       "      <td>Female</td>\n",
       "      <td>0.0</td>\n",
       "      <td>0.0</td>\n",
       "      <td>40.0</td>\n",
       "      <td>United-States</td>\n",
       "      <td>&lt;=50K</td>\n",
       "    </tr>\n",
       "    <tr>\n",
       "      <th>6</th>\n",
       "      <td>49</td>\n",
       "      <td>Private</td>\n",
       "      <td>160187.0</td>\n",
       "      <td>9th</td>\n",
       "      <td>5</td>\n",
       "      <td>Married-spouse-absent</td>\n",
       "      <td>Other-service</td>\n",
       "      <td>Not-in-family</td>\n",
       "      <td>Black</td>\n",
       "      <td>Female</td>\n",
       "      <td>0.0</td>\n",
       "      <td>0.0</td>\n",
       "      <td>16.0</td>\n",
       "      <td>Jamaica</td>\n",
       "      <td>&lt;=50K</td>\n",
       "    </tr>\n",
       "    <tr>\n",
       "      <th>7</th>\n",
       "      <td>52</td>\n",
       "      <td>Self-emp-not-inc</td>\n",
       "      <td>209642.0</td>\n",
       "      <td>HS-grad</td>\n",
       "      <td>9</td>\n",
       "      <td>Married-civ-spouse</td>\n",
       "      <td>Exec-managerial</td>\n",
       "      <td>Husband</td>\n",
       "      <td>White</td>\n",
       "      <td>Male</td>\n",
       "      <td>0.0</td>\n",
       "      <td>0.0</td>\n",
       "      <td>45.0</td>\n",
       "      <td>United-States</td>\n",
       "      <td>&gt;50K</td>\n",
       "    </tr>\n",
       "    <tr>\n",
       "      <th>8</th>\n",
       "      <td>31</td>\n",
       "      <td>Private</td>\n",
       "      <td>45781.0</td>\n",
       "      <td>Masters</td>\n",
       "      <td>14</td>\n",
       "      <td>Never-married</td>\n",
       "      <td>Prof-specialty</td>\n",
       "      <td>Not-in-family</td>\n",
       "      <td>White</td>\n",
       "      <td>Female</td>\n",
       "      <td>14084.0</td>\n",
       "      <td>0.0</td>\n",
       "      <td>50.0</td>\n",
       "      <td>United-States</td>\n",
       "      <td>&gt;50K</td>\n",
       "    </tr>\n",
       "    <tr>\n",
       "      <th>9</th>\n",
       "      <td>42</td>\n",
       "      <td>Private</td>\n",
       "      <td>159449.0</td>\n",
       "      <td>Bachelors</td>\n",
       "      <td>13</td>\n",
       "      <td>Married-civ-spouse</td>\n",
       "      <td>Exec-managerial</td>\n",
       "      <td>Husband</td>\n",
       "      <td>White</td>\n",
       "      <td>Male</td>\n",
       "      <td>5178.0</td>\n",
       "      <td>0.0</td>\n",
       "      <td>40.0</td>\n",
       "      <td>United-States</td>\n",
       "      <td>&gt;50K</td>\n",
       "    </tr>\n",
       "  </tbody>\n",
       "</table>\n",
       "</div>"
      ],
      "text/plain": [
       "   age         workclass    fnlwgt  education  education_num  \\\n",
       "0   39         State-gov   77516.0  Bachelors             13   \n",
       "1   50  Self-emp-not-inc   83311.0  Bachelors             13   \n",
       "2   38           Private  215646.0    HS-grad              9   \n",
       "3   53           Private  234721.0       11th              7   \n",
       "4   28           Private  338409.0  Bachelors             13   \n",
       "5   37           Private  284582.0    Masters             14   \n",
       "6   49           Private  160187.0        9th              5   \n",
       "7   52  Self-emp-not-inc  209642.0    HS-grad              9   \n",
       "8   31           Private   45781.0    Masters             14   \n",
       "9   42           Private  159449.0  Bachelors             13   \n",
       "\n",
       "          marital_status         occupation   relationship   race     sex  \\\n",
       "0          Never-married       Adm-clerical  Not-in-family  White    Male   \n",
       "1     Married-civ-spouse    Exec-managerial        Husband  White    Male   \n",
       "2               Divorced  Handlers-cleaners  Not-in-family  White    Male   \n",
       "3     Married-civ-spouse  Handlers-cleaners        Husband  Black    Male   \n",
       "4     Married-civ-spouse     Prof-specialty           Wife  Black  Female   \n",
       "5     Married-civ-spouse    Exec-managerial           Wife  White  Female   \n",
       "6  Married-spouse-absent      Other-service  Not-in-family  Black  Female   \n",
       "7     Married-civ-spouse    Exec-managerial        Husband  White    Male   \n",
       "8          Never-married     Prof-specialty  Not-in-family  White  Female   \n",
       "9     Married-civ-spouse    Exec-managerial        Husband  White    Male   \n",
       "\n",
       "   capital_gain  capital_loss  hours_per_week native_country income_level  \n",
       "0        2174.0           0.0            40.0  United-States        <=50K  \n",
       "1           0.0           0.0            13.0  United-States        <=50K  \n",
       "2           0.0           0.0            40.0  United-States        <=50K  \n",
       "3           0.0           0.0            40.0  United-States        <=50K  \n",
       "4           0.0           0.0            40.0           Cuba        <=50K  \n",
       "5           0.0           0.0            40.0  United-States        <=50K  \n",
       "6           0.0           0.0            16.0        Jamaica        <=50K  \n",
       "7           0.0           0.0            45.0  United-States         >50K  \n",
       "8       14084.0           0.0            50.0  United-States         >50K  \n",
       "9        5178.0           0.0            40.0  United-States         >50K  "
      ]
     },
     "execution_count": 47,
     "metadata": {},
     "output_type": "execute_result"
    }
   ],
   "source": [
    "# Cargamos los datos\n",
    "df = pd.read_csv(\"census_income_dataset.csv\")\n",
    "df.head(10)"
   ]
  },
  {
   "cell_type": "markdown",
   "id": "85785099",
   "metadata": {},
   "source": [
    "El conjunto está formado por 48842 instancias con 14 atributos en total y dos clases posibles, $\\leq50K\\;ó >50K$.\n",
    "Visualiando algunas instancias del conjunto podemos ver que los atributos están formados por variables tanto numéricas como categóricas. Además, existen algunos valores austentes representados por ?. \n",
    "\n",
    "Separamos primero los atributos de la variable respuesta del conjunto."
   ]
  },
  {
   "cell_type": "code",
   "execution_count": 48,
   "id": "6f48338c",
   "metadata": {},
   "outputs": [
    {
     "name": "stdout",
     "output_type": "stream",
     "text": [
      "['age', 'workclass', 'fnlwgt', 'education', 'education_num', 'marital_status', 'occupation', 'relationship', 'race', 'sex', 'capital_gain', 'capital_loss', 'hours_per_week', 'native_country']\n",
      "income_level\n"
     ]
    }
   ],
   "source": [
    "# Separamos instancias de valor de clasificacion\n",
    "x_data = df.iloc[:, 0:14]\n",
    "y_data = df.iloc[:,14:15]\n",
    "\n",
    "# Separamos los nombres\n",
    "Names = df.keys()\n",
    "Names = Names.tolist()\n",
    "X_names = Names[0:14]\n",
    "Y_name = Names[-1]\n",
    "\n",
    "print(X_names)\n",
    "print(Y_name)"
   ]
  },
  {
   "cell_type": "markdown",
   "id": "2449e19d",
   "metadata": {},
   "source": [
    "## Valores ausentes"
   ]
  },
  {
   "cell_type": "code",
   "execution_count": 49,
   "id": "0add8e4c",
   "metadata": {},
   "outputs": [
    {
     "name": "stdout",
     "output_type": "stream",
     "text": [
      "VARIABLES AUSENTES POR ATRIBUTO\n",
      "age: 0\n",
      "workclass: 2799\n",
      "fnlwgt: 0\n",
      "education: 0\n",
      "education_num: 0\n",
      "marital_status: 0\n",
      "occupation: 2809\n",
      "relationship: 0\n",
      "race: 0\n",
      "sex: 0\n",
      "capital_gain: 0\n",
      "capital_loss: 0\n",
      "hours_per_week: 0\n",
      "native_country: 857\n",
      "\n",
      " ['workclass', 'occupation', 'native_country']\n"
     ]
    }
   ],
   "source": [
    "# Valores ausentes\n",
    "d = dict()\n",
    "ind_ausentes = []\n",
    "X_aus = []\n",
    "\n",
    "# Contadores    \n",
    "for name in X_names:\n",
    "    for i,data in enumerate(x_data[name]):\n",
    "        if name in d:\n",
    "            if data == '?':\n",
    "                d[name] += 1\n",
    "                if not name in X_aus:\n",
    "                    X_aus.append(name)\n",
    "                if not i in ind_ausentes:\n",
    "                    ind_ausentes.append(i)\n",
    "        else:\n",
    "            if data == '?':\n",
    "                d[name] = 1\n",
    "                X_aus.append(name)\n",
    "            else:\n",
    "                d[name] = 0\n",
    "\n",
    "print(\"VARIABLES AUSENTES POR ATRIBUTO\")\n",
    "for name in X_names:\n",
    "    print(name + ':',d[name])    \n",
    "    \n",
    "print('\\n',X_aus)"
   ]
  },
  {
   "cell_type": "markdown",
   "id": "d340157d",
   "metadata": {},
   "source": [
    "Ahora que conocemos los atributos que poseen datos ausentes podemos trabajar con ellos. En primer lugar, comprobaremos qué tipo de datos son para estudiar qué tecnicas aplicar con ellos."
   ]
  },
  {
   "cell_type": "code",
   "execution_count": 50,
   "id": "c7510513",
   "metadata": {},
   "outputs": [
    {
     "name": "stdout",
     "output_type": "stream",
     "text": [
      "<class 'str'>\n",
      "<class 'str'>\n",
      "<class 'str'>\n"
     ]
    }
   ],
   "source": [
    "print(type(x_data['workclass'][0]))\n",
    "print(type(x_data['occupation'][0]))\n",
    "print(type(x_data['native_country'][0]))"
   ]
  },
  {
   "cell_type": "markdown",
   "id": "538e3d36",
   "metadata": {},
   "source": [
    "Podemos ver que todas las variables con ausencias son categóricas, por lo que consideramos dos posibilidades:\n",
    "* Eliminar las instancias con datos ausentes.\n",
    "* Utilizar la moda para reemplazar los datos.\n",
    "\n",
    "Guardaremos los subconjuntos en variables diferentes para su posterior análisis."
   ]
  },
  {
   "cell_type": "code",
   "execution_count": 51,
   "id": "a702137c",
   "metadata": {},
   "outputs": [
    {
     "name": "stdout",
     "output_type": "stream",
     "text": [
      "Total de datos ausentes 6465\n",
      "Porcentaje de ausentes 13.236829712741343\n"
     ]
    }
   ],
   "source": [
    "suma = 0\n",
    "for name in X_names:\n",
    "    suma += d[name]\n",
    "    \n",
    "print(\"Total de datos ausentes\",suma)\n",
    "print(\"Porcentaje de ausentes\",suma/48841*100)"
   ]
  },
  {
   "cell_type": "markdown",
   "id": "d07ea539",
   "metadata": {},
   "source": [
    "Dada la cantidad de datos que poseemos y el porcentaje al que equivale los datos ausentes podríamos considerar la opción de eliminar este grupo de instancias, por lo que, probaremos a realizar el estudio de predicción eliminandolas y sustituyendo los valores."
   ]
  },
  {
   "cell_type": "markdown",
   "id": "fccd9fa4",
   "metadata": {},
   "source": [
    "# 2. LIMPIEZA Y PREPROCESADO"
   ]
  },
  {
   "cell_type": "markdown",
   "id": "1b6a80e7",
   "metadata": {},
   "source": [
    "## Sustitución de valores ausentes"
   ]
  },
  {
   "cell_type": "markdown",
   "id": "eb21c67a",
   "metadata": {},
   "source": [
    "### Sustitución de valores ausentes por moda"
   ]
  },
  {
   "cell_type": "markdown",
   "id": "7a579669",
   "metadata": {},
   "source": [
    "Básicamente realizamos un conteo de todas las variables categóricas por atributo y sustituimos los valores ausentes por aquellos que más se repiten (moda). "
   ]
  },
  {
   "cell_type": "code",
   "execution_count": 52,
   "id": "37bab68e",
   "metadata": {},
   "outputs": [],
   "source": [
    "def sustituicion_moda(x_data,X_aus):\n",
    "    x_moda = x_data.copy()\n",
    "    # Creamos una lista con todos los elementos\n",
    "    set_cat = dict()\n",
    "    for name in X_aus:\n",
    "        caract = set(x_moda[name]) \n",
    "        lista = [[name2, len(x_moda[name][x_moda[name] == name2])] for name2 in caract]\n",
    "        MAX = 0\n",
    "        for elem in lista:\n",
    "            if elem[1] > MAX:\n",
    "                set_cat[name] = elem[0]\n",
    "\n",
    "    for name in X_aus:\n",
    "        for i,data in enumerate(x_moda[name]):\n",
    "            if data == '?':\n",
    "                x_moda[name][i] = set_cat[name]\n",
    "    \n",
    "    return x_moda"
   ]
  },
  {
   "cell_type": "code",
   "execution_count": 53,
   "id": "5b28f658",
   "metadata": {},
   "outputs": [
    {
     "name": "stdout",
     "output_type": "stream",
     "text": [
      "VARIABLES AUSENTES POR ATRIBUTO\n",
      "workclass: 0\n",
      "occupation: 0\n",
      "native_country: 0\n"
     ]
    },
    {
     "data": {
      "text/html": [
       "<div>\n",
       "<style scoped>\n",
       "    .dataframe tbody tr th:only-of-type {\n",
       "        vertical-align: middle;\n",
       "    }\n",
       "\n",
       "    .dataframe tbody tr th {\n",
       "        vertical-align: top;\n",
       "    }\n",
       "\n",
       "    .dataframe thead th {\n",
       "        text-align: right;\n",
       "    }\n",
       "</style>\n",
       "<table border=\"1\" class=\"dataframe\">\n",
       "  <thead>\n",
       "    <tr style=\"text-align: right;\">\n",
       "      <th></th>\n",
       "      <th>age</th>\n",
       "      <th>workclass</th>\n",
       "      <th>fnlwgt</th>\n",
       "      <th>education</th>\n",
       "      <th>education_num</th>\n",
       "      <th>marital_status</th>\n",
       "      <th>occupation</th>\n",
       "      <th>relationship</th>\n",
       "      <th>race</th>\n",
       "      <th>sex</th>\n",
       "      <th>capital_gain</th>\n",
       "      <th>capital_loss</th>\n",
       "      <th>hours_per_week</th>\n",
       "      <th>native_country</th>\n",
       "    </tr>\n",
       "  </thead>\n",
       "  <tbody>\n",
       "    <tr>\n",
       "      <th>0</th>\n",
       "      <td>39</td>\n",
       "      <td>State-gov</td>\n",
       "      <td>77516.0</td>\n",
       "      <td>Bachelors</td>\n",
       "      <td>13</td>\n",
       "      <td>Never-married</td>\n",
       "      <td>Adm-clerical</td>\n",
       "      <td>Not-in-family</td>\n",
       "      <td>White</td>\n",
       "      <td>Male</td>\n",
       "      <td>2174.0</td>\n",
       "      <td>0.0</td>\n",
       "      <td>40.0</td>\n",
       "      <td>United-States</td>\n",
       "    </tr>\n",
       "    <tr>\n",
       "      <th>1</th>\n",
       "      <td>50</td>\n",
       "      <td>Self-emp-not-inc</td>\n",
       "      <td>83311.0</td>\n",
       "      <td>Bachelors</td>\n",
       "      <td>13</td>\n",
       "      <td>Married-civ-spouse</td>\n",
       "      <td>Exec-managerial</td>\n",
       "      <td>Husband</td>\n",
       "      <td>White</td>\n",
       "      <td>Male</td>\n",
       "      <td>0.0</td>\n",
       "      <td>0.0</td>\n",
       "      <td>13.0</td>\n",
       "      <td>United-States</td>\n",
       "    </tr>\n",
       "    <tr>\n",
       "      <th>2</th>\n",
       "      <td>38</td>\n",
       "      <td>Private</td>\n",
       "      <td>215646.0</td>\n",
       "      <td>HS-grad</td>\n",
       "      <td>9</td>\n",
       "      <td>Divorced</td>\n",
       "      <td>Handlers-cleaners</td>\n",
       "      <td>Not-in-family</td>\n",
       "      <td>White</td>\n",
       "      <td>Male</td>\n",
       "      <td>0.0</td>\n",
       "      <td>0.0</td>\n",
       "      <td>40.0</td>\n",
       "      <td>United-States</td>\n",
       "    </tr>\n",
       "    <tr>\n",
       "      <th>3</th>\n",
       "      <td>53</td>\n",
       "      <td>Private</td>\n",
       "      <td>234721.0</td>\n",
       "      <td>11th</td>\n",
       "      <td>7</td>\n",
       "      <td>Married-civ-spouse</td>\n",
       "      <td>Handlers-cleaners</td>\n",
       "      <td>Husband</td>\n",
       "      <td>Black</td>\n",
       "      <td>Male</td>\n",
       "      <td>0.0</td>\n",
       "      <td>0.0</td>\n",
       "      <td>40.0</td>\n",
       "      <td>United-States</td>\n",
       "    </tr>\n",
       "    <tr>\n",
       "      <th>4</th>\n",
       "      <td>28</td>\n",
       "      <td>Private</td>\n",
       "      <td>338409.0</td>\n",
       "      <td>Bachelors</td>\n",
       "      <td>13</td>\n",
       "      <td>Married-civ-spouse</td>\n",
       "      <td>Prof-specialty</td>\n",
       "      <td>Wife</td>\n",
       "      <td>Black</td>\n",
       "      <td>Female</td>\n",
       "      <td>0.0</td>\n",
       "      <td>0.0</td>\n",
       "      <td>40.0</td>\n",
       "      <td>Cuba</td>\n",
       "    </tr>\n",
       "    <tr>\n",
       "      <th>5</th>\n",
       "      <td>37</td>\n",
       "      <td>Private</td>\n",
       "      <td>284582.0</td>\n",
       "      <td>Masters</td>\n",
       "      <td>14</td>\n",
       "      <td>Married-civ-spouse</td>\n",
       "      <td>Exec-managerial</td>\n",
       "      <td>Wife</td>\n",
       "      <td>White</td>\n",
       "      <td>Female</td>\n",
       "      <td>0.0</td>\n",
       "      <td>0.0</td>\n",
       "      <td>40.0</td>\n",
       "      <td>United-States</td>\n",
       "    </tr>\n",
       "    <tr>\n",
       "      <th>6</th>\n",
       "      <td>49</td>\n",
       "      <td>Private</td>\n",
       "      <td>160187.0</td>\n",
       "      <td>9th</td>\n",
       "      <td>5</td>\n",
       "      <td>Married-spouse-absent</td>\n",
       "      <td>Other-service</td>\n",
       "      <td>Not-in-family</td>\n",
       "      <td>Black</td>\n",
       "      <td>Female</td>\n",
       "      <td>0.0</td>\n",
       "      <td>0.0</td>\n",
       "      <td>16.0</td>\n",
       "      <td>Jamaica</td>\n",
       "    </tr>\n",
       "    <tr>\n",
       "      <th>7</th>\n",
       "      <td>52</td>\n",
       "      <td>Self-emp-not-inc</td>\n",
       "      <td>209642.0</td>\n",
       "      <td>HS-grad</td>\n",
       "      <td>9</td>\n",
       "      <td>Married-civ-spouse</td>\n",
       "      <td>Exec-managerial</td>\n",
       "      <td>Husband</td>\n",
       "      <td>White</td>\n",
       "      <td>Male</td>\n",
       "      <td>0.0</td>\n",
       "      <td>0.0</td>\n",
       "      <td>45.0</td>\n",
       "      <td>United-States</td>\n",
       "    </tr>\n",
       "    <tr>\n",
       "      <th>8</th>\n",
       "      <td>31</td>\n",
       "      <td>Private</td>\n",
       "      <td>45781.0</td>\n",
       "      <td>Masters</td>\n",
       "      <td>14</td>\n",
       "      <td>Never-married</td>\n",
       "      <td>Prof-specialty</td>\n",
       "      <td>Not-in-family</td>\n",
       "      <td>White</td>\n",
       "      <td>Female</td>\n",
       "      <td>14084.0</td>\n",
       "      <td>0.0</td>\n",
       "      <td>50.0</td>\n",
       "      <td>United-States</td>\n",
       "    </tr>\n",
       "    <tr>\n",
       "      <th>9</th>\n",
       "      <td>42</td>\n",
       "      <td>Private</td>\n",
       "      <td>159449.0</td>\n",
       "      <td>Bachelors</td>\n",
       "      <td>13</td>\n",
       "      <td>Married-civ-spouse</td>\n",
       "      <td>Exec-managerial</td>\n",
       "      <td>Husband</td>\n",
       "      <td>White</td>\n",
       "      <td>Male</td>\n",
       "      <td>5178.0</td>\n",
       "      <td>0.0</td>\n",
       "      <td>40.0</td>\n",
       "      <td>United-States</td>\n",
       "    </tr>\n",
       "  </tbody>\n",
       "</table>\n",
       "</div>"
      ],
      "text/plain": [
       "   age         workclass    fnlwgt  education  education_num  \\\n",
       "0   39         State-gov   77516.0  Bachelors             13   \n",
       "1   50  Self-emp-not-inc   83311.0  Bachelors             13   \n",
       "2   38           Private  215646.0    HS-grad              9   \n",
       "3   53           Private  234721.0       11th              7   \n",
       "4   28           Private  338409.0  Bachelors             13   \n",
       "5   37           Private  284582.0    Masters             14   \n",
       "6   49           Private  160187.0        9th              5   \n",
       "7   52  Self-emp-not-inc  209642.0    HS-grad              9   \n",
       "8   31           Private   45781.0    Masters             14   \n",
       "9   42           Private  159449.0  Bachelors             13   \n",
       "\n",
       "          marital_status         occupation   relationship   race     sex  \\\n",
       "0          Never-married       Adm-clerical  Not-in-family  White    Male   \n",
       "1     Married-civ-spouse    Exec-managerial        Husband  White    Male   \n",
       "2               Divorced  Handlers-cleaners  Not-in-family  White    Male   \n",
       "3     Married-civ-spouse  Handlers-cleaners        Husband  Black    Male   \n",
       "4     Married-civ-spouse     Prof-specialty           Wife  Black  Female   \n",
       "5     Married-civ-spouse    Exec-managerial           Wife  White  Female   \n",
       "6  Married-spouse-absent      Other-service  Not-in-family  Black  Female   \n",
       "7     Married-civ-spouse    Exec-managerial        Husband  White    Male   \n",
       "8          Never-married     Prof-specialty  Not-in-family  White  Female   \n",
       "9     Married-civ-spouse    Exec-managerial        Husband  White    Male   \n",
       "\n",
       "   capital_gain  capital_loss  hours_per_week native_country  \n",
       "0        2174.0           0.0            40.0  United-States  \n",
       "1           0.0           0.0            13.0  United-States  \n",
       "2           0.0           0.0            40.0  United-States  \n",
       "3           0.0           0.0            40.0  United-States  \n",
       "4           0.0           0.0            40.0           Cuba  \n",
       "5           0.0           0.0            40.0  United-States  \n",
       "6           0.0           0.0            16.0        Jamaica  \n",
       "7           0.0           0.0            45.0  United-States  \n",
       "8       14084.0           0.0            50.0  United-States  \n",
       "9        5178.0           0.0            40.0  United-States  "
      ]
     },
     "execution_count": 53,
     "metadata": {},
     "output_type": "execute_result"
    }
   ],
   "source": [
    "x_moda = sustituicion_moda(x_data,X_aus)\n",
    "\n",
    "# Valores ausentes\n",
    "d = dict()\n",
    "\n",
    "# Contadores    \n",
    "for name in X_aus:\n",
    "    for i,data in enumerate(x_moda[name]):\n",
    "        if name in d:\n",
    "            if data == '?':\n",
    "                d[name] += 1\n",
    "        else:\n",
    "            if data == '?':\n",
    "                d[name] = 1\n",
    "            else:\n",
    "                d[name] = 0\n",
    "\n",
    "print(\"VARIABLES AUSENTES POR ATRIBUTO\")\n",
    "for name in X_aus:\n",
    "    print(name + ':',d[name])  \n",
    "    \n",
    "x_moda.head(10)"
   ]
  },
  {
   "cell_type": "markdown",
   "id": "014f05ff",
   "metadata": {},
   "source": [
    "### Eliminación de instancias con datos ausentes\n",
    "Para la eliminación de las intancias utilizaremos la lista de indices de instancias con valores ausentes que creamos anteriormente *ind_ausentes*. Posteriormente, guardaremos el conjunto de datos resultante de eliminar en x_aus."
   ]
  },
  {
   "cell_type": "code",
   "execution_count": 54,
   "id": "bb80af63",
   "metadata": {},
   "outputs": [],
   "source": [
    "def sustituicion_elim(x_data,ind_ausentes):\n",
    "    df_aus = x_data.copy()\n",
    "    df_aus = df_aus.drop(ind_ausentes)\n",
    "    x_aus = df_aus.iloc[:, 0:14]\n",
    "    y_aus = df_aus.iloc[:,14:15]\n",
    "\n",
    "    # Separamos los nombres\n",
    "    Names = df.keys()\n",
    "    Names = Names.tolist()\n",
    "    X_names_aus = Names[0:14]\n",
    "    Y_name_aus = Names[14:15]\n",
    "\n",
    "    return x_aus, y_aus, X_names_aus, Y_name_aus"
   ]
  },
  {
   "cell_type": "code",
   "execution_count": 280,
   "id": "1496d362",
   "metadata": {},
   "outputs": [
    {
     "name": "stdout",
     "output_type": "stream",
     "text": [
      "VARIABLES AUSENTES POR ATRIBUTO\n",
      "workclass: 0\n",
      "occupation: 0\n",
      "native_country: 0\n"
     ]
    }
   ],
   "source": [
    "x_aus,y_aus,X_names_aus,Y_name_aus = sustituicion_elim(df,ind_ausentes)\n",
    "# Valores ausentes\n",
    "d = dict()\n",
    "\n",
    "# Contadores    \n",
    "for name in X_aus:\n",
    "    for i,data in enumerate(x_aus[name]):\n",
    "        if name in d:\n",
    "            if data == '?':\n",
    "                d[name] += 1\n",
    "        else:\n",
    "            if data == '?':\n",
    "                d[name] = 1\n",
    "            else:\n",
    "                d[name] = 0\n",
    "\n",
    "print(\"VARIABLES AUSENTES POR ATRIBUTO\")\n",
    "for name in X_aus:\n",
    "    print(name + ':',d[name]) "
   ]
  },
  {
   "cell_type": "markdown",
   "id": "1658847d",
   "metadata": {},
   "source": [
    "Podemos apreciar que hemos conseguido eliminar todos los datos ausentes del conjunto, y por tanto, podemos seguir trabajando con él. "
   ]
  },
  {
   "cell_type": "markdown",
   "id": "39b40790",
   "metadata": {},
   "source": [
    "Una vez realizado el análisis de las dos posibilidades y comprobado su correcto funcionamiento creamos una función general para la sustitución de valores."
   ]
  },
  {
   "cell_type": "code",
   "execution_count": 55,
   "id": "97a4d1b7",
   "metadata": {},
   "outputs": [],
   "source": [
    "def sustitucion(x_data,tipo):\n",
    "    d = dict()\n",
    "    ind_ausentes = []\n",
    "    X_aus = []\n",
    "\n",
    "    # Contadores    \n",
    "    for name in X_names:\n",
    "        for i,data in enumerate(x_data[name]):\n",
    "            if name in d:\n",
    "                if data == '?':\n",
    "                    d[name] += 1\n",
    "                    if not name in X_aus:\n",
    "                        X_aus.append(name)\n",
    "                    if not i in ind_ausentes:\n",
    "                        ind_ausentes.append(i)\n",
    "            else:\n",
    "                if data == '?':\n",
    "                    d[name] = 1\n",
    "                    X_aus.append(name)\n",
    "                else:\n",
    "                    d[name] = 0\n",
    "                    \n",
    "    if tipo == 'Elimination':\n",
    "        return sustituicion_elim(x_data,ind_ausentes)\n",
    "    elif tipo == 'Moda':\n",
    "        return sustituicion_moda(x_data,X_aus)\n",
    "    "
   ]
  },
  {
   "cell_type": "code",
   "execution_count": 56,
   "id": "3434ef9c",
   "metadata": {},
   "outputs": [
    {
     "data": {
      "text/html": [
       "<div>\n",
       "<style scoped>\n",
       "    .dataframe tbody tr th:only-of-type {\n",
       "        vertical-align: middle;\n",
       "    }\n",
       "\n",
       "    .dataframe tbody tr th {\n",
       "        vertical-align: top;\n",
       "    }\n",
       "\n",
       "    .dataframe thead th {\n",
       "        text-align: right;\n",
       "    }\n",
       "</style>\n",
       "<table border=\"1\" class=\"dataframe\">\n",
       "  <thead>\n",
       "    <tr style=\"text-align: right;\">\n",
       "      <th></th>\n",
       "      <th>age</th>\n",
       "      <th>workclass</th>\n",
       "      <th>fnlwgt</th>\n",
       "      <th>education</th>\n",
       "      <th>education_num</th>\n",
       "      <th>marital_status</th>\n",
       "      <th>occupation</th>\n",
       "      <th>relationship</th>\n",
       "      <th>race</th>\n",
       "      <th>sex</th>\n",
       "      <th>capital_gain</th>\n",
       "      <th>capital_loss</th>\n",
       "      <th>hours_per_week</th>\n",
       "      <th>native_country</th>\n",
       "    </tr>\n",
       "  </thead>\n",
       "  <tbody>\n",
       "    <tr>\n",
       "      <th>0</th>\n",
       "      <td>39</td>\n",
       "      <td>State-gov</td>\n",
       "      <td>77516.0</td>\n",
       "      <td>Bachelors</td>\n",
       "      <td>13</td>\n",
       "      <td>Never-married</td>\n",
       "      <td>Adm-clerical</td>\n",
       "      <td>Not-in-family</td>\n",
       "      <td>White</td>\n",
       "      <td>Male</td>\n",
       "      <td>2174.0</td>\n",
       "      <td>0.0</td>\n",
       "      <td>40.0</td>\n",
       "      <td>United-States</td>\n",
       "    </tr>\n",
       "    <tr>\n",
       "      <th>1</th>\n",
       "      <td>50</td>\n",
       "      <td>Self-emp-not-inc</td>\n",
       "      <td>83311.0</td>\n",
       "      <td>Bachelors</td>\n",
       "      <td>13</td>\n",
       "      <td>Married-civ-spouse</td>\n",
       "      <td>Exec-managerial</td>\n",
       "      <td>Husband</td>\n",
       "      <td>White</td>\n",
       "      <td>Male</td>\n",
       "      <td>0.0</td>\n",
       "      <td>0.0</td>\n",
       "      <td>13.0</td>\n",
       "      <td>United-States</td>\n",
       "    </tr>\n",
       "    <tr>\n",
       "      <th>2</th>\n",
       "      <td>38</td>\n",
       "      <td>Private</td>\n",
       "      <td>215646.0</td>\n",
       "      <td>HS-grad</td>\n",
       "      <td>9</td>\n",
       "      <td>Divorced</td>\n",
       "      <td>Handlers-cleaners</td>\n",
       "      <td>Not-in-family</td>\n",
       "      <td>White</td>\n",
       "      <td>Male</td>\n",
       "      <td>0.0</td>\n",
       "      <td>0.0</td>\n",
       "      <td>40.0</td>\n",
       "      <td>United-States</td>\n",
       "    </tr>\n",
       "    <tr>\n",
       "      <th>3</th>\n",
       "      <td>53</td>\n",
       "      <td>Private</td>\n",
       "      <td>234721.0</td>\n",
       "      <td>11th</td>\n",
       "      <td>7</td>\n",
       "      <td>Married-civ-spouse</td>\n",
       "      <td>Handlers-cleaners</td>\n",
       "      <td>Husband</td>\n",
       "      <td>Black</td>\n",
       "      <td>Male</td>\n",
       "      <td>0.0</td>\n",
       "      <td>0.0</td>\n",
       "      <td>40.0</td>\n",
       "      <td>United-States</td>\n",
       "    </tr>\n",
       "    <tr>\n",
       "      <th>4</th>\n",
       "      <td>28</td>\n",
       "      <td>Private</td>\n",
       "      <td>338409.0</td>\n",
       "      <td>Bachelors</td>\n",
       "      <td>13</td>\n",
       "      <td>Married-civ-spouse</td>\n",
       "      <td>Prof-specialty</td>\n",
       "      <td>Wife</td>\n",
       "      <td>Black</td>\n",
       "      <td>Female</td>\n",
       "      <td>0.0</td>\n",
       "      <td>0.0</td>\n",
       "      <td>40.0</td>\n",
       "      <td>Cuba</td>\n",
       "    </tr>\n",
       "    <tr>\n",
       "      <th>...</th>\n",
       "      <td>...</td>\n",
       "      <td>...</td>\n",
       "      <td>...</td>\n",
       "      <td>...</td>\n",
       "      <td>...</td>\n",
       "      <td>...</td>\n",
       "      <td>...</td>\n",
       "      <td>...</td>\n",
       "      <td>...</td>\n",
       "      <td>...</td>\n",
       "      <td>...</td>\n",
       "      <td>...</td>\n",
       "      <td>...</td>\n",
       "      <td>...</td>\n",
       "    </tr>\n",
       "    <tr>\n",
       "      <th>48837</th>\n",
       "      <td>39</td>\n",
       "      <td>Private</td>\n",
       "      <td>215419.0</td>\n",
       "      <td>Bachelors</td>\n",
       "      <td>13</td>\n",
       "      <td>Divorced</td>\n",
       "      <td>Prof-specialty</td>\n",
       "      <td>Not-in-family</td>\n",
       "      <td>White</td>\n",
       "      <td>Female</td>\n",
       "      <td>0.0</td>\n",
       "      <td>0.0</td>\n",
       "      <td>36.0</td>\n",
       "      <td>United-States</td>\n",
       "    </tr>\n",
       "    <tr>\n",
       "      <th>48838</th>\n",
       "      <td>64</td>\n",
       "      <td>Self-emp-inc</td>\n",
       "      <td>321403.0</td>\n",
       "      <td>HS-grad</td>\n",
       "      <td>9</td>\n",
       "      <td>Widowed</td>\n",
       "      <td>Prof-specialty</td>\n",
       "      <td>Other-relative</td>\n",
       "      <td>Black</td>\n",
       "      <td>Male</td>\n",
       "      <td>0.0</td>\n",
       "      <td>0.0</td>\n",
       "      <td>40.0</td>\n",
       "      <td>United-States</td>\n",
       "    </tr>\n",
       "    <tr>\n",
       "      <th>48839</th>\n",
       "      <td>38</td>\n",
       "      <td>Private</td>\n",
       "      <td>374983.0</td>\n",
       "      <td>Bachelors</td>\n",
       "      <td>13</td>\n",
       "      <td>Married-civ-spouse</td>\n",
       "      <td>Prof-specialty</td>\n",
       "      <td>Husband</td>\n",
       "      <td>White</td>\n",
       "      <td>Male</td>\n",
       "      <td>0.0</td>\n",
       "      <td>0.0</td>\n",
       "      <td>50.0</td>\n",
       "      <td>United-States</td>\n",
       "    </tr>\n",
       "    <tr>\n",
       "      <th>48840</th>\n",
       "      <td>44</td>\n",
       "      <td>Private</td>\n",
       "      <td>83891.0</td>\n",
       "      <td>Bachelors</td>\n",
       "      <td>13</td>\n",
       "      <td>Divorced</td>\n",
       "      <td>Adm-clerical</td>\n",
       "      <td>Own-child</td>\n",
       "      <td>Asian-Pac-Islander</td>\n",
       "      <td>Male</td>\n",
       "      <td>5455.0</td>\n",
       "      <td>0.0</td>\n",
       "      <td>40.0</td>\n",
       "      <td>United-States</td>\n",
       "    </tr>\n",
       "    <tr>\n",
       "      <th>48841</th>\n",
       "      <td>35</td>\n",
       "      <td>Self-emp-inc</td>\n",
       "      <td>182148.0</td>\n",
       "      <td>Bachelors</td>\n",
       "      <td>13</td>\n",
       "      <td>Married-civ-spouse</td>\n",
       "      <td>Exec-managerial</td>\n",
       "      <td>Husband</td>\n",
       "      <td>White</td>\n",
       "      <td>Male</td>\n",
       "      <td>0.0</td>\n",
       "      <td>0.0</td>\n",
       "      <td>60.0</td>\n",
       "      <td>United-States</td>\n",
       "    </tr>\n",
       "  </tbody>\n",
       "</table>\n",
       "<p>48842 rows × 14 columns</p>\n",
       "</div>"
      ],
      "text/plain": [
       "       age         workclass    fnlwgt  education  education_num  \\\n",
       "0       39         State-gov   77516.0  Bachelors             13   \n",
       "1       50  Self-emp-not-inc   83311.0  Bachelors             13   \n",
       "2       38           Private  215646.0    HS-grad              9   \n",
       "3       53           Private  234721.0       11th              7   \n",
       "4       28           Private  338409.0  Bachelors             13   \n",
       "...    ...               ...       ...        ...            ...   \n",
       "48837   39           Private  215419.0  Bachelors             13   \n",
       "48838   64      Self-emp-inc  321403.0    HS-grad              9   \n",
       "48839   38           Private  374983.0  Bachelors             13   \n",
       "48840   44           Private   83891.0  Bachelors             13   \n",
       "48841   35      Self-emp-inc  182148.0  Bachelors             13   \n",
       "\n",
       "           marital_status         occupation    relationship  \\\n",
       "0           Never-married       Adm-clerical   Not-in-family   \n",
       "1      Married-civ-spouse    Exec-managerial         Husband   \n",
       "2                Divorced  Handlers-cleaners   Not-in-family   \n",
       "3      Married-civ-spouse  Handlers-cleaners         Husband   \n",
       "4      Married-civ-spouse     Prof-specialty            Wife   \n",
       "...                   ...                ...             ...   \n",
       "48837            Divorced     Prof-specialty   Not-in-family   \n",
       "48838             Widowed     Prof-specialty  Other-relative   \n",
       "48839  Married-civ-spouse     Prof-specialty         Husband   \n",
       "48840            Divorced       Adm-clerical       Own-child   \n",
       "48841  Married-civ-spouse    Exec-managerial         Husband   \n",
       "\n",
       "                     race     sex  capital_gain  capital_loss  hours_per_week  \\\n",
       "0                   White    Male        2174.0           0.0            40.0   \n",
       "1                   White    Male           0.0           0.0            13.0   \n",
       "2                   White    Male           0.0           0.0            40.0   \n",
       "3                   Black    Male           0.0           0.0            40.0   \n",
       "4                   Black  Female           0.0           0.0            40.0   \n",
       "...                   ...     ...           ...           ...             ...   \n",
       "48837               White  Female           0.0           0.0            36.0   \n",
       "48838               Black    Male           0.0           0.0            40.0   \n",
       "48839               White    Male           0.0           0.0            50.0   \n",
       "48840  Asian-Pac-Islander    Male        5455.0           0.0            40.0   \n",
       "48841               White    Male           0.0           0.0            60.0   \n",
       "\n",
       "      native_country  \n",
       "0      United-States  \n",
       "1      United-States  \n",
       "2      United-States  \n",
       "3      United-States  \n",
       "4               Cuba  \n",
       "...              ...  \n",
       "48837  United-States  \n",
       "48838  United-States  \n",
       "48839  United-States  \n",
       "48840  United-States  \n",
       "48841  United-States  \n",
       "\n",
       "[48842 rows x 14 columns]"
      ]
     },
     "execution_count": 56,
     "metadata": {},
     "output_type": "execute_result"
    }
   ],
   "source": [
    "sustitucion(x_data,'Moda')"
   ]
  },
  {
   "cell_type": "markdown",
   "id": "b6d58081",
   "metadata": {},
   "source": [
    "## Transformación de variables categóricas a numéricas"
   ]
  },
  {
   "cell_type": "markdown",
   "id": "33f5df2c",
   "metadata": {},
   "source": [
    "El siguiente paso es transformar las variables categóricas en variables numéricas. Para ello, observamos los atributos que poseen variables categóricas. Si alguna de ellas son ordinales, podremos enumerarlas de forma directa, si no, utilizaremos la codificación por frecuencia. Para nuestro caso, ninguna clase es ordinal, por lo que realizaremos la codificación por frecuencia. \n",
    "Para esta codificación contaremos el número de veces que se repite cada uno de los valores dentro de un atributo y cambiaremos este valor de frecuencia."
   ]
  },
  {
   "cell_type": "markdown",
   "id": "f9068dcb",
   "metadata": {},
   "source": [
    "### Codificación OneHot"
   ]
  },
  {
   "cell_type": "code",
   "execution_count": 21,
   "id": "c453cc69",
   "metadata": {},
   "outputs": [],
   "source": [
    "def codificacion_onehot(x_data):\n",
    "    # Almacenamos las clases categoricas\n",
    "    cat_class = []\n",
    "    for name in X_names:\n",
    "        if type(x_data[name][0])==str:\n",
    "            cat_class.append(name)\n",
    "\n",
    "    x_one = x_data.copy()\n",
    "    for name in cat_class:\n",
    "        transformed = OneHotEncoder().fit_transform(x_data[[name]])\n",
    "\n",
    "        x_one = x_one.drop(name,axis=1)\n",
    "        for i,name2 in enumerate(np.unique(x_data[name])):\n",
    "            x_one[name2] = transformed.toarray()[:,i]\n",
    "\n",
    "    # Separamos los nombres\n",
    "    Names = x_one.keys()\n",
    "    Names = Names.tolist()\n",
    "    return x_one, Names"
   ]
  },
  {
   "cell_type": "code",
   "execution_count": 11,
   "id": "8c6a7fd7",
   "metadata": {},
   "outputs": [
    {
     "name": "stdout",
     "output_type": "stream",
     "text": [
      "   age    fnlwgt  education_num  capital_gain  capital_loss  hours_per_week  \\\n",
      "0   39   77516.0             13        2174.0           0.0            40.0   \n",
      "1   50   83311.0             13           0.0           0.0            13.0   \n",
      "2   38  215646.0              9           0.0           0.0            40.0   \n",
      "3   53  234721.0              7           0.0           0.0            40.0   \n",
      "4   28  338409.0             13           0.0           0.0            40.0   \n",
      "5   37  284582.0             14           0.0           0.0            40.0   \n",
      "6   49  160187.0              5           0.0           0.0            16.0   \n",
      "7   52  209642.0              9           0.0           0.0            45.0   \n",
      "8   31   45781.0             14       14084.0           0.0            50.0   \n",
      "9   42  159449.0             13        5178.0           0.0            40.0   \n",
      "\n",
      "   Federal-gov  Local-gov  Never-worked  Private  ...  Portugal  Puerto-Rico  \\\n",
      "0          0.0        0.0           0.0      0.0  ...       0.0          0.0   \n",
      "1          0.0        0.0           0.0      0.0  ...       0.0          0.0   \n",
      "2          0.0        0.0           0.0      1.0  ...       0.0          0.0   \n",
      "3          0.0        0.0           0.0      1.0  ...       0.0          0.0   \n",
      "4          0.0        0.0           0.0      1.0  ...       0.0          0.0   \n",
      "5          0.0        0.0           0.0      1.0  ...       0.0          0.0   \n",
      "6          0.0        0.0           0.0      1.0  ...       0.0          0.0   \n",
      "7          0.0        0.0           0.0      0.0  ...       0.0          0.0   \n",
      "8          0.0        0.0           0.0      1.0  ...       0.0          0.0   \n",
      "9          0.0        0.0           0.0      1.0  ...       0.0          0.0   \n",
      "\n",
      "   Scotland  South  Taiwan  Thailand  Trinadad&Tobago  United-States  Vietnam  \\\n",
      "0       0.0    0.0     0.0       0.0              0.0            1.0      0.0   \n",
      "1       0.0    0.0     0.0       0.0              0.0            1.0      0.0   \n",
      "2       0.0    0.0     0.0       0.0              0.0            1.0      0.0   \n",
      "3       0.0    0.0     0.0       0.0              0.0            1.0      0.0   \n",
      "4       0.0    0.0     0.0       0.0              0.0            0.0      0.0   \n",
      "5       0.0    0.0     0.0       0.0              0.0            1.0      0.0   \n",
      "6       0.0    0.0     0.0       0.0              0.0            0.0      0.0   \n",
      "7       0.0    0.0     0.0       0.0              0.0            1.0      0.0   \n",
      "8       0.0    0.0     0.0       0.0              0.0            1.0      0.0   \n",
      "9       0.0    0.0     0.0       0.0              0.0            1.0      0.0   \n",
      "\n",
      "   Yugoslavia  \n",
      "0         0.0  \n",
      "1         0.0  \n",
      "2         0.0  \n",
      "3         0.0  \n",
      "4         0.0  \n",
      "5         0.0  \n",
      "6         0.0  \n",
      "7         0.0  \n",
      "8         0.0  \n",
      "9         0.0  \n",
      "\n",
      "[10 rows x 105 columns]\n"
     ]
    }
   ],
   "source": [
    "print(codificacion_onehot(x_moda)[0].head(10))"
   ]
  },
  {
   "cell_type": "markdown",
   "id": "ce8cbf57",
   "metadata": {},
   "source": [
    "### Codificación por frecuencia"
   ]
  },
  {
   "cell_type": "code",
   "execution_count": 57,
   "id": "c9c8cd9a",
   "metadata": {},
   "outputs": [],
   "source": [
    "def codificacion_frecuencia(x_data):\n",
    "    # Almacenamos las clases categoricas\n",
    "    cat_class = []\n",
    "\n",
    "    for name in X_names:\n",
    "        if type(x_data[name][0])==str:\n",
    "            cat_class.append(name)\n",
    "\n",
    "    # Creamos una lista con todos los elementos\n",
    "    set_cat = dict()\n",
    "    for i,name in enumerate(cat_class):\n",
    "        set_cat[name] = []\n",
    "        caract = set(x_data[name])\n",
    "        for name2 in caract:\n",
    "            set_cat[name].append([name2, len(x_data[name][x_data[name] == name2])])\n",
    "            x_data[name][x_data[name] == name2] = len(x_data[name][x_data[name] == name2])\n",
    "    \n",
    "    return x_data"
   ]
  },
  {
   "cell_type": "code",
   "execution_count": 58,
   "id": "d824d5fa",
   "metadata": {},
   "outputs": [],
   "source": [
    "x_freq = codificacion_frecuencia(x_moda)"
   ]
  },
  {
   "cell_type": "code",
   "execution_count": 59,
   "id": "9f9edaa1",
   "metadata": {},
   "outputs": [],
   "source": [
    "# Variable respuesta categórica a numérica\n",
    "y_data[y_data == '<=50K'] = 1\n",
    "y_data[y_data == '>50K'] = 2\n",
    "\n",
    "y_data = np.array(y_data)\n",
    "Y = y_data.astype('int')"
   ]
  },
  {
   "cell_type": "markdown",
   "id": "3bcc9139",
   "metadata": {},
   "source": [
    "Podemos apreciar que se han cambiado los valores categóricos por valores numéricos de forma correcta. Con los valores numéricos podemos crear una scatter matrix para poder ver la correlación de Pearson entre los atributos para la preselección de atributos (método de filtrado)."
   ]
  },
  {
   "cell_type": "code",
   "execution_count": 60,
   "id": "d70c5cc4",
   "metadata": {},
   "outputs": [],
   "source": [
    "x_data = x_freq"
   ]
  },
  {
   "cell_type": "markdown",
   "id": "ee4feb5a",
   "metadata": {},
   "source": [
    "Definimos la función codificación para poder realizar posteriormente un análisis más completo"
   ]
  },
  {
   "cell_type": "code",
   "execution_count": 61,
   "id": "a04a66a6",
   "metadata": {},
   "outputs": [],
   "source": [
    "def codificacion(x_data,y_data,tipo):\n",
    "    if tipo == 'Frecuencia':\n",
    "        result = codificacion_frecuencia(x_data)\n",
    "    elif tipo == 'OneHot':\n",
    "        result = codificacion_onehot(x_data)\n",
    "    \n",
    "    # Variable respuesta categórica a numérica\n",
    "    y_data[y_data == '<=50K'] = 1\n",
    "    y_data[y_data == '>50K'] = 2\n",
    "\n",
    "    y_data = np.array(y_data)\n",
    "    Y = y_data.astype('int')\n",
    "    \n",
    "    return result, Y"
   ]
  },
  {
   "cell_type": "markdown",
   "id": "c5cf5fee",
   "metadata": {},
   "source": [
    "# 2. SELECCION DE CARACTERÍSTICAS"
   ]
  },
  {
   "cell_type": "markdown",
   "id": "ebc811c1",
   "metadata": {},
   "source": [
    "Tras haber corregido el conjunto y haberlo preparado para su uso es necesario comprobar si es posible reducir el conjunto de características. Para ello tenemos diferentes posibilidades:\n",
    "* Métodos de filtrado\n",
    "* Métodos de envoltura\n",
    "* Métodos integrados\n",
    "\n",
    "De este conjunto citado utilizaremos algunos métodos de filtrado y de envoltura para el análisis de los atributos, aunque el número total de atributos ya es suficientemente pequeño."
   ]
  },
  {
   "cell_type": "code",
   "execution_count": 62,
   "id": "ecf8ec8f",
   "metadata": {},
   "outputs": [],
   "source": [
    "def seleccion_caracteristicas(X,Y,X_names,tipo):\n",
    "    if tipo == 'VarianceThreshold':\n",
    "        sel = VarianceThreshold(threshold=1500000)\n",
    "        X_new = sel.fit_transform(X)\n",
    "    elif tipo == 'Chi2':\n",
    "        X_new = SelectKBest(chi2, k=12).fit_transform(X, Y)\n",
    "    elif tipo == 'PearsonCorrelation':\n",
    "        dataframe = pd.DataFrame(X, columns = X_names).drop('relationship',axis=1)\n",
    "        dataframe = dataframe.drop('sex',axis=1)\n",
    "        X_new = dataframe.to_numpy()\n",
    "    elif tipo == 'LDA':\n",
    "        lda = LDA(n_components=1)\n",
    "        X_new = lda.fit_transform(X, Y)\n",
    "    elif tipo == 'RFE':\n",
    "        model = LogisticRegression().fit(X, Y)\n",
    "        selector = RFE(modelo, n_features_to_select=5, step=1)\n",
    "        selector = selector.fit(X, Y)\n",
    "        X_new = X[:,selector.support_ == True]\n",
    "        \n",
    "    return X_new"
   ]
  },
  {
   "cell_type": "markdown",
   "id": "09ab6def",
   "metadata": {},
   "source": [
    "### Chi Cuadrado $\\chi^2$"
   ]
  },
  {
   "cell_type": "markdown",
   "id": "2158ad1f",
   "metadata": {},
   "source": [
    "Para realizar el estudio estadístico $\\chi^2$ el conjunto de datos no puede tener valores negativos, por lo que realizaremos la reducción antes de normalizar los valores."
   ]
  },
  {
   "cell_type": "code",
   "execution_count": 94,
   "id": "9d2a7f84",
   "metadata": {},
   "outputs": [
    {
     "name": "stdout",
     "output_type": "stream",
     "text": [
      "[[39 1981 77516.0 ... 2174.0 0.0 43832]\n",
      " [50 3862 83311.0 ... 0.0 0.0 43832]\n",
      " [38 33906 215646.0 ... 0.0 0.0 43832]\n",
      " ...\n",
      " [38 33906 374983.0 ... 0.0 0.0 43832]\n",
      " [44 33906 83891.0 ... 5455.0 0.0 43832]\n",
      " [35 1695 182148.0 ... 0.0 0.0 43832]]\n"
     ]
    }
   ],
   "source": [
    "X_new = SelectKBest(chi2, k=12).fit_transform(x_freq, Y)\n",
    "print(X_new)"
   ]
  },
  {
   "cell_type": "markdown",
   "id": "c4a8d060",
   "metadata": {},
   "source": [
    "### Eliminación por varianza"
   ]
  },
  {
   "cell_type": "code",
   "execution_count": 118,
   "id": "7f5218ff",
   "metadata": {},
   "outputs": [
    {
     "name": "stdout",
     "output_type": "stream",
     "text": [
      "(48842, 10)\n"
     ]
    }
   ],
   "source": [
    "sel = VarianceThreshold(threshold=1500000)\n",
    "X_new = sel.fit_transform(x_freq)\n",
    "print(X_new.shape)"
   ]
  },
  {
   "cell_type": "markdown",
   "id": "de687fa9",
   "metadata": {},
   "source": [
    "### Latent Dirichlet Allocation (LDA)\n",
    "El análisis discriminante lineal se usa para encontrar una combinación lineal de características que caracteriza o separa dos o más clases, o niveles, de una variable categórica."
   ]
  },
  {
   "cell_type": "code",
   "execution_count": null,
   "id": "a5c24c13",
   "metadata": {},
   "outputs": [],
   "source": [
    "lda = LDA(n_components=1)\n",
    "X_new = lda.fit_transform(X, Y)"
   ]
  },
  {
   "cell_type": "markdown",
   "id": "b33dad76",
   "metadata": {},
   "source": [
    "### Recursive Feature Elimination (RFE)"
   ]
  },
  {
   "cell_type": "code",
   "execution_count": 161,
   "id": "7c4b10e5",
   "metadata": {},
   "outputs": [
    {
     "name": "stdout",
     "output_type": "stream",
     "text": [
      "[ True False False False  True  True False False  True False  True False]\n",
      "[1 6 5 8 1 1 3 4 1 2 1 7]\n"
     ]
    }
   ],
   "source": [
    "model = LogisticRegression().fit(X, Y)\n",
    "selector = RFE(model, n_features_to_select=5, step=1)\n",
    "selector = selector.fit(X, Y)\n",
    "print(selector.support_)\n",
    "print(selector.ranking_)"
   ]
  },
  {
   "cell_type": "markdown",
   "id": "7d9cef99",
   "metadata": {},
   "source": [
    "### Coeficiente de Correlación de Pearson\n",
    "Es un método de filtrado. Con este obtendrémos una métrica de la correlación entre atributos dos a dos, por lo que podremos generar un mapa de calor y observar visualmente qué atributos podríamos eliminar."
   ]
  },
  {
   "cell_type": "code",
   "execution_count": 63,
   "id": "4e2afcf9",
   "metadata": {},
   "outputs": [],
   "source": [
    "dataframe = pd.DataFrame(x_freq, columns = X_names)"
   ]
  },
  {
   "cell_type": "code",
   "execution_count": 98,
   "id": "4a1afe9a",
   "metadata": {},
   "outputs": [
    {
     "data": {
      "text/plain": [
       "<AxesSubplot:title={'center':'Coeficiente de Correlación de Pearson entre los atributos'}>"
      ]
     },
     "execution_count": 98,
     "metadata": {},
     "output_type": "execute_result"
    },
    {
     "data": {
      "image/png": "[encoded data removed]",
      "text/plain": [
       "<Figure size 1080x1080 with 2 Axes>"
      ]
     },
     "metadata": {
      "needs_background": "light"
     },
     "output_type": "display_data"
    }
   ],
   "source": [
    "plt.figure(figsize=(15,15))\n",
    "plt.title('Coeficiente de Correlación de Pearson entre los atributos', y=1.05, size=15)\n",
    "sns.heatmap(dataframe.astype(float).corr(), linewidths=0.1,vmax=1.0, square=True, cmap='viridis', linecolor='white', annot=True)"
   ]
  },
  {
   "cell_type": "markdown",
   "id": "5a505c3c",
   "metadata": {},
   "source": [
    "Vista la previsualización de las correlaciones decidimos eliminar los atributos *relationship* y *sex* que una alta correlación con otros y, tras probarlo en entrenamiento no varía el rendimiento."
   ]
  },
  {
   "cell_type": "code",
   "execution_count": 64,
   "id": "91cef123",
   "metadata": {},
   "outputs": [],
   "source": [
    "dataframe = dataframe.drop('relationship',axis=1)\n",
    "dataframe = dataframe.drop('sex',axis=1)"
   ]
  },
  {
   "cell_type": "code",
   "execution_count": 65,
   "id": "d375a137",
   "metadata": {},
   "outputs": [
    {
     "name": "stdout",
     "output_type": "stream",
     "text": [
      "[[39 1981 77516.0 ... 0.0 40.0 43832]\n",
      " [50 3862 83311.0 ... 0.0 13.0 43832]\n",
      " [38 33906 215646.0 ... 0.0 40.0 43832]\n",
      " ...\n",
      " [38 33906 374983.0 ... 0.0 50.0 43832]\n",
      " [44 33906 83891.0 ... 0.0 40.0 43832]\n",
      " [35 4494 182148.0 ... 0.0 60.0 43832]]\n",
      "['age', 'workclass', 'fnlwgt', 'education', 'education_num', 'marital_status', 'occupation', 'race', 'capital_gain', 'capital_loss', 'hours_per_week', 'native_country']\n"
     ]
    }
   ],
   "source": [
    "X = dataframe.to_numpy()\n",
    "\n",
    "# Separamos los nombres\n",
    "Names = dataframe.keys()\n",
    "Names = Names.tolist()\n",
    "X_names = Names\n",
    "\n",
    "print(X)\n",
    "print(X_names)"
   ]
  },
  {
   "cell_type": "markdown",
   "id": "87abeda8",
   "metadata": {},
   "source": [
    "## Escalado"
   ]
  },
  {
   "cell_type": "markdown",
   "id": "0e18a8c1",
   "metadata": {},
   "source": [
    "El siguiente paso consiste en normalizar los datos por las diferentes escalas que poseen los datos. Para ello podemos utilizar dos técnicas: escalado por máximo y estandarizado. Se probarán los normalizados para comprobar sus valores."
   ]
  },
  {
   "cell_type": "code",
   "execution_count": 66,
   "id": "03d49c31",
   "metadata": {},
   "outputs": [],
   "source": [
    "def escalado(data,tipo):\n",
    "    if tipo == 'StandardScaler':\n",
    "        z_scaler = preprocessing.StandardScaler()\n",
    "        X = z_scaler.fit_transform(data)\n",
    "    elif tipo == 'MinMaxScaler':\n",
    "        z_scaler = preprocessing.MinMaxScaler() \n",
    "        X = z_scaler.fit_transform(data)\n",
    "    elif tipo == 'Normalize':\n",
    "        X = preprocessing.normalize(data) \n",
    "\n",
    "    #print(pd.DataFrame(X))\n",
    "    return X"
   ]
  },
  {
   "cell_type": "code",
   "execution_count": 67,
   "id": "c50f65b7",
   "metadata": {},
   "outputs": [],
   "source": [
    "X = escalado(data=X,tipo='StandardScaler')"
   ]
  },
  {
   "cell_type": "markdown",
   "id": "c9a43921",
   "metadata": {},
   "source": [
    "## PCA (Principal Components Analysis)\n",
    "Realizamos por tanto la reducción de características aplicando PCA y poder visualizar las clases en el espacio 3d."
   ]
  },
  {
   "cell_type": "code",
   "execution_count": 26,
   "id": "10b8bb9a",
   "metadata": {},
   "outputs": [],
   "source": [
    "def PCA_analisis(x_data, y_data, n, y_angle, z_angle):\n",
    "    pca = PCA(n_components=n)\n",
    "    pca.fit(x_data)\n",
    "    pca_data = pca.transform(x_data)\n",
    "    \n",
    "    # Dibujamos un Scree Plot para ver la varianza asociada a cada componente principal\n",
    "    labels=[]\n",
    "    per_var = np.round(pca.explained_variance_ratio_* 100, decimals=1)\n",
    "    aux = 0\n",
    "    labels = ['' + str(x) for x in range(1, len(per_var)+1)]\n",
    "    for k in range(0, len(per_var),2):\n",
    "        labels[k]=' '\n",
    "\n",
    "    plt.bar(x=range(1,len(per_var)+1), height=per_var, tick_label=labels)\n",
    "    plt.ylabel('Porcentaje de varianza (%)')\n",
    "    plt.xlabel('Componente principal')\n",
    "    plt.title('Scree Plot')\n",
    "    plt.show()\n",
    "    \n",
    "    # Dibujamos la proyección de las instancias sobre el plano formado por PC1, PC2 y PC3\n",
    "    fig = plt.figure(figsize=(10,10))\n",
    "    ax = fig.add_subplot(111, projection='3d')\n",
    "    pca_1 = []\n",
    "    pca_2 = []\n",
    "\n",
    "    for i in range(len(y_data)):\n",
    "        if y_data[i] == 1:\n",
    "            pca_1.append(pca_data[i])\n",
    "        if y_data[i] == 2:\n",
    "            pca_2.append(pca_data[i])\n",
    "\n",
    "    pca_1 = np.array(pca_1)\n",
    "    pca_2 = np.array(pca_2)\n",
    "\n",
    "    ax.scatter(pca_1[:,0], pca_1[:,1], pca_1[:,2], c='r', marker='o', label='<=50K')\n",
    "    ax.scatter(pca_2[:,0], pca_2[:,1], pca_2[:,2], c='b', marker='o', label='>50K')\n",
    "    \n",
    "    ax.set_xlabel('PC1 - {0}%'.format(per_var[0]))\n",
    "    ax.set_ylabel('PC2 - {0}%'.format(per_var[1]))\n",
    "    ax.set_zlabel('PC3 - {0}%'.format(per_var[2]))\n",
    "\n",
    "    ax.legend()\n",
    "    ax.view_init(y_angle, z_angle)\n",
    "    plt.show()\n",
    "    \n",
    "    return pca_data"
   ]
  },
  {
   "cell_type": "code",
   "execution_count": 24,
   "id": "73325570",
   "metadata": {},
   "outputs": [
    {
     "data": {
      "image/png": "[encoded data removed]",
      "text/plain": [
       "<Figure size 432x288 with 1 Axes>"
      ]
     },
     "metadata": {
      "needs_background": "light"
     },
     "output_type": "display_data"
    },
    {
     "data": {
      "image/png": "[encoded data removed]",
      "text/plain": [
       "<Figure size 720x720 with 1 Axes>"
      ]
     },
     "metadata": {
      "needs_background": "light"
     },
     "output_type": "display_data"
    },
    {
     "data": {
      "text/plain": [
       "array([[ 1.53489342, -0.28541505,  0.77245367, ...,  0.20382027,\n",
       "         0.68512291,  0.10134053],\n",
       "       [ 1.248948  , -0.32184945,  1.09092314, ..., -1.6840005 ,\n",
       "         0.03397629, -0.40456219],\n",
       "       [-1.57013797, -1.1467632 ,  0.42042669, ...,  0.84825634,\n",
       "         0.37598071, -0.94803474],\n",
       "       ...,\n",
       "       [ 1.08748989,  0.21673142, -1.71446105, ..., -0.21549979,\n",
       "        -0.49563187, -0.40965184],\n",
       "       [ 0.13770624,  1.2580821 ,  0.05492769, ...,  0.86587364,\n",
       "        -1.3233765 , -0.42707809],\n",
       "       [ 2.10021367, -0.06565213, -0.06732288, ...,  0.43812335,\n",
       "         0.51056721,  0.58802209]])"
      ]
     },
     "execution_count": 24,
     "metadata": {},
     "output_type": "execute_result"
    }
   ],
   "source": [
    "PCA_analisis(X,y_data,12,30,45)"
   ]
  },
  {
   "cell_type": "markdown",
   "id": "3973af9a",
   "metadata": {},
   "source": [
    "Visualizando el scree plot la varianza se reparte equitativamente en todas las componentes principales del conjunto excepto en la primera y en la última componente, por lo que realemente reducir la dimensionalidad empeorará los resultados a obtener por el modelo de predicción.\n",
    "\n",
    "Además, podemos ver que las clases están equiespaciadas y divididas en dos grupos que, a priori y en 3 dimensiones, no son linealmente separables, lo que dificultará la tarea de predicción."
   ]
  },
  {
   "cell_type": "markdown",
   "id": "e5737fa5",
   "metadata": {},
   "source": [
    "## Detección de Outliers (Isolation Forest)\n",
    "Antes de comenzar con el aprendizaje vamos a realizar un estudio de outliers utilizando Isolation Forest de sklearn."
   ]
  },
  {
   "cell_type": "code",
   "execution_count": 92,
   "id": "a5073fe6",
   "metadata": {},
   "outputs": [],
   "source": [
    "def outlier_isolation(x_data,y_data, depth):\n",
    "    out_filter=IsolationForest(n_estimators=100, max_samples='auto', contamination=depth,max_features=1.0)\n",
    "    out_filter.fit(pd.DataFrame(x_data))\n",
    "    \n",
    "    scores = out_filter.predict(pd.DataFrame(x_data))\n",
    "    anomaly = out_filter.decision_function(pd.DataFrame(x_data))\n",
    "    print('Numero de outliers:',abs(sum(scores[scores == -1])))\n",
    "    #scores = scores.tolist()\n",
    "\n",
    "    x_reduce = x_data[scores == 1]\n",
    "    y_reduce = y_data[scores == 1]\n",
    "    \n",
    "    return x_reduce, y_reduce"
   ]
  },
  {
   "cell_type": "code",
   "execution_count": 93,
   "id": "c4547f30",
   "metadata": {},
   "outputs": [
    {
     "name": "stdout",
     "output_type": "stream",
     "text": [
      "Numero de outliers: 4885\n"
     ]
    }
   ],
   "source": [
    "x_reduce,y_reduce = outlier_isolation(X,y_data,0.1)"
   ]
  },
  {
   "cell_type": "code",
   "execution_count": 34,
   "id": "56065a0f",
   "metadata": {},
   "outputs": [],
   "source": [
    "# Ejecutar para eliminar outliers en el aprendizaje\n",
    "X = x_reduce\n",
    "y_data = y_reduce"
   ]
  },
  {
   "cell_type": "code",
   "execution_count": 94,
   "id": "f72bb0b5",
   "metadata": {},
   "outputs": [
    {
     "name": "stdout",
     "output_type": "stream",
     "text": [
      "(4885, 12)\n",
      "(4885, 1)\n"
     ]
    }
   ],
   "source": [
    "print(x_reduce.shape)\n",
    "print(y_reduce.shape)"
   ]
  },
  {
   "cell_type": "markdown",
   "id": "05313b30",
   "metadata": {},
   "source": [
    "# 3. APRENDIZAJE DEL MODELO\n",
    "Para realizar el aprendizaje para la predicción utilizaremos varios modelos. La idea es obtener la probabilidad de pertenencia a una clase u otra, por lo que utilizaremos modelos de regresión logística y SVM con la opción de obtener la probabilidad de predicción."
   ]
  },
  {
   "cell_type": "code",
   "execution_count": 284,
   "id": "0fede7af",
   "metadata": {},
   "outputs": [
    {
     "name": "stdout",
     "output_type": "stream",
     "text": [
      "Dimensiones de X: (36631, 12)\n",
      "Dimensiones de Y: (36631, 1)\n"
     ]
    }
   ],
   "source": [
    "Y = y_data.astype('int')\n",
    "X_train, X_test, y_train, y_test = train_test_split(X, Y, \n",
    "                                                    random_state=20,test_size=0.25)\n",
    "print(\"Dimensiones de X:\",X_train.shape)\n",
    "print(\"Dimensiones de Y:\",y_train.shape)"
   ]
  },
  {
   "cell_type": "markdown",
   "id": "1f1f736d",
   "metadata": {},
   "source": [
    "### Regresión Logística"
   ]
  },
  {
   "cell_type": "markdown",
   "id": "8fb7f6d8",
   "metadata": {},
   "source": [
    "Comenzamos con el modelo de regresión logística integrado en sklearn."
   ]
  },
  {
   "cell_type": "code",
   "execution_count": 301,
   "id": "26307390",
   "metadata": {},
   "outputs": [],
   "source": [
    "model = LogisticRegression(solver='saga', random_state=20, C=0.1,\n",
    "                           penalty='elasticnet', l1_ratio=0.5).fit(X_train, y_train)"
   ]
  },
  {
   "cell_type": "code",
   "execution_count": 302,
   "id": "53d6560a",
   "metadata": {},
   "outputs": [
    {
     "name": "stdout",
     "output_type": "stream",
     "text": [
      "Rendimiento en el conjunto de entrenamiento: 0.8392072288498812\n",
      "Rendimiento en el conjunto de prueba: 0.8366227172221767\n",
      "Rendimiento en el conjunto total: 0.8385610744850743\n"
     ]
    }
   ],
   "source": [
    "print(\"Rendimiento en el conjunto de entrenamiento:\",model.score(X_train,y_train))\n",
    "print(\"Rendimiento en el conjunto de prueba:\",model.score(X_test,y_test))\n",
    "print(\"Rendimiento en el conjunto total:\",model.score(X,Y))"
   ]
  },
  {
   "cell_type": "code",
   "execution_count": 300,
   "id": "9872ab30",
   "metadata": {},
   "outputs": [
    {
     "name": "stdout",
     "output_type": "stream",
     "text": [
      "Modelo: {'C': 0.001, 'l1_ratio': 0, 'penalty': 'elasticnet', 'solver': 'saga'} ✓\n",
      "Modelo: {'C': 0.001, 'l1_ratio': 0.01, 'penalty': 'elasticnet', 'solver': 'saga'} ✓\n",
      "Modelo: {'C': 0.001, 'l1_ratio': 0.1, 'penalty': 'elasticnet', 'solver': 'saga'} ✓\n",
      "Modelo: {'C': 0.001, 'l1_ratio': 0.5, 'penalty': 'elasticnet', 'solver': 'saga'} ✓\n",
      "Modelo: {'C': 0.001, 'l1_ratio': 1, 'penalty': 'elasticnet', 'solver': 'saga'} ✓\n",
      "Modelo: {'C': 0.01, 'l1_ratio': 0, 'penalty': 'elasticnet', 'solver': 'saga'} ✓\n",
      "Modelo: {'C': 0.01, 'l1_ratio': 0.01, 'penalty': 'elasticnet', 'solver': 'saga'} ✓\n",
      "Modelo: {'C': 0.01, 'l1_ratio': 0.1, 'penalty': 'elasticnet', 'solver': 'saga'} ✓\n",
      "Modelo: {'C': 0.01, 'l1_ratio': 0.5, 'penalty': 'elasticnet', 'solver': 'saga'} ✓\n",
      "Modelo: {'C': 0.01, 'l1_ratio': 1, 'penalty': 'elasticnet', 'solver': 'saga'} ✓\n",
      "Modelo: {'C': 0.1, 'l1_ratio': 0, 'penalty': 'elasticnet', 'solver': 'saga'} ✓\n",
      "Modelo: {'C': 0.1, 'l1_ratio': 0.01, 'penalty': 'elasticnet', 'solver': 'saga'} ✓\n",
      "Modelo: {'C': 0.1, 'l1_ratio': 0.1, 'penalty': 'elasticnet', 'solver': 'saga'} ✓\n",
      "Modelo: {'C': 0.1, 'l1_ratio': 0.5, 'penalty': 'elasticnet', 'solver': 'saga'} ✓\n",
      "Modelo: {'C': 0.1, 'l1_ratio': 1, 'penalty': 'elasticnet', 'solver': 'saga'} ✓\n",
      "Modelo: {'C': 1.0, 'l1_ratio': 0, 'penalty': 'elasticnet', 'solver': 'saga'} ✓\n",
      "Modelo: {'C': 1.0, 'l1_ratio': 0.01, 'penalty': 'elasticnet', 'solver': 'saga'} ✓\n",
      "Modelo: {'C': 1.0, 'l1_ratio': 0.1, 'penalty': 'elasticnet', 'solver': 'saga'} ✓\n",
      "Modelo: {'C': 1.0, 'l1_ratio': 0.5, 'penalty': 'elasticnet', 'solver': 'saga'} ✓\n",
      "Modelo: {'C': 1.0, 'l1_ratio': 1, 'penalty': 'elasticnet', 'solver': 'saga'} ✓\n",
      "Modelo: {'C': 10.0, 'l1_ratio': 0, 'penalty': 'elasticnet', 'solver': 'saga'} ✓\n",
      "Modelo: {'C': 10.0, 'l1_ratio': 0.01, 'penalty': 'elasticnet', 'solver': 'saga'} ✓\n",
      "Modelo: {'C': 10.0, 'l1_ratio': 0.1, 'penalty': 'elasticnet', 'solver': 'saga'} ✓\n",
      "Modelo: {'C': 10.0, 'l1_ratio': 0.5, 'penalty': 'elasticnet', 'solver': 'saga'} ✓\n",
      "Modelo: {'C': 10.0, 'l1_ratio': 1, 'penalty': 'elasticnet', 'solver': 'saga'} ✓\n",
      "Modelo: {'C': 100.0, 'l1_ratio': 0, 'penalty': 'elasticnet', 'solver': 'saga'} ✓\n",
      "Modelo: {'C': 100.0, 'l1_ratio': 0.01, 'penalty': 'elasticnet', 'solver': 'saga'} ✓\n",
      "Modelo: {'C': 100.0, 'l1_ratio': 0.1, 'penalty': 'elasticnet', 'solver': 'saga'} ✓\n",
      "Modelo: {'C': 100.0, 'l1_ratio': 0.5, 'penalty': 'elasticnet', 'solver': 'saga'} ✓\n",
      "Modelo: {'C': 100.0, 'l1_ratio': 1, 'penalty': 'elasticnet', 'solver': 'saga'} ✓\n",
      "Modelo: {'C': 1000.0, 'l1_ratio': 0, 'penalty': 'elasticnet', 'solver': 'saga'} ✓\n",
      "Modelo: {'C': 1000.0, 'l1_ratio': 0.01, 'penalty': 'elasticnet', 'solver': 'saga'} ✓\n",
      "Modelo: {'C': 1000.0, 'l1_ratio': 0.1, 'penalty': 'elasticnet', 'solver': 'saga'} ✓\n",
      "Modelo: {'C': 1000.0, 'l1_ratio': 0.5, 'penalty': 'elasticnet', 'solver': 'saga'} ✓\n",
      "Modelo: {'C': 1000.0, 'l1_ratio': 1, 'penalty': 'elasticnet', 'solver': 'saga'} ✓\n"
     ]
    },
    {
     "data": {
      "text/html": [
       "<div>\n",
       "<style scoped>\n",
       "    .dataframe tbody tr th:only-of-type {\n",
       "        vertical-align: middle;\n",
       "    }\n",
       "\n",
       "    .dataframe tbody tr th {\n",
       "        vertical-align: top;\n",
       "    }\n",
       "\n",
       "    .dataframe thead th {\n",
       "        text-align: right;\n",
       "    }\n",
       "</style>\n",
       "<table border=\"1\" class=\"dataframe\">\n",
       "  <thead>\n",
       "    <tr style=\"text-align: right;\">\n",
       "      <th></th>\n",
       "      <th>oob_accuracy</th>\n",
       "      <th>C</th>\n",
       "      <th>l1_ratio</th>\n",
       "      <th>penalty</th>\n",
       "      <th>solver</th>\n",
       "    </tr>\n",
       "  </thead>\n",
       "  <tbody>\n",
       "    <tr>\n",
       "      <th>13</th>\n",
       "      <td>0.836623</td>\n",
       "      <td>0.1</td>\n",
       "      <td>0.50</td>\n",
       "      <td>elasticnet</td>\n",
       "      <td>saga</td>\n",
       "    </tr>\n",
       "    <tr>\n",
       "      <th>34</th>\n",
       "      <td>0.836541</td>\n",
       "      <td>1000.0</td>\n",
       "      <td>1.00</td>\n",
       "      <td>elasticnet</td>\n",
       "      <td>saga</td>\n",
       "    </tr>\n",
       "    <tr>\n",
       "      <th>25</th>\n",
       "      <td>0.836541</td>\n",
       "      <td>100.0</td>\n",
       "      <td>0.00</td>\n",
       "      <td>elasticnet</td>\n",
       "      <td>saga</td>\n",
       "    </tr>\n",
       "    <tr>\n",
       "      <th>21</th>\n",
       "      <td>0.836541</td>\n",
       "      <td>10.0</td>\n",
       "      <td>0.01</td>\n",
       "      <td>elasticnet</td>\n",
       "      <td>saga</td>\n",
       "    </tr>\n",
       "    <tr>\n",
       "      <th>22</th>\n",
       "      <td>0.836541</td>\n",
       "      <td>10.0</td>\n",
       "      <td>0.10</td>\n",
       "      <td>elasticnet</td>\n",
       "      <td>saga</td>\n",
       "    </tr>\n",
       "    <tr>\n",
       "      <th>14</th>\n",
       "      <td>0.836541</td>\n",
       "      <td>0.1</td>\n",
       "      <td>1.00</td>\n",
       "      <td>elasticnet</td>\n",
       "      <td>saga</td>\n",
       "    </tr>\n",
       "    <tr>\n",
       "      <th>23</th>\n",
       "      <td>0.836541</td>\n",
       "      <td>10.0</td>\n",
       "      <td>0.50</td>\n",
       "      <td>elasticnet</td>\n",
       "      <td>saga</td>\n",
       "    </tr>\n",
       "    <tr>\n",
       "      <th>24</th>\n",
       "      <td>0.836541</td>\n",
       "      <td>10.0</td>\n",
       "      <td>1.00</td>\n",
       "      <td>elasticnet</td>\n",
       "      <td>saga</td>\n",
       "    </tr>\n",
       "    <tr>\n",
       "      <th>26</th>\n",
       "      <td>0.836541</td>\n",
       "      <td>100.0</td>\n",
       "      <td>0.01</td>\n",
       "      <td>elasticnet</td>\n",
       "      <td>saga</td>\n",
       "    </tr>\n",
       "    <tr>\n",
       "      <th>27</th>\n",
       "      <td>0.836541</td>\n",
       "      <td>100.0</td>\n",
       "      <td>0.10</td>\n",
       "      <td>elasticnet</td>\n",
       "      <td>saga</td>\n",
       "    </tr>\n",
       "  </tbody>\n",
       "</table>\n",
       "</div>"
      ],
      "text/plain": [
       "    oob_accuracy       C  l1_ratio     penalty solver\n",
       "13      0.836623     0.1      0.50  elasticnet   saga\n",
       "34      0.836541  1000.0      1.00  elasticnet   saga\n",
       "25      0.836541   100.0      0.00  elasticnet   saga\n",
       "21      0.836541    10.0      0.01  elasticnet   saga\n",
       "22      0.836541    10.0      0.10  elasticnet   saga\n",
       "14      0.836541     0.1      1.00  elasticnet   saga\n",
       "23      0.836541    10.0      0.50  elasticnet   saga\n",
       "24      0.836541    10.0      1.00  elasticnet   saga\n",
       "26      0.836541   100.0      0.01  elasticnet   saga\n",
       "27      0.836541   100.0      0.10  elasticnet   saga"
      ]
     },
     "execution_count": 300,
     "metadata": {},
     "output_type": "execute_result"
    }
   ],
   "source": [
    "param_grid = ParameterGrid(\n",
    "                {\n",
    "                    'solver':['saga'], # 'lbfgs', 'liblinear'\n",
    "                    'C':np.logspace(-3,3,7), \n",
    "                    'penalty':['elasticnet'], #,'l2','elasticnet'\n",
    "                    'l1_ratio':[0,0.01,0.1,0.5,1]\n",
    "                }\n",
    "            )\n",
    "\n",
    "resultados = {'params': [], 'oob_accuracy': []}\n",
    "\n",
    "for params in param_grid:\n",
    "    \n",
    "    modelo=LogisticRegression(                \n",
    "                random_state = 20,\n",
    "                ** params\n",
    "                )\n",
    "    \n",
    "    modelo.fit(X_train, y_train)\n",
    "    \n",
    "    resultados['params'].append(params)\n",
    "    resultados['oob_accuracy'].append(modelo.score(X_test,y_test))\n",
    "    print(f\"Modelo: {params} \\u2713\")\n",
    "\n",
    "resultados = pd.DataFrame(resultados)\n",
    "resultados = pd.concat([resultados, resultados['params'].apply(pd.Series)], axis=1)\n",
    "resultados = resultados.sort_values('oob_accuracy', ascending=False)\n",
    "resultados = resultados.drop(columns = 'params')\n",
    "resultados.head(10)"
   ]
  },
  {
   "cell_type": "markdown",
   "id": "e84e3dc3",
   "metadata": {},
   "source": [
    "## Support Vector Machine (SVM)"
   ]
  },
  {
   "cell_type": "code",
   "execution_count": 72,
   "id": "01865ddd",
   "metadata": {},
   "outputs": [
    {
     "ename": "KeyboardInterrupt",
     "evalue": "",
     "output_type": "error",
     "traceback": [
      "\u001b[1;31m---------------------------------------------------------------------------\u001b[0m",
      "\u001b[1;31mKeyboardInterrupt\u001b[0m                         Traceback (most recent call last)",
      "\u001b[1;32m~\\AppData\\Local\\Temp/ipykernel_3256/4139091101.py\u001b[0m in \u001b[0;36m<module>\u001b[1;34m\u001b[0m\n\u001b[0;32m      1\u001b[0m \u001b[1;32mfrom\u001b[0m \u001b[0msklearn\u001b[0m \u001b[1;32mimport\u001b[0m \u001b[0msvm\u001b[0m\u001b[1;33m\u001b[0m\u001b[1;33m\u001b[0m\u001b[0m\n\u001b[1;32m----> 2\u001b[1;33m \u001b[0mmodel\u001b[0m \u001b[1;33m=\u001b[0m \u001b[0msvm\u001b[0m\u001b[1;33m.\u001b[0m\u001b[0mSVC\u001b[0m\u001b[1;33m(\u001b[0m\u001b[0mkernel\u001b[0m\u001b[1;33m=\u001b[0m\u001b[1;34m'rbf'\u001b[0m\u001b[1;33m,\u001b[0m \u001b[0mC\u001b[0m\u001b[1;33m=\u001b[0m\u001b[1;36m1\u001b[0m\u001b[1;33m,\u001b[0m \u001b[0mprobability\u001b[0m\u001b[1;33m=\u001b[0m\u001b[1;32mTrue\u001b[0m\u001b[1;33m)\u001b[0m\u001b[1;33m.\u001b[0m\u001b[0mfit\u001b[0m\u001b[1;33m(\u001b[0m\u001b[0mX_train\u001b[0m\u001b[1;33m,\u001b[0m \u001b[0my_train\u001b[0m\u001b[1;33m)\u001b[0m\u001b[1;33m\u001b[0m\u001b[1;33m\u001b[0m\u001b[0m\n\u001b[0m",
      "\u001b[1;32m~\\anaconda3\\lib\\site-packages\\sklearn\\svm\\_base.py\u001b[0m in \u001b[0;36mfit\u001b[1;34m(self, X, y, sample_weight)\u001b[0m\n\u001b[0;32m    253\u001b[0m \u001b[1;33m\u001b[0m\u001b[0m\n\u001b[0;32m    254\u001b[0m         \u001b[0mseed\u001b[0m \u001b[1;33m=\u001b[0m \u001b[0mrnd\u001b[0m\u001b[1;33m.\u001b[0m\u001b[0mrandint\u001b[0m\u001b[1;33m(\u001b[0m\u001b[0mnp\u001b[0m\u001b[1;33m.\u001b[0m\u001b[0miinfo\u001b[0m\u001b[1;33m(\u001b[0m\u001b[1;34m\"i\"\u001b[0m\u001b[1;33m)\u001b[0m\u001b[1;33m.\u001b[0m\u001b[0mmax\u001b[0m\u001b[1;33m)\u001b[0m\u001b[1;33m\u001b[0m\u001b[1;33m\u001b[0m\u001b[0m\n\u001b[1;32m--> 255\u001b[1;33m         \u001b[0mfit\u001b[0m\u001b[1;33m(\u001b[0m\u001b[0mX\u001b[0m\u001b[1;33m,\u001b[0m \u001b[0my\u001b[0m\u001b[1;33m,\u001b[0m \u001b[0msample_weight\u001b[0m\u001b[1;33m,\u001b[0m \u001b[0msolver_type\u001b[0m\u001b[1;33m,\u001b[0m \u001b[0mkernel\u001b[0m\u001b[1;33m,\u001b[0m \u001b[0mrandom_seed\u001b[0m\u001b[1;33m=\u001b[0m\u001b[0mseed\u001b[0m\u001b[1;33m)\u001b[0m\u001b[1;33m\u001b[0m\u001b[1;33m\u001b[0m\u001b[0m\n\u001b[0m\u001b[0;32m    256\u001b[0m         \u001b[1;31m# see comment on the other call to np.iinfo in this file\u001b[0m\u001b[1;33m\u001b[0m\u001b[1;33m\u001b[0m\u001b[0m\n\u001b[0;32m    257\u001b[0m \u001b[1;33m\u001b[0m\u001b[0m\n",
      "\u001b[1;32m~\\anaconda3\\lib\\site-packages\\sklearn\\svm\\_base.py\u001b[0m in \u001b[0;36m_dense_fit\u001b[1;34m(self, X, y, sample_weight, solver_type, kernel, random_seed)\u001b[0m\n\u001b[0;32m    313\u001b[0m             \u001b[0mself\u001b[0m\u001b[1;33m.\u001b[0m\u001b[0m_probB\u001b[0m\u001b[1;33m,\u001b[0m\u001b[1;33m\u001b[0m\u001b[1;33m\u001b[0m\u001b[0m\n\u001b[0;32m    314\u001b[0m             \u001b[0mself\u001b[0m\u001b[1;33m.\u001b[0m\u001b[0mfit_status_\u001b[0m\u001b[1;33m,\u001b[0m\u001b[1;33m\u001b[0m\u001b[1;33m\u001b[0m\u001b[0m\n\u001b[1;32m--> 315\u001b[1;33m         \u001b[1;33m)\u001b[0m \u001b[1;33m=\u001b[0m \u001b[0mlibsvm\u001b[0m\u001b[1;33m.\u001b[0m\u001b[0mfit\u001b[0m\u001b[1;33m(\u001b[0m\u001b[1;33m\u001b[0m\u001b[1;33m\u001b[0m\u001b[0m\n\u001b[0m\u001b[0;32m    316\u001b[0m             \u001b[0mX\u001b[0m\u001b[1;33m,\u001b[0m\u001b[1;33m\u001b[0m\u001b[1;33m\u001b[0m\u001b[0m\n\u001b[0;32m    317\u001b[0m             \u001b[0my\u001b[0m\u001b[1;33m,\u001b[0m\u001b[1;33m\u001b[0m\u001b[1;33m\u001b[0m\u001b[0m\n",
      "\u001b[1;31mKeyboardInterrupt\u001b[0m: "
     ]
    }
   ],
   "source": [
    "model = svm.SVC(kernel='rbf', C=1, probability=True).fit(X_train, y_train)"
   ]
  },
  {
   "cell_type": "code",
   "execution_count": 40,
   "id": "3905f57f",
   "metadata": {},
   "outputs": [
    {
     "name": "stdout",
     "output_type": "stream",
     "text": [
      "Rendimiento en el conjunto de entrenamiento:  0.8409317471921314\n",
      "Rendimiento en el conjunto de prueba:  0.8415736310473153\n",
      "Rendimiento en el conjunto total:  0.8410601307884523\n"
     ]
    }
   ],
   "source": [
    "print(\"Rendimiento en el conjunto de entrenamiento:\",model.score(X_train,y_train))\n",
    "print(\"Rendimiento en el conjunto de prueba:\",model.score(X_test,y_test))\n",
    "#print(\"Rendimiento en el conjunto total:\",model.score(X,Y))"
   ]
  },
  {
   "cell_type": "markdown",
   "id": "3e48cc97",
   "metadata": {},
   "source": [
    "## Cross validation\n",
    "Una vez que hemos entrenado los modelos correspondientes y analizado su rendimiento podemos realizar un estudio de validación cruzada con el conjunto de datos para comprobar que realmente el resultado obtenido es fiable y que no existe ningún problema al tomar los datos de entrenamiento y test."
   ]
  },
  {
   "cell_type": "code",
   "execution_count": 72,
   "id": "cb3790c6",
   "metadata": {},
   "outputs": [
    {
     "name": "stdout",
     "output_type": "stream",
     "text": [
      "[0.80636605 0.81697613 0.80636605 0.83023873 0.83554377 0.84084881\n",
      " 0.85145889 0.80371353 0.81167109 0.84350133 0.82493369 0.83289125\n",
      " 0.83289125 0.80901857 0.80636605 0.83819629 0.85941645 0.81962865\n",
      " 0.82712766 0.85638298 0.78989362 0.84574468 0.81117021 0.85106383\n",
      " 0.79787234 0.83510638 0.81117021 0.81382979 0.80319149 0.83776596\n",
      " 0.84308511 0.83776596 0.84042553 0.81382979 0.81382979 0.83244681\n",
      " 0.85106383 0.84308511 0.81117021 0.85106383 0.80319149 0.81117021\n",
      " 0.84308511 0.81117021 0.83776596 0.82180851 0.82712766 0.81914894\n",
      " 0.8856383  0.82180851 0.83510638 0.84840426 0.82180851 0.83510638\n",
      " 0.82446809 0.85106383 0.84840426 0.84308511 0.82446809 0.82978723\n",
      " 0.83776596 0.81382979 0.83776596 0.81648936 0.84308511 0.80851064\n",
      " 0.81117021 0.80851064 0.81648936 0.82978723 0.81117021 0.82180851\n",
      " 0.85638298 0.80851064 0.82712766 0.85638298 0.84042553 0.83510638\n",
      " 0.81382979 0.82446809 0.81382979 0.82180851 0.79521277 0.80851064\n",
      " 0.84840426 0.83244681 0.81648936 0.84308511 0.80585106 0.82446809\n",
      " 0.83510638 0.82978723 0.84840426 0.81648936 0.8537234  0.82446809\n",
      " 0.82712766 0.8537234  0.83776596 0.84308511]\n",
      "0.82830 accuracy with a standard deviation of 0.01722\n"
     ]
    }
   ],
   "source": [
    "scores = cross_val_score(model, X, Y, cv=100)\n",
    "print(scores)\n",
    "print(\"%0.5f accuracy with a standard deviation of %0.5f\" % (scores.mean(), scores.std()))"
   ]
  },
  {
   "cell_type": "markdown",
   "id": "0a3740cd",
   "metadata": {},
   "source": [
    "Realizando el estudio de validación cruzada nos damos cuenta que obtenemos los resultados esperados y similar al rendimiento obtenido de la accuracy para el conjunto de test creado. Esto se debe a que el conjunto es bastante grande y las clases están equilibradas y equiespaciadas, por lo que al dividir el conjunto en k etapas, los resultados son los mismos. "
   ]
  },
  {
   "cell_type": "code",
   "execution_count": 44,
   "id": "0fcd3b6e",
   "metadata": {},
   "outputs": [
    {
     "name": "stdout",
     "output_type": "stream",
     "text": [
      "[[-1.34665856  0.13638993  0.19169232]\n",
      " [-2.51248836 -1.16614403 -0.34120448]\n",
      " [ 1.70718072 -1.7698325  -0.56032706]\n",
      " ...\n",
      " [-0.8100615   0.92678086 -0.55549454]\n",
      " [-3.56931035 -0.562873    2.55496783]\n",
      " [ 0.0751603  -1.14675441 -0.66752116]]\n",
      "[[1]\n",
      " [1]\n",
      " [2]\n",
      " ...\n",
      " [1]\n",
      " [1]\n",
      " [1]]\n",
      "Dimensiones de X: (36177, 3)\n",
      "Dimensiones de Y: (36177, 1)\n"
     ]
    }
   ],
   "source": [
    "Y = y_data.astype('int')\n",
    "X_train, X_test, y_train, y_test = train_test_split(pca_data, Y, \n",
    "                                                    random_state=20,test_size=0.20)\n",
    "print(X_train)\n",
    "print(y_train)\n",
    "print(\"Dimensiones de X:\",X_train.shape)\n",
    "print(\"Dimensiones de Y:\",y_train.shape)"
   ]
  },
  {
   "cell_type": "code",
   "execution_count": 74,
   "id": "d685825c",
   "metadata": {},
   "outputs": [
    {
     "name": "stdout",
     "output_type": "stream",
     "text": [
      "Rendimiento en el conjunto de entrenamiento:  0.8075020040357133\n",
      "Rendimiento en el conjunto de prueba:  0.8086235489220563\n",
      "Rendimiento en el conjunto total:  0.8077263278935032\n"
     ]
    }
   ],
   "source": [
    "model = LogisticRegression(solver='saga', random_state=20, \n",
    "                           penalty='elasticnet', max_iter=100, l1_ratio=0.5).fit(X_train, y_train)\n",
    "print(\"Rendimiento en el conjunto de entrenamiento: \",model.score(X_train,y_train))\n",
    "print(\"Rendimiento en el conjunto de prueba: \",model.score(X_test,y_test))\n",
    "print(\"Rendimiento en el conjunto total: \",model.score(pca_data,Y))"
   ]
  },
  {
   "cell_type": "code",
   "execution_count": 47,
   "id": "e6810b34",
   "metadata": {},
   "outputs": [
    {
     "name": "stdout",
     "output_type": "stream",
     "text": [
      "Rendimiento en el conjunto de entrenamiento:  0.8118417779252011\n",
      "Rendimiento en el conjunto de prueba:  0.8110558319513543\n",
      "Rendimiento en el conjunto total:  0.8116845783025961\n"
     ]
    }
   ],
   "source": [
    "model = svm.SVC(kernel='rbf', C=2).fit(X_train, y_train)\n",
    "print(\"Rendimiento en el conjunto de entrenamiento: \",model.score(X_train,y_train))\n",
    "print(\"Rendimiento en el conjunto de prueba: \",model.score(X_test,y_test))\n",
    "print(\"Rendimiento en el conjunto total: \",model.score(pca_data,Y))"
   ]
  },
  {
   "cell_type": "markdown",
   "id": "24c95673",
   "metadata": {},
   "source": [
    "A continuación, obtenemos diferentes métricas de calidad del modelo como precision, recall y f1 a partir de la matriz de confusión."
   ]
  },
  {
   "cell_type": "code",
   "execution_count": 168,
   "id": "194e9e33",
   "metadata": {},
   "outputs": [
    {
     "name": "stdout",
     "output_type": "stream",
     "text": [
      "[[6369  440]\n",
      " [1048 1188]]\n"
     ]
    },
    {
     "data": {
      "image/png": "[encoded data removed]",
      "text/plain": [
       "<Figure size 432x288 with 1 Axes>"
      ]
     },
     "metadata": {
      "needs_background": "light"
     },
     "output_type": "display_data"
    }
   ],
   "source": [
    "cm = confusion_matrix(y_test, model.predict(X_test))\n",
    "y_name = ['<=50k','>50k']\n",
    "print(cm)\n",
    "# crear marco de datos de pandas Crear un conjunto de datos\n",
    "dataframe = pd.DataFrame(cm/np.sum(cm), index=y_name, columns=y_name)\n",
    "\n",
    "# crear mapa de calor dibujar mapa de calor\n",
    "sns.heatmap(dataframe, annot=True, cbar=None, cmap=\"Blues\",vmin=0, vmax=1)\n",
    "plt.title(\"Matriz de confusión\"), plt.tight_layout()\n",
    "plt.ylabel(\"Valor real\"), plt.xlabel(\"Valor predicho\")\n",
    "plt.show()"
   ]
  },
  {
   "cell_type": "code",
   "execution_count": 165,
   "id": "68319c1e",
   "metadata": {},
   "outputs": [
    {
     "name": "stdout",
     "output_type": "stream",
     "text": [
      "Precision: 0.7297297297297297\n",
      "Recall: 0.5313059033989267\n",
      "F1: 0.6149068322981367\n"
     ]
    }
   ],
   "source": [
    "precision = cm[1][1] / (cm[1][1]+cm[0][1])\n",
    "recall = cm[1][1] / (cm[1][1]+cm[1][0])\n",
    "f1 = 2* precision*recall / (precision+recall)\n",
    "\n",
    "print('Precision:', precision)\n",
    "print('Recall:', recall)\n",
    "print('F1:', f1)"
   ]
  },
  {
   "cell_type": "markdown",
   "id": "3b603fab",
   "metadata": {},
   "source": [
    "A continuación, realizamos la representación de las curvas PR modificando la umbralización del modelo de regresión logística."
   ]
  },
  {
   "cell_type": "code",
   "execution_count": 166,
   "id": "994b7f99",
   "metadata": {},
   "outputs": [
    {
     "name": "stdout",
     "output_type": "stream",
     "text": [
      "[[1]\n",
      " [1]\n",
      " [1]\n",
      " ...\n",
      " [1]\n",
      " [1]\n",
      " [2]]\n",
      "[0.71582256 0.28417744]\n"
     ]
    }
   ],
   "source": [
    "print(y_test)\n",
    "y_pred = model.predict_proba(X_test)\n",
    "print(y_pred[0])"
   ]
  },
  {
   "cell_type": "code",
   "execution_count": 249,
   "id": "42083a3c",
   "metadata": {},
   "outputs": [
    {
     "name": "stdout",
     "output_type": "stream",
     "text": [
      "Umbral 0\n",
      "[[   0 6809]\n",
      " [   0 2236]]\n",
      "Precision: 0.24720840243228304\n",
      "Recall: 1.0\n",
      "F1: 0.3964187572023756\n",
      "Accuracy: 0.24720840243228304 \n",
      "\n",
      "Umbral 0.05\n",
      "[[2867 3942]\n",
      " [  70 2166]]\n",
      "Precision: 0.35461689587426326\n",
      "Recall: 0.9686940966010733\n",
      "F1: 0.5191754554170661\n",
      "Accuracy: 0.5564400221116639 \n",
      "\n",
      "Umbral 0.1\n",
      "[[3860 2949]\n",
      " [ 119 2117]]\n",
      "Precision: 0.41788393209632846\n",
      "Recall: 0.9467799642218246\n",
      "F1: 0.5798411394138592\n",
      "Accuracy: 0.6608070757324489 \n",
      "\n",
      "Umbral 0.15000000000000002\n",
      "[[4461 2348]\n",
      " [ 175 2061]]\n",
      "Precision: 0.46745293717396236\n",
      "Recall: 0.9217352415026834\n",
      "F1: 0.6203160270880361\n",
      "Accuracy: 0.72106135986733 \n",
      "\n",
      "Umbral 0.2\n",
      "[[4975 1834]\n",
      " [ 281 1955]]\n",
      "Precision: 0.5159672736869887\n",
      "Recall: 0.8743291592128801\n",
      "F1: 0.6489626556016598\n",
      "Accuracy: 0.7661691542288557 \n",
      "\n",
      "Umbral 0.25\n",
      "[[5374 1435]\n",
      " [ 396 1840]]\n",
      "Precision: 0.5618320610687023\n",
      "Recall: 0.8228980322003577\n",
      "F1: 0.6677553982943205\n",
      "Accuracy: 0.7975677169707021 \n",
      "\n",
      "Umbral 0.3\n",
      "[[5647 1162]\n",
      " [ 533 1703]]\n",
      "Precision: 0.5944153577661431\n",
      "Recall: 0.7616279069767442\n",
      "F1: 0.6677122132915114\n",
      "Accuracy: 0.8126036484245439 \n",
      "\n",
      "Umbral 0.35\n",
      "[[5869  940]\n",
      " [ 665 1571]]\n",
      "Precision: 0.6256471525288729\n",
      "Recall: 0.7025939177101967\n",
      "F1: 0.6618917210870023\n",
      "Accuracy: 0.8225538971807629 \n",
      "\n",
      "Umbral 0.39999999999999997\n",
      "[[6080  729]\n",
      " [ 796 1440]]\n",
      "Precision: 0.6639004149377593\n",
      "Recall: 0.6440071556350626\n",
      "F1: 0.6538024971623155\n",
      "Accuracy: 0.8313985627418463 \n",
      "\n",
      "Umbral 0.44999999999999996\n",
      "[[6247  562]\n",
      " [ 913 1323]]\n",
      "Precision: 0.7018567639257295\n",
      "Recall: 0.5916815742397138\n",
      "F1: 0.6420771657364718\n",
      "Accuracy: 0.8369264787175235 \n",
      "\n",
      "Umbral 0.49999999999999994\n",
      "[[6369  440]\n",
      " [1048 1188]]\n",
      "Precision: 0.7297297297297297\n",
      "Recall: 0.5313059033989267\n",
      "F1: 0.6149068322981367\n",
      "Accuracy: 0.8354892205638474 \n",
      "\n",
      "Umbral 0.5499999999999999\n",
      "[[6467  342]\n",
      " [1158 1078]]\n",
      "Precision: 0.7591549295774648\n",
      "Recall: 0.4821109123434705\n",
      "F1: 0.5897155361050329\n",
      "Accuracy: 0.8341625207296849 \n",
      "\n",
      "Umbral 0.6\n",
      "[[6549  260]\n",
      " [1258  978]]\n",
      "Precision: 0.789983844911147\n",
      "Recall: 0.43738819320214667\n",
      "F1: 0.5630397236614852\n",
      "Accuracy: 0.8321724709784412 \n",
      "\n",
      "Umbral 0.65\n",
      "[[6620  189]\n",
      " [1355  881]]\n",
      "Precision: 0.8233644859813084\n",
      "Recall: 0.3940071556350626\n",
      "F1: 0.5329703569267996\n",
      "Accuracy: 0.829297954671089 \n",
      "\n",
      "Umbral 0.7000000000000001\n",
      "[[6669  140]\n",
      " [1496  740]]\n",
      "Precision: 0.8409090909090909\n",
      "Recall: 0.33094812164579607\n",
      "F1: 0.47496790757381263\n",
      "Accuracy: 0.819126589275843 \n",
      "\n",
      "Umbral 0.7500000000000001\n",
      "[[6716   93]\n",
      " [1598  638]]\n",
      "Precision: 0.8727770177838577\n",
      "Recall: 0.2853309481216458\n",
      "F1: 0.43006403774856755\n",
      "Accuracy: 0.8130458817025982 \n",
      "\n",
      "Umbral 0.8000000000000002\n",
      "[[6748   61]\n",
      " [1709  527]]\n",
      "Precision: 0.8962585034013606\n",
      "Recall: 0.23568872987477638\n",
      "F1: 0.37322946175637395\n",
      "Accuracy: 0.8043117744610282 \n",
      "\n",
      "Umbral 0.8500000000000002\n",
      "[[6774   35]\n",
      " [1790  446]]\n",
      "Precision: 0.9272349272349273\n",
      "Recall: 0.19946332737030412\n",
      "F1: 0.32830327567169676\n",
      "Accuracy: 0.7982310668877833 \n",
      "\n",
      "Umbral 0.9000000000000002\n",
      "[[6787   22]\n",
      " [1888  348]]\n",
      "Precision: 0.9405405405405406\n",
      "Recall: 0.1556350626118068\n",
      "F1: 0.26707597851112813\n",
      "Accuracy: 0.7888336097291321 \n",
      "\n",
      "Umbral 0.9500000000000003\n",
      "[[6800    9]\n",
      " [1988  248]]\n",
      "Precision: 0.9649805447470817\n",
      "Recall: 0.11091234347048301\n",
      "F1: 0.19895707982350583\n",
      "Accuracy: 0.7792150359314538 \n",
      "\n"
     ]
    }
   ],
   "source": [
    "umbral = 0\n",
    "precision_list = []\n",
    "recall_list = []\n",
    "f1_list = []\n",
    "accuracy_list = []\n",
    "FPR_list = []\n",
    "while umbral <= 1:\n",
    "    proba = model.predict_proba(X_test)\n",
    "    y_pred = []\n",
    "    for i in range(0,len(proba)):\n",
    "        if proba[i][1] > umbral:\n",
    "            y_pred.append([2])\n",
    "        else:\n",
    "            y_pred.append([1])\n",
    "    #print(y_pred)\n",
    "    cm = confusion_matrix(y_test, y_pred)\n",
    "    print('Umbral',umbral)\n",
    "    print(cm)\n",
    "    \n",
    "    precision = cm[1][1] / (cm[1][1]+cm[0][1])\n",
    "    recall = cm[1][1] / (cm[1][1]+cm[1][0])\n",
    "    f1 = 2* precision*recall / (precision+recall)\n",
    "    accuracy = sum([cm[i,i] for i in range(0,2)]) / np.sum(cm)\n",
    "    FPR = cm[0][1] / (cm[0][0]+cm[0][1])\n",
    "    \n",
    "    print('Precision:', precision)\n",
    "    print('Recall:', recall)\n",
    "    print('F1:', f1)\n",
    "    print('Accuracy:', accuracy,'\\n')\n",
    "    \n",
    "    precision_list.append(precision)\n",
    "    recall_list.append(recall)\n",
    "    f1_list.append(f1)\n",
    "    accuracy_list.append(accuracy)\n",
    "    FPR_list.append(FPR)\n",
    "    \n",
    "    umbral += 0.05"
   ]
  },
  {
   "cell_type": "code",
   "execution_count": 250,
   "id": "7f12a237",
   "metadata": {},
   "outputs": [
    {
     "data": {
      "image/png": "[encoded data removed]",
      "text/plain": [
       "<Figure size 432x288 with 1 Axes>"
      ]
     },
     "metadata": {
      "needs_background": "light"
     },
     "output_type": "display_data"
    }
   ],
   "source": [
    "plt.plot(precision_list,recall_list)\n",
    "plt.xlabel('Precision')\n",
    "plt.ylabel('Recall')\n",
    "plt.title('Grafica PR')\n",
    "plt.show()"
   ]
  },
  {
   "cell_type": "code",
   "execution_count": 252,
   "id": "8ee77c54",
   "metadata": {},
   "outputs": [
    {
     "data": {
      "image/png": "[encoded data removed]",
      "text/plain": [
       "<Figure size 432x288 with 1 Axes>"
      ]
     },
     "metadata": {
      "needs_background": "light"
     },
     "output_type": "display_data"
    }
   ],
   "source": [
    "plt.plot(FPR_list,recall_list)\n",
    "plt.xlabel('False Positive Ratio')\n",
    "plt.ylabel('True Positive Ratio')\n",
    "plt.title('Grafica ROC')\n",
    "plt.show()"
   ]
  },
  {
   "cell_type": "markdown",
   "id": "56769f48",
   "metadata": {},
   "source": [
    "## Random Forest\n",
    "Una vez comprobado el funcionamiento de métodos logísticos para la clasificación comprobaremos el funcionamiento de un clasificador basado en árboles de decisión como es Random Forest."
   ]
  },
  {
   "cell_type": "code",
   "execution_count": 127,
   "id": "52ce520f",
   "metadata": {},
   "outputs": [
    {
     "data": {
      "text/plain": [
       "RandomForestClassifier(criterion='entropy', max_depth=15, max_features=3,\n",
       "                       n_estimators=50)"
      ]
     },
     "execution_count": 127,
     "metadata": {},
     "output_type": "execute_result"
    }
   ],
   "source": [
    "model_tree = RandomForestClassifier(n_estimators=50,\n",
    "                 max_features=3,\n",
    "                 max_depth=15,\n",
    "                 criterion='entropy')\n",
    "\n",
    "model_tree.fit(X_train, y_train)"
   ]
  },
  {
   "cell_type": "code",
   "execution_count": 128,
   "id": "a0badabf",
   "metadata": {},
   "outputs": [
    {
     "name": "stdout",
     "output_type": "stream",
     "text": [
      "Rendimiento en el conjunto de entrenamiento:  0.9019749897628122\n",
      "Rendimiento en el conjunto de prueba:  0.8639953202690845\n",
      "Rendimiento en el conjunto total:  0.8886818721592072\n"
     ]
    }
   ],
   "source": [
    "print(\"Rendimiento en el conjunto de entrenamiento: \",model_tree.score(X_train,y_train))\n",
    "print(\"Rendimiento en el conjunto de prueba: \",model_tree.score(X_test,y_test))\n",
    "print(\"Rendimiento en el conjunto total: \",model_tree.score(X,Y))"
   ]
  },
  {
   "cell_type": "code",
   "execution_count": 105,
   "id": "88e650fc",
   "metadata": {},
   "outputs": [
    {
     "name": "stdout",
     "output_type": "stream",
     "text": [
      "[0.84954811 0.85911749 0.84502924 0.85406699 0.85459862 0.85885167\n",
      " 0.84210526 0.84954811 0.84950811 0.85695294]\n",
      "0.85193 accuracy with a standard deviation of 0.00546\n"
     ]
    }
   ],
   "source": [
    "scores = cross_val_score(model_tree, X, Y, cv=10)\n",
    "print(scores)\n",
    "print(\"%0.5f accuracy with a standard deviation of %0.5f\" % (scores.mean(), scores.std()))"
   ]
  },
  {
   "cell_type": "markdown",
   "id": "10c317c6",
   "metadata": {},
   "source": [
    "Como hemos podido ver, los resultados obtenidos para este modelo de clasificación son algo mejores que los otros modelos estudiados, por lo que realizaremos un búsqueda de hiperparámetros en busca de la mejor configuración posible. \n",
    "\n",
    "Para ello utilizaremos grid search."
   ]
  },
  {
   "cell_type": "markdown",
   "id": "17fb287a",
   "metadata": {},
   "source": [
    "## Grid Search"
   ]
  },
  {
   "cell_type": "code",
   "execution_count": 179,
   "id": "fa931b8f",
   "metadata": {},
   "outputs": [
    {
     "name": "stdout",
     "output_type": "stream",
     "text": [
      "Modelo: {'criterion': 'gini', 'max_depth': 3, 'max_features': 3, 'n_estimators': 50} ✓\n",
      "Modelo: {'criterion': 'gini', 'max_depth': 3, 'max_features': 3, 'n_estimators': 100} ✓\n",
      "Modelo: {'criterion': 'gini', 'max_depth': 3, 'max_features': 3, 'n_estimators': 150} ✓\n",
      "Modelo: {'criterion': 'gini', 'max_depth': 3, 'max_features': 3, 'n_estimators': 200} ✓\n",
      "Modelo: {'criterion': 'gini', 'max_depth': 3, 'max_features': 5, 'n_estimators': 50} ✓\n",
      "Modelo: {'criterion': 'gini', 'max_depth': 3, 'max_features': 5, 'n_estimators': 100} ✓\n",
      "Modelo: {'criterion': 'gini', 'max_depth': 3, 'max_features': 5, 'n_estimators': 150} ✓\n",
      "Modelo: {'criterion': 'gini', 'max_depth': 3, 'max_features': 5, 'n_estimators': 200} ✓\n",
      "Modelo: {'criterion': 'gini', 'max_depth': 3, 'max_features': 7, 'n_estimators': 50} ✓\n",
      "Modelo: {'criterion': 'gini', 'max_depth': 3, 'max_features': 7, 'n_estimators': 100} ✓\n",
      "Modelo: {'criterion': 'gini', 'max_depth': 3, 'max_features': 7, 'n_estimators': 150} ✓\n",
      "Modelo: {'criterion': 'gini', 'max_depth': 3, 'max_features': 7, 'n_estimators': 200} ✓\n",
      "Modelo: {'criterion': 'gini', 'max_depth': 3, 'max_features': 9, 'n_estimators': 50} ✓\n",
      "Modelo: {'criterion': 'gini', 'max_depth': 3, 'max_features': 9, 'n_estimators': 100} ✓\n",
      "Modelo: {'criterion': 'gini', 'max_depth': 3, 'max_features': 9, 'n_estimators': 150} ✓\n",
      "Modelo: {'criterion': 'gini', 'max_depth': 3, 'max_features': 9, 'n_estimators': 200} ✓\n",
      "Modelo: {'criterion': 'gini', 'max_depth': 10, 'max_features': 3, 'n_estimators': 50} ✓\n",
      "Modelo: {'criterion': 'gini', 'max_depth': 10, 'max_features': 3, 'n_estimators': 100} ✓\n",
      "Modelo: {'criterion': 'gini', 'max_depth': 10, 'max_features': 3, 'n_estimators': 150} ✓\n",
      "Modelo: {'criterion': 'gini', 'max_depth': 10, 'max_features': 3, 'n_estimators': 200} ✓\n",
      "Modelo: {'criterion': 'gini', 'max_depth': 10, 'max_features': 5, 'n_estimators': 50} ✓\n",
      "Modelo: {'criterion': 'gini', 'max_depth': 10, 'max_features': 5, 'n_estimators': 100} ✓\n",
      "Modelo: {'criterion': 'gini', 'max_depth': 10, 'max_features': 5, 'n_estimators': 150} ✓\n",
      "Modelo: {'criterion': 'gini', 'max_depth': 10, 'max_features': 5, 'n_estimators': 200} ✓\n",
      "Modelo: {'criterion': 'gini', 'max_depth': 10, 'max_features': 7, 'n_estimators': 50} ✓\n",
      "Modelo: {'criterion': 'gini', 'max_depth': 10, 'max_features': 7, 'n_estimators': 100} ✓\n",
      "Modelo: {'criterion': 'gini', 'max_depth': 10, 'max_features': 7, 'n_estimators': 150} ✓\n",
      "Modelo: {'criterion': 'gini', 'max_depth': 10, 'max_features': 7, 'n_estimators': 200} ✓\n",
      "Modelo: {'criterion': 'gini', 'max_depth': 10, 'max_features': 9, 'n_estimators': 50} ✓\n",
      "Modelo: {'criterion': 'gini', 'max_depth': 10, 'max_features': 9, 'n_estimators': 100} ✓\n",
      "Modelo: {'criterion': 'gini', 'max_depth': 10, 'max_features': 9, 'n_estimators': 150} ✓\n",
      "Modelo: {'criterion': 'gini', 'max_depth': 10, 'max_features': 9, 'n_estimators': 200} ✓\n",
      "Modelo: {'criterion': 'gini', 'max_depth': 15, 'max_features': 3, 'n_estimators': 50} ✓\n",
      "Modelo: {'criterion': 'gini', 'max_depth': 15, 'max_features': 3, 'n_estimators': 100} ✓\n",
      "Modelo: {'criterion': 'gini', 'max_depth': 15, 'max_features': 3, 'n_estimators': 150} ✓\n",
      "Modelo: {'criterion': 'gini', 'max_depth': 15, 'max_features': 3, 'n_estimators': 200} ✓\n",
      "Modelo: {'criterion': 'gini', 'max_depth': 15, 'max_features': 5, 'n_estimators': 50} ✓\n",
      "Modelo: {'criterion': 'gini', 'max_depth': 15, 'max_features': 5, 'n_estimators': 100} ✓\n",
      "Modelo: {'criterion': 'gini', 'max_depth': 15, 'max_features': 5, 'n_estimators': 150} ✓\n",
      "Modelo: {'criterion': 'gini', 'max_depth': 15, 'max_features': 5, 'n_estimators': 200} ✓\n",
      "Modelo: {'criterion': 'gini', 'max_depth': 15, 'max_features': 7, 'n_estimators': 50} ✓\n",
      "Modelo: {'criterion': 'gini', 'max_depth': 15, 'max_features': 7, 'n_estimators': 100} ✓\n",
      "Modelo: {'criterion': 'gini', 'max_depth': 15, 'max_features': 7, 'n_estimators': 150} ✓\n",
      "Modelo: {'criterion': 'gini', 'max_depth': 15, 'max_features': 7, 'n_estimators': 200} ✓\n",
      "Modelo: {'criterion': 'gini', 'max_depth': 15, 'max_features': 9, 'n_estimators': 50} ✓\n",
      "Modelo: {'criterion': 'gini', 'max_depth': 15, 'max_features': 9, 'n_estimators': 100} ✓\n",
      "Modelo: {'criterion': 'gini', 'max_depth': 15, 'max_features': 9, 'n_estimators': 150} ✓\n",
      "Modelo: {'criterion': 'gini', 'max_depth': 15, 'max_features': 9, 'n_estimators': 200} ✓\n",
      "Modelo: {'criterion': 'gini', 'max_depth': 20, 'max_features': 3, 'n_estimators': 50} ✓\n",
      "Modelo: {'criterion': 'gini', 'max_depth': 20, 'max_features': 3, 'n_estimators': 100} ✓\n",
      "Modelo: {'criterion': 'gini', 'max_depth': 20, 'max_features': 3, 'n_estimators': 150} ✓\n",
      "Modelo: {'criterion': 'gini', 'max_depth': 20, 'max_features': 3, 'n_estimators': 200} ✓\n",
      "Modelo: {'criterion': 'gini', 'max_depth': 20, 'max_features': 5, 'n_estimators': 50} ✓\n",
      "Modelo: {'criterion': 'gini', 'max_depth': 20, 'max_features': 5, 'n_estimators': 100} ✓\n",
      "Modelo: {'criterion': 'gini', 'max_depth': 20, 'max_features': 5, 'n_estimators': 150} ✓\n",
      "Modelo: {'criterion': 'gini', 'max_depth': 20, 'max_features': 5, 'n_estimators': 200} ✓\n",
      "Modelo: {'criterion': 'gini', 'max_depth': 20, 'max_features': 7, 'n_estimators': 50} ✓\n",
      "Modelo: {'criterion': 'gini', 'max_depth': 20, 'max_features': 7, 'n_estimators': 100} ✓\n",
      "Modelo: {'criterion': 'gini', 'max_depth': 20, 'max_features': 7, 'n_estimators': 150} ✓\n",
      "Modelo: {'criterion': 'gini', 'max_depth': 20, 'max_features': 7, 'n_estimators': 200} ✓\n",
      "Modelo: {'criterion': 'gini', 'max_depth': 20, 'max_features': 9, 'n_estimators': 50} ✓\n",
      "Modelo: {'criterion': 'gini', 'max_depth': 20, 'max_features': 9, 'n_estimators': 100} ✓\n",
      "Modelo: {'criterion': 'gini', 'max_depth': 20, 'max_features': 9, 'n_estimators': 150} ✓\n",
      "Modelo: {'criterion': 'gini', 'max_depth': 20, 'max_features': 9, 'n_estimators': 200} ✓\n",
      "Modelo: {'criterion': 'entropy', 'max_depth': 3, 'max_features': 3, 'n_estimators': 50} ✓\n",
      "Modelo: {'criterion': 'entropy', 'max_depth': 3, 'max_features': 3, 'n_estimators': 100} ✓\n",
      "Modelo: {'criterion': 'entropy', 'max_depth': 3, 'max_features': 3, 'n_estimators': 150} ✓\n",
      "Modelo: {'criterion': 'entropy', 'max_depth': 3, 'max_features': 3, 'n_estimators': 200} ✓\n",
      "Modelo: {'criterion': 'entropy', 'max_depth': 3, 'max_features': 5, 'n_estimators': 50} ✓\n",
      "Modelo: {'criterion': 'entropy', 'max_depth': 3, 'max_features': 5, 'n_estimators': 100} ✓\n",
      "Modelo: {'criterion': 'entropy', 'max_depth': 3, 'max_features': 5, 'n_estimators': 150} ✓\n",
      "Modelo: {'criterion': 'entropy', 'max_depth': 3, 'max_features': 5, 'n_estimators': 200} ✓\n",
      "Modelo: {'criterion': 'entropy', 'max_depth': 3, 'max_features': 7, 'n_estimators': 50} ✓\n",
      "Modelo: {'criterion': 'entropy', 'max_depth': 3, 'max_features': 7, 'n_estimators': 100} ✓\n",
      "Modelo: {'criterion': 'entropy', 'max_depth': 3, 'max_features': 7, 'n_estimators': 150} ✓\n",
      "Modelo: {'criterion': 'entropy', 'max_depth': 3, 'max_features': 7, 'n_estimators': 200} ✓\n",
      "Modelo: {'criterion': 'entropy', 'max_depth': 3, 'max_features': 9, 'n_estimators': 50} ✓\n",
      "Modelo: {'criterion': 'entropy', 'max_depth': 3, 'max_features': 9, 'n_estimators': 100} ✓\n",
      "Modelo: {'criterion': 'entropy', 'max_depth': 3, 'max_features': 9, 'n_estimators': 150} ✓\n",
      "Modelo: {'criterion': 'entropy', 'max_depth': 3, 'max_features': 9, 'n_estimators': 200} ✓\n",
      "Modelo: {'criterion': 'entropy', 'max_depth': 10, 'max_features': 3, 'n_estimators': 50} ✓\n",
      "Modelo: {'criterion': 'entropy', 'max_depth': 10, 'max_features': 3, 'n_estimators': 100} ✓\n",
      "Modelo: {'criterion': 'entropy', 'max_depth': 10, 'max_features': 3, 'n_estimators': 150} ✓\n",
      "Modelo: {'criterion': 'entropy', 'max_depth': 10, 'max_features': 3, 'n_estimators': 200} ✓\n",
      "Modelo: {'criterion': 'entropy', 'max_depth': 10, 'max_features': 5, 'n_estimators': 50} ✓\n",
      "Modelo: {'criterion': 'entropy', 'max_depth': 10, 'max_features': 5, 'n_estimators': 100} ✓\n",
      "Modelo: {'criterion': 'entropy', 'max_depth': 10, 'max_features': 5, 'n_estimators': 150} ✓\n",
      "Modelo: {'criterion': 'entropy', 'max_depth': 10, 'max_features': 5, 'n_estimators': 200} ✓\n",
      "Modelo: {'criterion': 'entropy', 'max_depth': 10, 'max_features': 7, 'n_estimators': 50} ✓\n",
      "Modelo: {'criterion': 'entropy', 'max_depth': 10, 'max_features': 7, 'n_estimators': 100} ✓\n",
      "Modelo: {'criterion': 'entropy', 'max_depth': 10, 'max_features': 7, 'n_estimators': 150} ✓\n",
      "Modelo: {'criterion': 'entropy', 'max_depth': 10, 'max_features': 7, 'n_estimators': 200} ✓\n"
     ]
    },
    {
     "name": "stdout",
     "output_type": "stream",
     "text": [
      "Modelo: {'criterion': 'entropy', 'max_depth': 10, 'max_features': 9, 'n_estimators': 50} ✓\n",
      "Modelo: {'criterion': 'entropy', 'max_depth': 10, 'max_features': 9, 'n_estimators': 100} ✓\n",
      "Modelo: {'criterion': 'entropy', 'max_depth': 10, 'max_features': 9, 'n_estimators': 150} ✓\n",
      "Modelo: {'criterion': 'entropy', 'max_depth': 10, 'max_features': 9, 'n_estimators': 200} ✓\n",
      "Modelo: {'criterion': 'entropy', 'max_depth': 15, 'max_features': 3, 'n_estimators': 50} ✓\n",
      "Modelo: {'criterion': 'entropy', 'max_depth': 15, 'max_features': 3, 'n_estimators': 100} ✓\n",
      "Modelo: {'criterion': 'entropy', 'max_depth': 15, 'max_features': 3, 'n_estimators': 150} ✓\n",
      "Modelo: {'criterion': 'entropy', 'max_depth': 15, 'max_features': 3, 'n_estimators': 200} ✓\n",
      "Modelo: {'criterion': 'entropy', 'max_depth': 15, 'max_features': 5, 'n_estimators': 50} ✓\n",
      "Modelo: {'criterion': 'entropy', 'max_depth': 15, 'max_features': 5, 'n_estimators': 100} ✓\n",
      "Modelo: {'criterion': 'entropy', 'max_depth': 15, 'max_features': 5, 'n_estimators': 150} ✓\n",
      "Modelo: {'criterion': 'entropy', 'max_depth': 15, 'max_features': 5, 'n_estimators': 200} ✓\n",
      "Modelo: {'criterion': 'entropy', 'max_depth': 15, 'max_features': 7, 'n_estimators': 50} ✓\n",
      "Modelo: {'criterion': 'entropy', 'max_depth': 15, 'max_features': 7, 'n_estimators': 100} ✓\n",
      "Modelo: {'criterion': 'entropy', 'max_depth': 15, 'max_features': 7, 'n_estimators': 150} ✓\n",
      "Modelo: {'criterion': 'entropy', 'max_depth': 15, 'max_features': 7, 'n_estimators': 200} ✓\n",
      "Modelo: {'criterion': 'entropy', 'max_depth': 15, 'max_features': 9, 'n_estimators': 50} ✓\n",
      "Modelo: {'criterion': 'entropy', 'max_depth': 15, 'max_features': 9, 'n_estimators': 100} ✓\n",
      "Modelo: {'criterion': 'entropy', 'max_depth': 15, 'max_features': 9, 'n_estimators': 150} ✓\n",
      "Modelo: {'criterion': 'entropy', 'max_depth': 15, 'max_features': 9, 'n_estimators': 200} ✓\n",
      "Modelo: {'criterion': 'entropy', 'max_depth': 20, 'max_features': 3, 'n_estimators': 50} ✓\n",
      "Modelo: {'criterion': 'entropy', 'max_depth': 20, 'max_features': 3, 'n_estimators': 100} ✓\n",
      "Modelo: {'criterion': 'entropy', 'max_depth': 20, 'max_features': 3, 'n_estimators': 150} ✓\n",
      "Modelo: {'criterion': 'entropy', 'max_depth': 20, 'max_features': 3, 'n_estimators': 200} ✓\n",
      "Modelo: {'criterion': 'entropy', 'max_depth': 20, 'max_features': 5, 'n_estimators': 50} ✓\n",
      "Modelo: {'criterion': 'entropy', 'max_depth': 20, 'max_features': 5, 'n_estimators': 100} ✓\n",
      "Modelo: {'criterion': 'entropy', 'max_depth': 20, 'max_features': 5, 'n_estimators': 150} ✓\n",
      "Modelo: {'criterion': 'entropy', 'max_depth': 20, 'max_features': 5, 'n_estimators': 200} ✓\n",
      "Modelo: {'criterion': 'entropy', 'max_depth': 20, 'max_features': 7, 'n_estimators': 50} ✓\n",
      "Modelo: {'criterion': 'entropy', 'max_depth': 20, 'max_features': 7, 'n_estimators': 100} ✓\n",
      "Modelo: {'criterion': 'entropy', 'max_depth': 20, 'max_features': 7, 'n_estimators': 150} ✓\n",
      "Modelo: {'criterion': 'entropy', 'max_depth': 20, 'max_features': 7, 'n_estimators': 200} ✓\n",
      "Modelo: {'criterion': 'entropy', 'max_depth': 20, 'max_features': 9, 'n_estimators': 50} ✓\n",
      "Modelo: {'criterion': 'entropy', 'max_depth': 20, 'max_features': 9, 'n_estimators': 100} ✓\n",
      "Modelo: {'criterion': 'entropy', 'max_depth': 20, 'max_features': 9, 'n_estimators': 150} ✓\n",
      "Modelo: {'criterion': 'entropy', 'max_depth': 20, 'max_features': 9, 'n_estimators': 200} ✓\n"
     ]
    },
    {
     "data": {
      "text/html": [
       "<div>\n",
       "<style scoped>\n",
       "    .dataframe tbody tr th:only-of-type {\n",
       "        vertical-align: middle;\n",
       "    }\n",
       "\n",
       "    .dataframe tbody tr th {\n",
       "        vertical-align: top;\n",
       "    }\n",
       "\n",
       "    .dataframe thead th {\n",
       "        text-align: right;\n",
       "    }\n",
       "</style>\n",
       "<table border=\"1\" class=\"dataframe\">\n",
       "  <thead>\n",
       "    <tr style=\"text-align: right;\">\n",
       "      <th></th>\n",
       "      <th>oob_accuracy</th>\n",
       "      <th>criterion</th>\n",
       "      <th>max_depth</th>\n",
       "      <th>max_features</th>\n",
       "      <th>n_estimators</th>\n",
       "    </tr>\n",
       "  </thead>\n",
       "  <tbody>\n",
       "    <tr>\n",
       "      <th>98</th>\n",
       "      <td>0.867452</td>\n",
       "      <td>entropy</td>\n",
       "      <td>15</td>\n",
       "      <td>3</td>\n",
       "      <td>150</td>\n",
       "    </tr>\n",
       "    <tr>\n",
       "      <th>35</th>\n",
       "      <td>0.867232</td>\n",
       "      <td>gini</td>\n",
       "      <td>15</td>\n",
       "      <td>3</td>\n",
       "      <td>200</td>\n",
       "    </tr>\n",
       "    <tr>\n",
       "      <th>97</th>\n",
       "      <td>0.866885</td>\n",
       "      <td>entropy</td>\n",
       "      <td>15</td>\n",
       "      <td>3</td>\n",
       "      <td>100</td>\n",
       "    </tr>\n",
       "    <tr>\n",
       "      <th>99</th>\n",
       "      <td>0.866791</td>\n",
       "      <td>entropy</td>\n",
       "      <td>15</td>\n",
       "      <td>3</td>\n",
       "      <td>200</td>\n",
       "    </tr>\n",
       "  </tbody>\n",
       "</table>\n",
       "</div>"
      ],
      "text/plain": [
       "    oob_accuracy criterion  max_depth  max_features  n_estimators\n",
       "98      0.867452   entropy         15             3           150\n",
       "35      0.867232      gini         15             3           200\n",
       "97      0.866885   entropy         15             3           100\n",
       "99      0.866791   entropy         15             3           200"
      ]
     },
     "execution_count": 179,
     "metadata": {},
     "output_type": "execute_result"
    }
   ],
   "source": [
    "param_grid = ParameterGrid(\n",
    "                {'n_estimators': [50, 100, 150, 200],\n",
    "                 'max_features': [3, 5, 7, 9],\n",
    "                 'max_depth'   : [3, 10, 15, 20],\n",
    "                 'criterion'   : ['gini', 'entropy']\n",
    "                }\n",
    "            )\n",
    "\n",
    "resultados = {'params': [], 'oob_accuracy': []}\n",
    "\n",
    "for params in param_grid:\n",
    "    \n",
    "    modelo = RandomForestClassifier(\n",
    "                oob_score    = True,\n",
    "                n_jobs       = -1,\n",
    "                random_state = 123,\n",
    "                ** params\n",
    "             )\n",
    "    \n",
    "    modelo.fit(X_train, y_train)\n",
    "    \n",
    "    resultados['params'].append(params)\n",
    "    resultados['oob_accuracy'].append(modelo.oob_score_)\n",
    "    print(f\"Modelo: {params} \\u2713\")\n",
    "\n",
    "resultados = pd.DataFrame(resultados)\n",
    "resultados = pd.concat([resultados, resultados['params'].apply(pd.Series)], axis=1)\n",
    "resultados = resultados.sort_values('oob_accuracy', ascending=False)\n",
    "resultados = resultados.drop(columns = 'params')\n",
    "resultados.head(4)"
   ]
  },
  {
   "cell_type": "code",
   "execution_count": 242,
   "id": "36fff6dc",
   "metadata": {},
   "outputs": [
    {
     "data": {
      "text/plain": [
       "RandomForestClassifier(criterion='entropy', max_depth=12, max_features=5,\n",
       "                       n_estimators=200)"
      ]
     },
     "execution_count": 242,
     "metadata": {},
     "output_type": "execute_result"
    }
   ],
   "source": [
    "model_tree = RandomForestClassifier(n_estimators=200,\n",
    "                 max_features=5,\n",
    "                 max_depth=12,\n",
    "                 criterion='entropy')\n",
    "\n",
    "model_tree.fit(X_train, y_train)"
   ]
  },
  {
   "cell_type": "code",
   "execution_count": 243,
   "id": "c351436d",
   "metadata": {},
   "outputs": [
    {
     "name": "stdout",
     "output_type": "stream",
     "text": [
      "Rendimiento en el conjunto de entrenamiento:  0.8843355277664031\n",
      "Rendimiento en el conjunto de prueba:  0.8639368236326411\n",
      "Rendimiento en el conjunto total:  0.8771958560255518\n"
     ]
    }
   ],
   "source": [
    "print(\"Rendimiento en el conjunto de entrenamiento: \",model_tree.score(X_train,y_train))\n",
    "print(\"Rendimiento en el conjunto de prueba: \",model_tree.score(X_test,y_test))\n",
    "print(\"Rendimiento en el conjunto total: \",model_tree.score(X,Y))"
   ]
  },
  {
   "cell_type": "code",
   "execution_count": 160,
   "id": "11938575",
   "metadata": {},
   "outputs": [
    {
     "name": "stdout",
     "output_type": "stream",
     "text": [
      "[0.85793245 0.86816786 0.85872236 0.86773137 0.87305487 0.87387387\n",
      " 0.86425061 0.86568387 0.86732187 0.86588862]\n",
      "0.86626 accuracy with a standard deviation of 0.00492\n"
     ]
    }
   ],
   "source": [
    "scores = cross_val_score(model_tree, X, Y, cv=10)\n",
    "print(scores)\n",
    "print(\"%0.5f accuracy with a standard deviation of %0.5f\" % (scores.mean(), scores.std()))"
   ]
  },
  {
   "cell_type": "code",
   "execution_count": 161,
   "id": "0423f7d9",
   "metadata": {},
   "outputs": [
    {
     "name": "stdout",
     "output_type": "stream",
     "text": [
      "Umbral 0\n",
      "[[   0 7474]\n",
      " [   0 2295]]\n",
      "Precision: 0.23492680929470774\n",
      "Recall: 1.0\n",
      "F1: 0.38047082228116713\n",
      "Accuracy: 0.23492680929470774 \n",
      "\n",
      "Umbral 0.05\n",
      "[[4067 3407]\n",
      " [  49 2246]]\n",
      "Precision: 0.3973111622147532\n",
      "Recall: 0.9786492374727669\n",
      "F1: 0.5651736285858078\n",
      "Accuracy: 0.6462278636503225 \n",
      "\n",
      "Umbral 0.1\n",
      "[[4812 2662]\n",
      " [ 100 2195]]\n",
      "Precision: 0.4519250566193123\n",
      "Recall: 0.9564270152505446\n",
      "F1: 0.613814317673378\n",
      "Accuracy: 0.7172689118640598 \n",
      "\n",
      "Umbral 0.15000000000000002\n",
      "[[5234 2240]\n",
      " [ 148 2147]]\n",
      "Precision: 0.4894005014816503\n",
      "Recall: 0.9355119825708061\n",
      "F1: 0.6426219694702184\n",
      "Accuracy: 0.7555532807861604 \n",
      "\n",
      "Umbral 0.2\n",
      "[[5599 1875]\n",
      " [ 232 2063]]\n",
      "Precision: 0.5238699847638395\n",
      "Recall: 0.8989106753812636\n",
      "F1: 0.6619605326488047\n",
      "Accuracy: 0.7843177397891289 \n",
      "\n",
      "Umbral 0.25\n",
      "[[5907 1567]\n",
      " [ 310 1985]]\n",
      "Precision: 0.5588400900900901\n",
      "Recall: 0.8649237472766884\n",
      "F1: 0.6789806738498375\n",
      "Accuracy: 0.8078616030299929 \n",
      "\n",
      "Umbral 0.3\n",
      "[[6294 1180]\n",
      " [ 429 1866]]\n",
      "Precision: 0.6126066973079448\n",
      "Recall: 0.8130718954248366\n",
      "F1: 0.6987455532671784\n",
      "Accuracy: 0.8352953219367386 \n",
      "\n",
      "Umbral 0.35\n",
      "[[6559  915]\n",
      " [ 556 1739]]\n",
      "Precision: 0.6552373775433308\n",
      "Recall: 0.7577342047930283\n",
      "F1: 0.7027682360072742\n",
      "Accuracy: 0.8494216398812571 \n",
      "\n",
      "Umbral 0.39999999999999997\n",
      "[[6784  690]\n",
      " [ 740 1555]]\n",
      "Precision: 0.6926503340757239\n",
      "Recall: 0.6775599128540305\n",
      "F1: 0.6850220264317181\n",
      "Accuracy: 0.853618589415498 \n",
      "\n",
      "Umbral 0.44999999999999996\n",
      "[[6919  555]\n",
      " [ 819 1476]]\n",
      "Precision: 0.7267355982274741\n",
      "Recall: 0.6431372549019608\n",
      "F1: 0.6823855755894591\n",
      "Accuracy: 0.8593510082915344 \n",
      "\n",
      "Umbral 0.49999999999999994\n",
      "[[7052  422]\n",
      " [ 929 1366]]\n",
      "Precision: 0.7639821029082774\n",
      "Recall: 0.5952069716775599\n",
      "F1: 0.6691158461915259\n",
      "Accuracy: 0.8617053946156208 \n",
      "\n",
      "Umbral 0.5499999999999999\n",
      "[[7154  320]\n",
      " [1047 1248]]\n",
      "Precision: 0.7959183673469388\n",
      "Recall: 0.5437908496732026\n",
      "F1: 0.6461299508154283\n",
      "Accuracy: 0.860067560651039 \n",
      "\n",
      "Umbral 0.6\n",
      "[[7212  262]\n",
      " [1123 1172]]\n",
      "Precision: 0.8172942817294282\n",
      "Recall: 0.5106753812636166\n",
      "F1: 0.6285867524805577\n",
      "Accuracy: 0.8582249974408844 \n",
      "\n",
      "Umbral 0.65\n",
      "[[7278  196]\n",
      " [1203 1092]]\n",
      "Precision: 0.8478260869565217\n",
      "Recall: 0.47581699346405226\n",
      "F1: 0.6095450739603685\n",
      "Accuracy: 0.8567918927218753 \n",
      "\n",
      "Umbral 0.7000000000000001\n",
      "[[7376   98]\n",
      " [1345  950]]\n",
      "Precision: 0.9064885496183206\n",
      "Recall: 0.4139433551198257\n",
      "F1: 0.5683517798384684\n",
      "Accuracy: 0.8522878493192753 \n",
      "\n",
      "Umbral 0.7500000000000001\n",
      "[[7426   48]\n",
      " [1495  800]]\n",
      "Precision: 0.9433962264150944\n",
      "Recall: 0.3485838779956427\n",
      "F1: 0.5090677696468343\n",
      "Accuracy: 0.8420513870406388 \n",
      "\n",
      "Umbral 0.8000000000000002\n",
      "[[7458   16]\n",
      " [1645  650]]\n",
      "Precision: 0.975975975975976\n",
      "Recall: 0.28322440087145967\n",
      "F1: 0.4390408645727794\n",
      "Accuracy: 0.8299723615518477 \n",
      "\n",
      "Umbral 0.8500000000000002\n",
      "[[7469    5]\n",
      " [1718  577]]\n",
      "Precision: 0.9914089347079038\n",
      "Recall: 0.2514161220043573\n",
      "F1: 0.4011122697254084\n",
      "Accuracy: 0.8236257549390931 \n",
      "\n",
      "Umbral 0.9000000000000002\n",
      "[[7469    5]\n",
      " [1753  542]]\n",
      "Precision: 0.9908592321755028\n",
      "Recall: 0.23616557734204793\n",
      "F1: 0.38142153413089375\n",
      "Accuracy: 0.8200429931415703 \n",
      "\n",
      "Umbral 0.9500000000000003\n",
      "[[7471    3]\n",
      " [1838  457]]\n",
      "Precision: 0.9934782608695653\n",
      "Recall: 0.1991285403050109\n",
      "F1: 0.3317604355716879\n",
      "Accuracy: 0.8115467294503019 \n",
      "\n"
     ]
    }
   ],
   "source": [
    "umbral = 0\n",
    "precision_list = []\n",
    "recall_list = []\n",
    "f1_list = []\n",
    "accuracy_list = []\n",
    "FPR_list = []\n",
    "while umbral <= 1:\n",
    "    proba = model_tree.predict_proba(X_test)\n",
    "    y_pred = []\n",
    "    for i in range(0,len(proba)):\n",
    "        if proba[i][1] > umbral:\n",
    "            y_pred.append([2])\n",
    "        else:\n",
    "            y_pred.append([1])\n",
    "    #print(y_pred)\n",
    "    cm = confusion_matrix(y_test, y_pred)\n",
    "    print('Umbral',umbral)\n",
    "    print(cm)\n",
    "    \n",
    "    precision = cm[1][1] / (cm[1][1]+cm[0][1])\n",
    "    recall = cm[1][1] / (cm[1][1]+cm[1][0])\n",
    "    f1 = 2* precision*recall / (precision+recall)\n",
    "    accuracy = sum([cm[i,i] for i in range(0,2)]) / np.sum(cm)\n",
    "    FPR = cm[0][1] / (cm[0][0]+cm[0][1])\n",
    "    \n",
    "    print('Precision:', precision)\n",
    "    print('Recall:', recall)\n",
    "    print('F1:', f1)\n",
    "    print('Accuracy:', accuracy,'\\n')\n",
    "    \n",
    "    precision_list.append(precision)\n",
    "    recall_list.append(recall)\n",
    "    f1_list.append(f1)\n",
    "    accuracy_list.append(accuracy)\n",
    "    FPR_list.append(FPR)\n",
    "    \n",
    "    umbral += 0.05"
   ]
  },
  {
   "cell_type": "markdown",
   "id": "66fa1bb6",
   "metadata": {},
   "source": [
    "Podemos apreciar tanto con un modelo logístico y un modelo de clasificación que es posible variar el umbral y poder mejorar así las métricas del modelo. Para ambos casos apreciamos que los clasificadores funcionan mejor cuando:\n",
    "\n",
    "$$umbral > 0.3\\;y\\;umbral \\leq 0.4$$. "
   ]
  },
  {
   "cell_type": "code",
   "execution_count": 162,
   "id": "c0eb4f93",
   "metadata": {},
   "outputs": [
    {
     "data": {
      "image/png": "[encoded data removed]",
      "text/plain": [
       "<Figure size 432x288 with 1 Axes>"
      ]
     },
     "metadata": {
      "needs_background": "light"
     },
     "output_type": "display_data"
    }
   ],
   "source": [
    "plt.plot(precision_list,recall_list)\n",
    "plt.xlabel('Precision')\n",
    "plt.ylabel('Recall')\n",
    "plt.title('Grafica PR')\n",
    "plt.show()"
   ]
  },
  {
   "cell_type": "code",
   "execution_count": 163,
   "id": "317715ab",
   "metadata": {},
   "outputs": [
    {
     "data": {
      "image/png": "[encoded data removed]",
      "text/plain": [
       "<Figure size 432x288 with 1 Axes>"
      ]
     },
     "metadata": {
      "needs_background": "light"
     },
     "output_type": "display_data"
    }
   ],
   "source": [
    "plt.plot(FPR_list,recall_list)\n",
    "plt.xlabel('False Positive Ratio')\n",
    "plt.ylabel('True Positive Ratio')\n",
    "plt.title('Grafica ROC')\n",
    "plt.show()"
   ]
  },
  {
   "cell_type": "markdown",
   "id": "93fb2605",
   "metadata": {},
   "source": [
    "La mejor métrica posible se consigue para el umbral 0.35 exactamente."
   ]
  },
  {
   "cell_type": "code",
   "execution_count": 29,
   "id": "428909ae",
   "metadata": {},
   "outputs": [],
   "source": [
    "def umbral_selection(model,X,Y): \n",
    "    umbral = 0\n",
    "    precision_list = []\n",
    "    recall_list = []\n",
    "    f1_list = []\n",
    "    accuracy_list = []\n",
    "    FPR_list = []\n",
    "    while umbral <= 1:\n",
    "        proba = model.predict_proba(X)\n",
    "        y_pred = []\n",
    "        for i in range(0,len(proba)):\n",
    "            if proba[i][1] > umbral:\n",
    "                y_pred.append([2])\n",
    "            else:\n",
    "                y_pred.append([1])\n",
    "        #print(y_pred)\n",
    "        cm = confusion_matrix(Y, y_pred)\n",
    "        print('Umbral',umbral)\n",
    "        print(cm)\n",
    "\n",
    "        precision = cm[1][1] / (cm[1][1]+cm[0][1])\n",
    "        recall = cm[1][1] / (cm[1][1]+cm[1][0])\n",
    "        f1 = 2* precision*recall / (precision+recall)\n",
    "        accuracy = sum([cm[i,i] for i in range(0,2)]) / np.sum(cm)\n",
    "        FPR = cm[0][1] / (cm[0][0]+cm[0][1])\n",
    "\n",
    "        print('Precision:', precision)\n",
    "        print('Recall:', recall)\n",
    "        print('F1:', f1)\n",
    "        print('Accuracy:', accuracy,'\\n')\n",
    "\n",
    "        precision_list.append(precision)\n",
    "        recall_list.append(recall)\n",
    "        f1_list.append(f1)\n",
    "        accuracy_list.append(accuracy)\n",
    "        FPR_list.append(FPR)\n",
    "\n",
    "        umbral += 0.05\n",
    "        \n",
    "    plt.plot(precision_list,recall_list)\n",
    "    plt.xlabel('Precision')\n",
    "    plt.ylabel('Recall')\n",
    "    plt.title('Grafica PR')\n",
    "    plt.show()\n",
    "    \n",
    "    plt.plot(FPR_list,recall_list)\n",
    "    plt.xlabel('False Positive Ratio')\n",
    "    plt.ylabel('True Positive Ratio')\n",
    "    plt.title('Grafica ROC')\n",
    "    plt.show()"
   ]
  },
  {
   "cell_type": "code",
   "execution_count": 131,
   "id": "5dca8c79",
   "metadata": {},
   "outputs": [
    {
     "name": "stdout",
     "output_type": "stream",
     "text": [
      "Umbral 0\n",
      "[[    0 13070]\n",
      " [    0  4025]]\n",
      "Precision: 0.23544896168470314\n",
      "Recall: 1.0\n",
      "F1: 0.38115530303030304\n",
      "Accuracy: 0.23544896168470314 \n",
      "\n",
      "Umbral 0.05\n",
      "[[5578 7492]\n",
      " [ 112 3913]]\n",
      "Precision: 0.34309513371328365\n",
      "Recall: 0.9721739130434782\n",
      "F1: 0.5071937783538562\n",
      "Accuracy: 0.5551915764843521 \n",
      "\n",
      "Umbral 0.1\n",
      "[[7575 5495]\n",
      " [ 222 3803]]\n",
      "Precision: 0.40901269090126907\n",
      "Recall: 0.9448447204968944\n",
      "F1: 0.5708924416422727\n",
      "Accuracy: 0.6655747294530564 \n",
      "\n",
      "Umbral 0.15000000000000002\n",
      "[[8701 4369]\n",
      " [ 358 3667]]\n",
      "Precision: 0.4563215530114485\n",
      "Recall: 0.911055900621118\n",
      "F1: 0.6080756156205953\n",
      "Accuracy: 0.7234863995320269 \n",
      "\n",
      "Umbral 0.2\n",
      "[[9716 3354]\n",
      " [ 553 3472]]\n",
      "Precision: 0.5086434222092001\n",
      "Recall: 0.8626086956521739\n",
      "F1: 0.6399410192608975\n",
      "Accuracy: 0.7714536414156186 \n",
      "\n",
      "Umbral 0.25\n",
      "[[10429  2641]\n",
      " [  811  3214]]\n",
      "Precision: 0.548932536293766\n",
      "Recall: 0.7985093167701863\n",
      "F1: 0.6506072874493928\n",
      "Accuracy: 0.7980696109973676 \n",
      "\n",
      "Umbral 0.3\n",
      "[[10974  2096]\n",
      " [ 1049  2976]]\n",
      "Precision: 0.5867507886435331\n",
      "Recall: 0.7393788819875776\n",
      "F1: 0.6542816313070243\n",
      "Accuracy: 0.8160280783854928 \n",
      "\n",
      "Umbral 0.35\n",
      "[[11408  1662]\n",
      " [ 1282  2743]]\n",
      "Precision: 0.6227014755959137\n",
      "Recall: 0.6814906832298137\n",
      "F1: 0.6507710557532622\n",
      "Accuracy: 0.8277859023106171 \n",
      "\n",
      "Umbral 0.39999999999999997\n",
      "[[11755  1315]\n",
      " [ 1492  2533]]\n",
      "Precision: 0.6582640332640333\n",
      "Recall: 0.6293167701863354\n",
      "F1: 0.6434650069859011\n",
      "Accuracy: 0.8357999415033636 \n",
      "\n",
      "Umbral 0.44999999999999996\n",
      "[[12031  1039]\n",
      " [ 1739  2286]]\n",
      "Precision: 0.6875187969924812\n",
      "Recall: 0.5679503105590062\n",
      "F1: 0.6220408163265306\n",
      "Accuracy: 0.8374963439602223 \n",
      "\n",
      "Umbral 0.49999999999999994\n",
      "[[12235   835]\n",
      " [ 1974  2051]]\n",
      "Precision: 0.7106722106722106\n",
      "Recall: 0.5095652173913043\n",
      "F1: 0.5935465200405151\n",
      "Accuracy: 0.8356829482304767 \n",
      "\n",
      "Umbral 0.5499999999999999\n",
      "[[12430   640]\n",
      " [ 2167  1858]]\n",
      "Precision: 0.743795036028823\n",
      "Recall: 0.4616149068322981\n",
      "F1: 0.5696765292043539\n",
      "Accuracy: 0.8357999415033636 \n",
      "\n",
      "Umbral 0.6\n",
      "[[12577   493]\n",
      " [ 2359  1666]]\n",
      "Precision: 0.7716535433070866\n",
      "Recall: 0.41391304347826086\n",
      "F1: 0.5388098318240621\n",
      "Accuracy: 0.8331675928634104 \n",
      "\n",
      "Umbral 0.65\n",
      "[[12694   376]\n",
      " [ 2554  1471]]\n",
      "Precision: 0.7964266377910124\n",
      "Recall: 0.36546583850931674\n",
      "F1: 0.5010217983651226\n",
      "Accuracy: 0.8286048552208248 \n",
      "\n",
      "Umbral 0.7000000000000001\n",
      "[[12818   252]\n",
      " [ 2759  1266]]\n",
      "Precision: 0.83399209486166\n",
      "Recall: 0.31453416149068325\n",
      "F1: 0.4567923507126105\n",
      "Accuracy: 0.8238666276689091 \n",
      "\n",
      "Umbral 0.7500000000000001\n",
      "[[12895   175]\n",
      " [ 2935  1090]]\n",
      "Precision: 0.8616600790513834\n",
      "Recall: 0.2708074534161491\n",
      "F1: 0.41209829867674863\n",
      "Accuracy: 0.818075460661012 \n",
      "\n",
      "Umbral 0.8000000000000002\n",
      "[[12955   115]\n",
      " [ 3107   918]]\n",
      "Precision: 0.888673765730881\n",
      "Recall: 0.22807453416149068\n",
      "F1: 0.36298932384341637\n",
      "Accuracy: 0.8115238373793506 \n",
      "\n",
      "Umbral 0.8500000000000002\n",
      "[[12996    74]\n",
      " [ 3283   742]]\n",
      "Precision: 0.9093137254901961\n",
      "Recall: 0.18434782608695652\n",
      "F1: 0.3065482338359843\n",
      "Accuracy: 0.8036267914594911 \n",
      "\n",
      "Umbral 0.9000000000000002\n",
      "[[13039    31]\n",
      " [ 3433   592]]\n",
      "Precision: 0.9502407704654896\n",
      "Recall: 0.14708074534161492\n",
      "F1: 0.25473321858864023\n",
      "Accuracy: 0.7973676513600468 \n",
      "\n",
      "Umbral 0.9500000000000003\n",
      "[[13059    11]\n",
      " [ 3609   416]]\n",
      "Precision: 0.9742388758782201\n",
      "Recall: 0.10335403726708074\n",
      "F1: 0.18688230008984727\n",
      "Accuracy: 0.7882421760748757 \n",
      "\n"
     ]
    },
    {
     "data": {
      "image/png": "[encoded data removed]",
      "text/plain": [
       "<Figure size 432x288 with 1 Axes>"
      ]
     },
     "metadata": {
      "needs_background": "light"
     },
     "output_type": "display_data"
    },
    {
     "data": {
      "image/png": "[encoded data removed]",
      "text/plain": [
       "<Figure size 432x288 with 1 Axes>"
      ]
     },
     "metadata": {
      "needs_background": "light"
     },
     "output_type": "display_data"
    }
   ],
   "source": [
    "umbral_selection(model_tree,X_test,y_test)"
   ]
  },
  {
   "cell_type": "markdown",
   "id": "ba8bb10b",
   "metadata": {},
   "source": [
    "# ANÁLISIS COMPLETO\n",
    "Una vez hemos comprobado el correcto funcionamiento de todo el proceso completo, concatenaremos los pasos para poder encontrar cuál es la combinación que mejor se comporta y mejores resultados obtiene. Probaremos diferentes combinaciones y mostraremos los resultados."
   ]
  },
  {
   "cell_type": "code",
   "execution_count": 30,
   "id": "9e30f6c8",
   "metadata": {},
   "outputs": [],
   "source": [
    "# Cargamos los datos\n",
    "df = pd.read_csv(\"census_income_dataset.csv\")\n",
    "\n",
    "# Separamos instancias de valor de clasificacion\n",
    "x_data = df.iloc[:, 0:14]\n",
    "y_data = df.iloc[:,14:15]\n",
    "\n",
    "# Separamos los nombres\n",
    "Names = df.keys()\n",
    "Names = Names.tolist()\n",
    "X_names = Names[0:14]\n",
    "Y_name = Names[-1]"
   ]
  },
  {
   "cell_type": "code",
   "execution_count": 33,
   "id": "8af735b3",
   "metadata": {},
   "outputs": [],
   "source": [
    "x_data = sustitucion(x_data,'Moda')"
   ]
  },
  {
   "cell_type": "code",
   "execution_count": 34,
   "id": "5cdbc84f",
   "metadata": {},
   "outputs": [],
   "source": [
    "x_data, y_data = codificacion(x_data,y_data,'Frecuencia')"
   ]
  },
  {
   "cell_type": "code",
   "execution_count": 37,
   "id": "eeea5d6f",
   "metadata": {},
   "outputs": [],
   "source": [
    "x_data = seleccion_caracteristicas(x_data,y_data,X_names, 'PearsonCorrelation')"
   ]
  },
  {
   "cell_type": "code",
   "execution_count": 40,
   "id": "5eb32720",
   "metadata": {},
   "outputs": [],
   "source": [
    "X = escalado(data=x_data,tipo='StandardScaler')"
   ]
  },
  {
   "cell_type": "code",
   "execution_count": 152,
   "id": "e53cbf8a",
   "metadata": {},
   "outputs": [
    {
     "data": {
      "image/png": "[encoded data removed]",
      "text/plain": [
       "<Figure size 432x288 with 1 Axes>"
      ]
     },
     "metadata": {
      "needs_background": "light"
     },
     "output_type": "display_data"
    },
    {
     "data": {
      "image/png": "[encoded data removed]",
      "text/plain": [
       "<Figure size 720x720 with 1 Axes>"
      ]
     },
     "metadata": {
      "needs_background": "light"
     },
     "output_type": "display_data"
    }
   ],
   "source": [
    "pca_data = PCA_analisis(X, y_data, 12, 30, 45)"
   ]
  },
  {
   "cell_type": "code",
   "execution_count": 41,
   "id": "d3b3ea2a",
   "metadata": {},
   "outputs": [
    {
     "name": "stdout",
     "output_type": "stream",
     "text": [
      "Numero de outliers: 4885\n"
     ]
    }
   ],
   "source": [
    "X, Y = outlier_isolation(X,0.1)"
   ]
  },
  {
   "cell_type": "code",
   "execution_count": 42,
   "id": "14566fe0",
   "metadata": {},
   "outputs": [
    {
     "ename": "ValueError",
     "evalue": "Found input variables with inconsistent numbers of samples: [0, 48842]",
     "output_type": "error",
     "traceback": [
      "\u001b[1;31m---------------------------------------------------------------------------\u001b[0m",
      "\u001b[1;31mValueError\u001b[0m                                Traceback (most recent call last)",
      "\u001b[1;32m~\\AppData\\Local\\Temp/ipykernel_14056/1317835809.py\u001b[0m in \u001b[0;36m<module>\u001b[1;34m\u001b[0m\n\u001b[0;32m      1\u001b[0m \u001b[0mY\u001b[0m \u001b[1;33m=\u001b[0m \u001b[0my_data\u001b[0m\u001b[1;33m.\u001b[0m\u001b[0mastype\u001b[0m\u001b[1;33m(\u001b[0m\u001b[1;34m'int'\u001b[0m\u001b[1;33m)\u001b[0m\u001b[1;33m\u001b[0m\u001b[1;33m\u001b[0m\u001b[0m\n\u001b[1;32m----> 2\u001b[1;33m X_train, X_test, y_train, y_test = train_test_split(X, Y, \n\u001b[0m\u001b[0;32m      3\u001b[0m                                                     random_state=20,test_size=0.35)\n",
      "\u001b[1;32m~\\anaconda3\\lib\\site-packages\\sklearn\\model_selection\\_split.py\u001b[0m in \u001b[0;36mtrain_test_split\u001b[1;34m(test_size, train_size, random_state, shuffle, stratify, *arrays)\u001b[0m\n\u001b[0;32m   2415\u001b[0m         \u001b[1;32mraise\u001b[0m \u001b[0mValueError\u001b[0m\u001b[1;33m(\u001b[0m\u001b[1;34m\"At least one array required as input\"\u001b[0m\u001b[1;33m)\u001b[0m\u001b[1;33m\u001b[0m\u001b[1;33m\u001b[0m\u001b[0m\n\u001b[0;32m   2416\u001b[0m \u001b[1;33m\u001b[0m\u001b[0m\n\u001b[1;32m-> 2417\u001b[1;33m     \u001b[0marrays\u001b[0m \u001b[1;33m=\u001b[0m \u001b[0mindexable\u001b[0m\u001b[1;33m(\u001b[0m\u001b[1;33m*\u001b[0m\u001b[0marrays\u001b[0m\u001b[1;33m)\u001b[0m\u001b[1;33m\u001b[0m\u001b[1;33m\u001b[0m\u001b[0m\n\u001b[0m\u001b[0;32m   2418\u001b[0m \u001b[1;33m\u001b[0m\u001b[0m\n\u001b[0;32m   2419\u001b[0m     \u001b[0mn_samples\u001b[0m \u001b[1;33m=\u001b[0m \u001b[0m_num_samples\u001b[0m\u001b[1;33m(\u001b[0m\u001b[0marrays\u001b[0m\u001b[1;33m[\u001b[0m\u001b[1;36m0\u001b[0m\u001b[1;33m]\u001b[0m\u001b[1;33m)\u001b[0m\u001b[1;33m\u001b[0m\u001b[1;33m\u001b[0m\u001b[0m\n",
      "\u001b[1;32m~\\anaconda3\\lib\\site-packages\\sklearn\\utils\\validation.py\u001b[0m in \u001b[0;36mindexable\u001b[1;34m(*iterables)\u001b[0m\n\u001b[0;32m    376\u001b[0m \u001b[1;33m\u001b[0m\u001b[0m\n\u001b[0;32m    377\u001b[0m     \u001b[0mresult\u001b[0m \u001b[1;33m=\u001b[0m \u001b[1;33m[\u001b[0m\u001b[0m_make_indexable\u001b[0m\u001b[1;33m(\u001b[0m\u001b[0mX\u001b[0m\u001b[1;33m)\u001b[0m \u001b[1;32mfor\u001b[0m \u001b[0mX\u001b[0m \u001b[1;32min\u001b[0m \u001b[0miterables\u001b[0m\u001b[1;33m]\u001b[0m\u001b[1;33m\u001b[0m\u001b[1;33m\u001b[0m\u001b[0m\n\u001b[1;32m--> 378\u001b[1;33m     \u001b[0mcheck_consistent_length\u001b[0m\u001b[1;33m(\u001b[0m\u001b[1;33m*\u001b[0m\u001b[0mresult\u001b[0m\u001b[1;33m)\u001b[0m\u001b[1;33m\u001b[0m\u001b[1;33m\u001b[0m\u001b[0m\n\u001b[0m\u001b[0;32m    379\u001b[0m     \u001b[1;32mreturn\u001b[0m \u001b[0mresult\u001b[0m\u001b[1;33m\u001b[0m\u001b[1;33m\u001b[0m\u001b[0m\n\u001b[0;32m    380\u001b[0m \u001b[1;33m\u001b[0m\u001b[0m\n",
      "\u001b[1;32m~\\anaconda3\\lib\\site-packages\\sklearn\\utils\\validation.py\u001b[0m in \u001b[0;36mcheck_consistent_length\u001b[1;34m(*arrays)\u001b[0m\n\u001b[0;32m    330\u001b[0m     \u001b[0muniques\u001b[0m \u001b[1;33m=\u001b[0m \u001b[0mnp\u001b[0m\u001b[1;33m.\u001b[0m\u001b[0munique\u001b[0m\u001b[1;33m(\u001b[0m\u001b[0mlengths\u001b[0m\u001b[1;33m)\u001b[0m\u001b[1;33m\u001b[0m\u001b[1;33m\u001b[0m\u001b[0m\n\u001b[0;32m    331\u001b[0m     \u001b[1;32mif\u001b[0m \u001b[0mlen\u001b[0m\u001b[1;33m(\u001b[0m\u001b[0muniques\u001b[0m\u001b[1;33m)\u001b[0m \u001b[1;33m>\u001b[0m \u001b[1;36m1\u001b[0m\u001b[1;33m:\u001b[0m\u001b[1;33m\u001b[0m\u001b[1;33m\u001b[0m\u001b[0m\n\u001b[1;32m--> 332\u001b[1;33m         raise ValueError(\n\u001b[0m\u001b[0;32m    333\u001b[0m             \u001b[1;34m\"Found input variables with inconsistent numbers of samples: %r\"\u001b[0m\u001b[1;33m\u001b[0m\u001b[1;33m\u001b[0m\u001b[0m\n\u001b[0;32m    334\u001b[0m             \u001b[1;33m%\u001b[0m \u001b[1;33m[\u001b[0m\u001b[0mint\u001b[0m\u001b[1;33m(\u001b[0m\u001b[0ml\u001b[0m\u001b[1;33m)\u001b[0m \u001b[1;32mfor\u001b[0m \u001b[0ml\u001b[0m \u001b[1;32min\u001b[0m \u001b[0mlengths\u001b[0m\u001b[1;33m]\u001b[0m\u001b[1;33m\u001b[0m\u001b[1;33m\u001b[0m\u001b[0m\n",
      "\u001b[1;31mValueError\u001b[0m: Found input variables with inconsistent numbers of samples: [0, 48842]"
     ]
    }
   ],
   "source": [
    "Y = y_data.astype('int')\n",
    "X_train, X_test, y_train, y_test = train_test_split(X, Y, \n",
    "                                                    random_state=20,test_size=0.35)"
   ]
  },
  {
   "cell_type": "code",
   "execution_count": null,
   "id": "a1e5988d",
   "metadata": {},
   "outputs": [],
   "source": [
    "model = LogisticRegression(solver='saga', random_state=20, \n",
    "                           penalty='elasticnet', max_iter=100, l1_ratio=0.5).fit(X_train, y_train)"
   ]
  },
  {
   "cell_type": "code",
   "execution_count": null,
   "id": "70a3a971",
   "metadata": {},
   "outputs": [],
   "source": [
    "model = svm.SVC(kernel='rbf', C=1, probability=True).fit(X_train, y_train)"
   ]
  },
  {
   "cell_type": "code",
   "execution_count": 311,
   "id": "b60fbef4",
   "metadata": {},
   "outputs": [],
   "source": [
    "model = RandomForestClassifier(n_estimators=200,\n",
    "                 max_features=3,\n",
    "                 max_depth=15,\n",
    "                 criterion='gini').fit(X_train, y_train)"
   ]
  },
  {
   "cell_type": "code",
   "execution_count": 312,
   "id": "408872f4",
   "metadata": {},
   "outputs": [
    {
     "name": "stdout",
     "output_type": "stream",
     "text": [
      "Rendimiento en el conjunto de entrenamiento: 0.9070459446916546\n",
      "Rendimiento en el conjunto de prueba: 0.8622553435427074\n",
      "Rendimiento en el conjunto total: 0.8958478358789567\n"
     ]
    }
   ],
   "source": [
    "print(\"Rendimiento en el conjunto de entrenamiento:\",model.score(X_train,y_train))\n",
    "print(\"Rendimiento en el conjunto de prueba:\",model.score(X_test,y_test))\n",
    "print(\"Rendimiento en el conjunto total:\",model.score(X,Y))"
   ]
  },
  {
   "cell_type": "code",
   "execution_count": null,
   "id": "53487ebb",
   "metadata": {},
   "outputs": [],
   "source": [
    "scores = cross_val_score(model, X, Y, cv=10)\n",
    "print(scores)\n",
    "print(\"%0.5f accuracy with a standard deviation of %0.5f\" % (scores.mean(), scores.std()))"
   ]
  },
  {
   "cell_type": "code",
   "execution_count": 303,
   "id": "87eca79a",
   "metadata": {},
   "outputs": [
    {
     "name": "stdout",
     "output_type": "stream",
     "text": [
      "Modelo: {'criterion': 'gini', 'max_depth': None, 'max_features': 3, 'n_estimators': 50} ✓\n",
      "Modelo: {'criterion': 'gini', 'max_depth': None, 'max_features': 3, 'n_estimators': 100} ✓\n",
      "Modelo: {'criterion': 'gini', 'max_depth': None, 'max_features': 3, 'n_estimators': 150} ✓\n",
      "Modelo: {'criterion': 'gini', 'max_depth': None, 'max_features': 3, 'n_estimators': 200} ✓\n",
      "Modelo: {'criterion': 'gini', 'max_depth': None, 'max_features': 5, 'n_estimators': 50} ✓\n",
      "Modelo: {'criterion': 'gini', 'max_depth': None, 'max_features': 5, 'n_estimators': 100} ✓\n",
      "Modelo: {'criterion': 'gini', 'max_depth': None, 'max_features': 5, 'n_estimators': 150} ✓\n",
      "Modelo: {'criterion': 'gini', 'max_depth': None, 'max_features': 5, 'n_estimators': 200} ✓\n",
      "Modelo: {'criterion': 'gini', 'max_depth': None, 'max_features': 7, 'n_estimators': 50} ✓\n",
      "Modelo: {'criterion': 'gini', 'max_depth': None, 'max_features': 7, 'n_estimators': 100} ✓\n",
      "Modelo: {'criterion': 'gini', 'max_depth': None, 'max_features': 7, 'n_estimators': 150} ✓\n",
      "Modelo: {'criterion': 'gini', 'max_depth': None, 'max_features': 7, 'n_estimators': 200} ✓\n",
      "Modelo: {'criterion': 'gini', 'max_depth': None, 'max_features': 9, 'n_estimators': 50} ✓\n",
      "Modelo: {'criterion': 'gini', 'max_depth': None, 'max_features': 9, 'n_estimators': 100} ✓\n",
      "Modelo: {'criterion': 'gini', 'max_depth': None, 'max_features': 9, 'n_estimators': 150} ✓\n",
      "Modelo: {'criterion': 'gini', 'max_depth': None, 'max_features': 9, 'n_estimators': 200} ✓\n",
      "Modelo: {'criterion': 'gini', 'max_depth': None, 'max_features': 12, 'n_estimators': 50} ✓\n",
      "Modelo: {'criterion': 'gini', 'max_depth': None, 'max_features': 12, 'n_estimators': 100} ✓\n",
      "Modelo: {'criterion': 'gini', 'max_depth': None, 'max_features': 12, 'n_estimators': 150} ✓\n",
      "Modelo: {'criterion': 'gini', 'max_depth': None, 'max_features': 12, 'n_estimators': 200} ✓\n",
      "Modelo: {'criterion': 'gini', 'max_depth': 3, 'max_features': 3, 'n_estimators': 50} ✓\n",
      "Modelo: {'criterion': 'gini', 'max_depth': 3, 'max_features': 3, 'n_estimators': 100} ✓\n",
      "Modelo: {'criterion': 'gini', 'max_depth': 3, 'max_features': 3, 'n_estimators': 150} ✓\n",
      "Modelo: {'criterion': 'gini', 'max_depth': 3, 'max_features': 3, 'n_estimators': 200} ✓\n",
      "Modelo: {'criterion': 'gini', 'max_depth': 3, 'max_features': 5, 'n_estimators': 50} ✓\n",
      "Modelo: {'criterion': 'gini', 'max_depth': 3, 'max_features': 5, 'n_estimators': 100} ✓\n",
      "Modelo: {'criterion': 'gini', 'max_depth': 3, 'max_features': 5, 'n_estimators': 150} ✓\n",
      "Modelo: {'criterion': 'gini', 'max_depth': 3, 'max_features': 5, 'n_estimators': 200} ✓\n",
      "Modelo: {'criterion': 'gini', 'max_depth': 3, 'max_features': 7, 'n_estimators': 50} ✓\n",
      "Modelo: {'criterion': 'gini', 'max_depth': 3, 'max_features': 7, 'n_estimators': 100} ✓\n",
      "Modelo: {'criterion': 'gini', 'max_depth': 3, 'max_features': 7, 'n_estimators': 150} ✓\n",
      "Modelo: {'criterion': 'gini', 'max_depth': 3, 'max_features': 7, 'n_estimators': 200} ✓\n",
      "Modelo: {'criterion': 'gini', 'max_depth': 3, 'max_features': 9, 'n_estimators': 50} ✓\n",
      "Modelo: {'criterion': 'gini', 'max_depth': 3, 'max_features': 9, 'n_estimators': 100} ✓\n",
      "Modelo: {'criterion': 'gini', 'max_depth': 3, 'max_features': 9, 'n_estimators': 150} ✓\n",
      "Modelo: {'criterion': 'gini', 'max_depth': 3, 'max_features': 9, 'n_estimators': 200} ✓\n",
      "Modelo: {'criterion': 'gini', 'max_depth': 3, 'max_features': 12, 'n_estimators': 50} ✓\n",
      "Modelo: {'criterion': 'gini', 'max_depth': 3, 'max_features': 12, 'n_estimators': 100} ✓\n",
      "Modelo: {'criterion': 'gini', 'max_depth': 3, 'max_features': 12, 'n_estimators': 150} ✓\n",
      "Modelo: {'criterion': 'gini', 'max_depth': 3, 'max_features': 12, 'n_estimators': 200} ✓\n",
      "Modelo: {'criterion': 'gini', 'max_depth': 10, 'max_features': 3, 'n_estimators': 50} ✓\n",
      "Modelo: {'criterion': 'gini', 'max_depth': 10, 'max_features': 3, 'n_estimators': 100} ✓\n",
      "Modelo: {'criterion': 'gini', 'max_depth': 10, 'max_features': 3, 'n_estimators': 150} ✓\n",
      "Modelo: {'criterion': 'gini', 'max_depth': 10, 'max_features': 3, 'n_estimators': 200} ✓\n",
      "Modelo: {'criterion': 'gini', 'max_depth': 10, 'max_features': 5, 'n_estimators': 50} ✓\n",
      "Modelo: {'criterion': 'gini', 'max_depth': 10, 'max_features': 5, 'n_estimators': 100} ✓\n",
      "Modelo: {'criterion': 'gini', 'max_depth': 10, 'max_features': 5, 'n_estimators': 150} ✓\n",
      "Modelo: {'criterion': 'gini', 'max_depth': 10, 'max_features': 5, 'n_estimators': 200} ✓\n",
      "Modelo: {'criterion': 'gini', 'max_depth': 10, 'max_features': 7, 'n_estimators': 50} ✓\n",
      "Modelo: {'criterion': 'gini', 'max_depth': 10, 'max_features': 7, 'n_estimators': 100} ✓\n",
      "Modelo: {'criterion': 'gini', 'max_depth': 10, 'max_features': 7, 'n_estimators': 150} ✓\n",
      "Modelo: {'criterion': 'gini', 'max_depth': 10, 'max_features': 7, 'n_estimators': 200} ✓\n",
      "Modelo: {'criterion': 'gini', 'max_depth': 10, 'max_features': 9, 'n_estimators': 50} ✓\n",
      "Modelo: {'criterion': 'gini', 'max_depth': 10, 'max_features': 9, 'n_estimators': 100} ✓\n",
      "Modelo: {'criterion': 'gini', 'max_depth': 10, 'max_features': 9, 'n_estimators': 150} ✓\n",
      "Modelo: {'criterion': 'gini', 'max_depth': 10, 'max_features': 9, 'n_estimators': 200} ✓\n",
      "Modelo: {'criterion': 'gini', 'max_depth': 10, 'max_features': 12, 'n_estimators': 50} ✓\n",
      "Modelo: {'criterion': 'gini', 'max_depth': 10, 'max_features': 12, 'n_estimators': 100} ✓\n",
      "Modelo: {'criterion': 'gini', 'max_depth': 10, 'max_features': 12, 'n_estimators': 150} ✓\n",
      "Modelo: {'criterion': 'gini', 'max_depth': 10, 'max_features': 12, 'n_estimators': 200} ✓\n",
      "Modelo: {'criterion': 'gini', 'max_depth': 12, 'max_features': 3, 'n_estimators': 50} ✓\n",
      "Modelo: {'criterion': 'gini', 'max_depth': 12, 'max_features': 3, 'n_estimators': 100} ✓\n",
      "Modelo: {'criterion': 'gini', 'max_depth': 12, 'max_features': 3, 'n_estimators': 150} ✓\n",
      "Modelo: {'criterion': 'gini', 'max_depth': 12, 'max_features': 3, 'n_estimators': 200} ✓\n",
      "Modelo: {'criterion': 'gini', 'max_depth': 12, 'max_features': 5, 'n_estimators': 50} ✓\n",
      "Modelo: {'criterion': 'gini', 'max_depth': 12, 'max_features': 5, 'n_estimators': 100} ✓\n",
      "Modelo: {'criterion': 'gini', 'max_depth': 12, 'max_features': 5, 'n_estimators': 150} ✓\n",
      "Modelo: {'criterion': 'gini', 'max_depth': 12, 'max_features': 5, 'n_estimators': 200} ✓\n",
      "Modelo: {'criterion': 'gini', 'max_depth': 12, 'max_features': 7, 'n_estimators': 50} ✓\n",
      "Modelo: {'criterion': 'gini', 'max_depth': 12, 'max_features': 7, 'n_estimators': 100} ✓\n",
      "Modelo: {'criterion': 'gini', 'max_depth': 12, 'max_features': 7, 'n_estimators': 150} ✓\n",
      "Modelo: {'criterion': 'gini', 'max_depth': 12, 'max_features': 7, 'n_estimators': 200} ✓\n",
      "Modelo: {'criterion': 'gini', 'max_depth': 12, 'max_features': 9, 'n_estimators': 50} ✓\n",
      "Modelo: {'criterion': 'gini', 'max_depth': 12, 'max_features': 9, 'n_estimators': 100} ✓\n",
      "Modelo: {'criterion': 'gini', 'max_depth': 12, 'max_features': 9, 'n_estimators': 150} ✓\n",
      "Modelo: {'criterion': 'gini', 'max_depth': 12, 'max_features': 9, 'n_estimators': 200} ✓\n",
      "Modelo: {'criterion': 'gini', 'max_depth': 12, 'max_features': 12, 'n_estimators': 50} ✓\n",
      "Modelo: {'criterion': 'gini', 'max_depth': 12, 'max_features': 12, 'n_estimators': 100} ✓\n",
      "Modelo: {'criterion': 'gini', 'max_depth': 12, 'max_features': 12, 'n_estimators': 150} ✓\n",
      "Modelo: {'criterion': 'gini', 'max_depth': 12, 'max_features': 12, 'n_estimators': 200} ✓\n",
      "Modelo: {'criterion': 'gini', 'max_depth': 15, 'max_features': 3, 'n_estimators': 50} ✓\n",
      "Modelo: {'criterion': 'gini', 'max_depth': 15, 'max_features': 3, 'n_estimators': 100} ✓\n",
      "Modelo: {'criterion': 'gini', 'max_depth': 15, 'max_features': 3, 'n_estimators': 150} ✓\n",
      "Modelo: {'criterion': 'gini', 'max_depth': 15, 'max_features': 3, 'n_estimators': 200} ✓\n",
      "Modelo: {'criterion': 'gini', 'max_depth': 15, 'max_features': 5, 'n_estimators': 50} ✓\n",
      "Modelo: {'criterion': 'gini', 'max_depth': 15, 'max_features': 5, 'n_estimators': 100} ✓\n",
      "Modelo: {'criterion': 'gini', 'max_depth': 15, 'max_features': 5, 'n_estimators': 150} ✓\n",
      "Modelo: {'criterion': 'gini', 'max_depth': 15, 'max_features': 5, 'n_estimators': 200} ✓\n",
      "Modelo: {'criterion': 'gini', 'max_depth': 15, 'max_features': 7, 'n_estimators': 50} ✓\n",
      "Modelo: {'criterion': 'gini', 'max_depth': 15, 'max_features': 7, 'n_estimators': 100} ✓\n",
      "Modelo: {'criterion': 'gini', 'max_depth': 15, 'max_features': 7, 'n_estimators': 150} ✓\n",
      "Modelo: {'criterion': 'gini', 'max_depth': 15, 'max_features': 7, 'n_estimators': 200} ✓\n"
     ]
    },
    {
     "name": "stdout",
     "output_type": "stream",
     "text": [
      "Modelo: {'criterion': 'gini', 'max_depth': 15, 'max_features': 9, 'n_estimators': 50} ✓\n",
      "Modelo: {'criterion': 'gini', 'max_depth': 15, 'max_features': 9, 'n_estimators': 100} ✓\n",
      "Modelo: {'criterion': 'gini', 'max_depth': 15, 'max_features': 9, 'n_estimators': 150} ✓\n",
      "Modelo: {'criterion': 'gini', 'max_depth': 15, 'max_features': 9, 'n_estimators': 200} ✓\n",
      "Modelo: {'criterion': 'gini', 'max_depth': 15, 'max_features': 12, 'n_estimators': 50} ✓\n",
      "Modelo: {'criterion': 'gini', 'max_depth': 15, 'max_features': 12, 'n_estimators': 100} ✓\n",
      "Modelo: {'criterion': 'gini', 'max_depth': 15, 'max_features': 12, 'n_estimators': 150} ✓\n",
      "Modelo: {'criterion': 'gini', 'max_depth': 15, 'max_features': 12, 'n_estimators': 200} ✓\n",
      "Modelo: {'criterion': 'gini', 'max_depth': 20, 'max_features': 3, 'n_estimators': 50} ✓\n",
      "Modelo: {'criterion': 'gini', 'max_depth': 20, 'max_features': 3, 'n_estimators': 100} ✓\n",
      "Modelo: {'criterion': 'gini', 'max_depth': 20, 'max_features': 3, 'n_estimators': 150} ✓\n",
      "Modelo: {'criterion': 'gini', 'max_depth': 20, 'max_features': 3, 'n_estimators': 200} ✓\n",
      "Modelo: {'criterion': 'gini', 'max_depth': 20, 'max_features': 5, 'n_estimators': 50} ✓\n",
      "Modelo: {'criterion': 'gini', 'max_depth': 20, 'max_features': 5, 'n_estimators': 100} ✓\n",
      "Modelo: {'criterion': 'gini', 'max_depth': 20, 'max_features': 5, 'n_estimators': 150} ✓\n",
      "Modelo: {'criterion': 'gini', 'max_depth': 20, 'max_features': 5, 'n_estimators': 200} ✓\n",
      "Modelo: {'criterion': 'gini', 'max_depth': 20, 'max_features': 7, 'n_estimators': 50} ✓\n",
      "Modelo: {'criterion': 'gini', 'max_depth': 20, 'max_features': 7, 'n_estimators': 100} ✓\n",
      "Modelo: {'criterion': 'gini', 'max_depth': 20, 'max_features': 7, 'n_estimators': 150} ✓\n",
      "Modelo: {'criterion': 'gini', 'max_depth': 20, 'max_features': 7, 'n_estimators': 200} ✓\n",
      "Modelo: {'criterion': 'gini', 'max_depth': 20, 'max_features': 9, 'n_estimators': 50} ✓\n",
      "Modelo: {'criterion': 'gini', 'max_depth': 20, 'max_features': 9, 'n_estimators': 100} ✓\n",
      "Modelo: {'criterion': 'gini', 'max_depth': 20, 'max_features': 9, 'n_estimators': 150} ✓\n",
      "Modelo: {'criterion': 'gini', 'max_depth': 20, 'max_features': 9, 'n_estimators': 200} ✓\n",
      "Modelo: {'criterion': 'gini', 'max_depth': 20, 'max_features': 12, 'n_estimators': 50} ✓\n",
      "Modelo: {'criterion': 'gini', 'max_depth': 20, 'max_features': 12, 'n_estimators': 100} ✓\n",
      "Modelo: {'criterion': 'gini', 'max_depth': 20, 'max_features': 12, 'n_estimators': 150} ✓\n",
      "Modelo: {'criterion': 'gini', 'max_depth': 20, 'max_features': 12, 'n_estimators': 200} ✓\n",
      "Modelo: {'criterion': 'entropy', 'max_depth': None, 'max_features': 3, 'n_estimators': 50} ✓\n",
      "Modelo: {'criterion': 'entropy', 'max_depth': None, 'max_features': 3, 'n_estimators': 100} ✓\n",
      "Modelo: {'criterion': 'entropy', 'max_depth': None, 'max_features': 3, 'n_estimators': 150} ✓\n",
      "Modelo: {'criterion': 'entropy', 'max_depth': None, 'max_features': 3, 'n_estimators': 200} ✓\n",
      "Modelo: {'criterion': 'entropy', 'max_depth': None, 'max_features': 5, 'n_estimators': 50} ✓\n",
      "Modelo: {'criterion': 'entropy', 'max_depth': None, 'max_features': 5, 'n_estimators': 100} ✓\n",
      "Modelo: {'criterion': 'entropy', 'max_depth': None, 'max_features': 5, 'n_estimators': 150} ✓\n",
      "Modelo: {'criterion': 'entropy', 'max_depth': None, 'max_features': 5, 'n_estimators': 200} ✓\n",
      "Modelo: {'criterion': 'entropy', 'max_depth': None, 'max_features': 7, 'n_estimators': 50} ✓\n",
      "Modelo: {'criterion': 'entropy', 'max_depth': None, 'max_features': 7, 'n_estimators': 100} ✓\n",
      "Modelo: {'criterion': 'entropy', 'max_depth': None, 'max_features': 7, 'n_estimators': 150} ✓\n",
      "Modelo: {'criterion': 'entropy', 'max_depth': None, 'max_features': 7, 'n_estimators': 200} ✓\n",
      "Modelo: {'criterion': 'entropy', 'max_depth': None, 'max_features': 9, 'n_estimators': 50} ✓\n",
      "Modelo: {'criterion': 'entropy', 'max_depth': None, 'max_features': 9, 'n_estimators': 100} ✓\n",
      "Modelo: {'criterion': 'entropy', 'max_depth': None, 'max_features': 9, 'n_estimators': 150} ✓\n",
      "Modelo: {'criterion': 'entropy', 'max_depth': None, 'max_features': 9, 'n_estimators': 200} ✓\n",
      "Modelo: {'criterion': 'entropy', 'max_depth': None, 'max_features': 12, 'n_estimators': 50} ✓\n",
      "Modelo: {'criterion': 'entropy', 'max_depth': None, 'max_features': 12, 'n_estimators': 100} ✓\n",
      "Modelo: {'criterion': 'entropy', 'max_depth': None, 'max_features': 12, 'n_estimators': 150} ✓\n",
      "Modelo: {'criterion': 'entropy', 'max_depth': None, 'max_features': 12, 'n_estimators': 200} ✓\n",
      "Modelo: {'criterion': 'entropy', 'max_depth': 3, 'max_features': 3, 'n_estimators': 50} ✓\n",
      "Modelo: {'criterion': 'entropy', 'max_depth': 3, 'max_features': 3, 'n_estimators': 100} ✓\n",
      "Modelo: {'criterion': 'entropy', 'max_depth': 3, 'max_features': 3, 'n_estimators': 150} ✓\n",
      "Modelo: {'criterion': 'entropy', 'max_depth': 3, 'max_features': 3, 'n_estimators': 200} ✓\n",
      "Modelo: {'criterion': 'entropy', 'max_depth': 3, 'max_features': 5, 'n_estimators': 50} ✓\n",
      "Modelo: {'criterion': 'entropy', 'max_depth': 3, 'max_features': 5, 'n_estimators': 100} ✓\n",
      "Modelo: {'criterion': 'entropy', 'max_depth': 3, 'max_features': 5, 'n_estimators': 150} ✓\n",
      "Modelo: {'criterion': 'entropy', 'max_depth': 3, 'max_features': 5, 'n_estimators': 200} ✓\n",
      "Modelo: {'criterion': 'entropy', 'max_depth': 3, 'max_features': 7, 'n_estimators': 50} ✓\n",
      "Modelo: {'criterion': 'entropy', 'max_depth': 3, 'max_features': 7, 'n_estimators': 100} ✓\n",
      "Modelo: {'criterion': 'entropy', 'max_depth': 3, 'max_features': 7, 'n_estimators': 150} ✓\n",
      "Modelo: {'criterion': 'entropy', 'max_depth': 3, 'max_features': 7, 'n_estimators': 200} ✓\n",
      "Modelo: {'criterion': 'entropy', 'max_depth': 3, 'max_features': 9, 'n_estimators': 50} ✓\n",
      "Modelo: {'criterion': 'entropy', 'max_depth': 3, 'max_features': 9, 'n_estimators': 100} ✓\n",
      "Modelo: {'criterion': 'entropy', 'max_depth': 3, 'max_features': 9, 'n_estimators': 150} ✓\n",
      "Modelo: {'criterion': 'entropy', 'max_depth': 3, 'max_features': 9, 'n_estimators': 200} ✓\n",
      "Modelo: {'criterion': 'entropy', 'max_depth': 3, 'max_features': 12, 'n_estimators': 50} ✓\n",
      "Modelo: {'criterion': 'entropy', 'max_depth': 3, 'max_features': 12, 'n_estimators': 100} ✓\n",
      "Modelo: {'criterion': 'entropy', 'max_depth': 3, 'max_features': 12, 'n_estimators': 150} ✓\n",
      "Modelo: {'criterion': 'entropy', 'max_depth': 3, 'max_features': 12, 'n_estimators': 200} ✓\n",
      "Modelo: {'criterion': 'entropy', 'max_depth': 10, 'max_features': 3, 'n_estimators': 50} ✓\n",
      "Modelo: {'criterion': 'entropy', 'max_depth': 10, 'max_features': 3, 'n_estimators': 100} ✓\n",
      "Modelo: {'criterion': 'entropy', 'max_depth': 10, 'max_features': 3, 'n_estimators': 150} ✓\n",
      "Modelo: {'criterion': 'entropy', 'max_depth': 10, 'max_features': 3, 'n_estimators': 200} ✓\n",
      "Modelo: {'criterion': 'entropy', 'max_depth': 10, 'max_features': 5, 'n_estimators': 50} ✓\n",
      "Modelo: {'criterion': 'entropy', 'max_depth': 10, 'max_features': 5, 'n_estimators': 100} ✓\n",
      "Modelo: {'criterion': 'entropy', 'max_depth': 10, 'max_features': 5, 'n_estimators': 150} ✓\n",
      "Modelo: {'criterion': 'entropy', 'max_depth': 10, 'max_features': 5, 'n_estimators': 200} ✓\n",
      "Modelo: {'criterion': 'entropy', 'max_depth': 10, 'max_features': 7, 'n_estimators': 50} ✓\n",
      "Modelo: {'criterion': 'entropy', 'max_depth': 10, 'max_features': 7, 'n_estimators': 100} ✓\n",
      "Modelo: {'criterion': 'entropy', 'max_depth': 10, 'max_features': 7, 'n_estimators': 150} ✓\n",
      "Modelo: {'criterion': 'entropy', 'max_depth': 10, 'max_features': 7, 'n_estimators': 200} ✓\n",
      "Modelo: {'criterion': 'entropy', 'max_depth': 10, 'max_features': 9, 'n_estimators': 50} ✓\n",
      "Modelo: {'criterion': 'entropy', 'max_depth': 10, 'max_features': 9, 'n_estimators': 100} ✓\n",
      "Modelo: {'criterion': 'entropy', 'max_depth': 10, 'max_features': 9, 'n_estimators': 150} ✓\n",
      "Modelo: {'criterion': 'entropy', 'max_depth': 10, 'max_features': 9, 'n_estimators': 200} ✓\n",
      "Modelo: {'criterion': 'entropy', 'max_depth': 10, 'max_features': 12, 'n_estimators': 50} ✓\n",
      "Modelo: {'criterion': 'entropy', 'max_depth': 10, 'max_features': 12, 'n_estimators': 100} ✓\n",
      "Modelo: {'criterion': 'entropy', 'max_depth': 10, 'max_features': 12, 'n_estimators': 150} ✓\n",
      "Modelo: {'criterion': 'entropy', 'max_depth': 10, 'max_features': 12, 'n_estimators': 200} ✓\n",
      "Modelo: {'criterion': 'entropy', 'max_depth': 12, 'max_features': 3, 'n_estimators': 50} ✓\n",
      "Modelo: {'criterion': 'entropy', 'max_depth': 12, 'max_features': 3, 'n_estimators': 100} ✓\n"
     ]
    },
    {
     "name": "stdout",
     "output_type": "stream",
     "text": [
      "Modelo: {'criterion': 'entropy', 'max_depth': 12, 'max_features': 3, 'n_estimators': 150} ✓\n",
      "Modelo: {'criterion': 'entropy', 'max_depth': 12, 'max_features': 3, 'n_estimators': 200} ✓\n",
      "Modelo: {'criterion': 'entropy', 'max_depth': 12, 'max_features': 5, 'n_estimators': 50} ✓\n",
      "Modelo: {'criterion': 'entropy', 'max_depth': 12, 'max_features': 5, 'n_estimators': 100} ✓\n",
      "Modelo: {'criterion': 'entropy', 'max_depth': 12, 'max_features': 5, 'n_estimators': 150} ✓\n",
      "Modelo: {'criterion': 'entropy', 'max_depth': 12, 'max_features': 5, 'n_estimators': 200} ✓\n",
      "Modelo: {'criterion': 'entropy', 'max_depth': 12, 'max_features': 7, 'n_estimators': 50} ✓\n",
      "Modelo: {'criterion': 'entropy', 'max_depth': 12, 'max_features': 7, 'n_estimators': 100} ✓\n",
      "Modelo: {'criterion': 'entropy', 'max_depth': 12, 'max_features': 7, 'n_estimators': 150} ✓\n",
      "Modelo: {'criterion': 'entropy', 'max_depth': 12, 'max_features': 7, 'n_estimators': 200} ✓\n",
      "Modelo: {'criterion': 'entropy', 'max_depth': 12, 'max_features': 9, 'n_estimators': 50} ✓\n",
      "Modelo: {'criterion': 'entropy', 'max_depth': 12, 'max_features': 9, 'n_estimators': 100} ✓\n",
      "Modelo: {'criterion': 'entropy', 'max_depth': 12, 'max_features': 9, 'n_estimators': 150} ✓\n",
      "Modelo: {'criterion': 'entropy', 'max_depth': 12, 'max_features': 9, 'n_estimators': 200} ✓\n",
      "Modelo: {'criterion': 'entropy', 'max_depth': 12, 'max_features': 12, 'n_estimators': 50} ✓\n",
      "Modelo: {'criterion': 'entropy', 'max_depth': 12, 'max_features': 12, 'n_estimators': 100} ✓\n",
      "Modelo: {'criterion': 'entropy', 'max_depth': 12, 'max_features': 12, 'n_estimators': 150} ✓\n",
      "Modelo: {'criterion': 'entropy', 'max_depth': 12, 'max_features': 12, 'n_estimators': 200} ✓\n",
      "Modelo: {'criterion': 'entropy', 'max_depth': 15, 'max_features': 3, 'n_estimators': 50} ✓\n",
      "Modelo: {'criterion': 'entropy', 'max_depth': 15, 'max_features': 3, 'n_estimators': 100} ✓\n",
      "Modelo: {'criterion': 'entropy', 'max_depth': 15, 'max_features': 3, 'n_estimators': 150} ✓\n",
      "Modelo: {'criterion': 'entropy', 'max_depth': 15, 'max_features': 3, 'n_estimators': 200} ✓\n",
      "Modelo: {'criterion': 'entropy', 'max_depth': 15, 'max_features': 5, 'n_estimators': 50} ✓\n",
      "Modelo: {'criterion': 'entropy', 'max_depth': 15, 'max_features': 5, 'n_estimators': 100} ✓\n",
      "Modelo: {'criterion': 'entropy', 'max_depth': 15, 'max_features': 5, 'n_estimators': 150} ✓\n",
      "Modelo: {'criterion': 'entropy', 'max_depth': 15, 'max_features': 5, 'n_estimators': 200} ✓\n",
      "Modelo: {'criterion': 'entropy', 'max_depth': 15, 'max_features': 7, 'n_estimators': 50} ✓\n",
      "Modelo: {'criterion': 'entropy', 'max_depth': 15, 'max_features': 7, 'n_estimators': 100} ✓\n",
      "Modelo: {'criterion': 'entropy', 'max_depth': 15, 'max_features': 7, 'n_estimators': 150} ✓\n",
      "Modelo: {'criterion': 'entropy', 'max_depth': 15, 'max_features': 7, 'n_estimators': 200} ✓\n",
      "Modelo: {'criterion': 'entropy', 'max_depth': 15, 'max_features': 9, 'n_estimators': 50} ✓\n",
      "Modelo: {'criterion': 'entropy', 'max_depth': 15, 'max_features': 9, 'n_estimators': 100} ✓\n",
      "Modelo: {'criterion': 'entropy', 'max_depth': 15, 'max_features': 9, 'n_estimators': 150} ✓\n",
      "Modelo: {'criterion': 'entropy', 'max_depth': 15, 'max_features': 9, 'n_estimators': 200} ✓\n",
      "Modelo: {'criterion': 'entropy', 'max_depth': 15, 'max_features': 12, 'n_estimators': 50} ✓\n",
      "Modelo: {'criterion': 'entropy', 'max_depth': 15, 'max_features': 12, 'n_estimators': 100} ✓\n",
      "Modelo: {'criterion': 'entropy', 'max_depth': 15, 'max_features': 12, 'n_estimators': 150} ✓\n",
      "Modelo: {'criterion': 'entropy', 'max_depth': 15, 'max_features': 12, 'n_estimators': 200} ✓\n",
      "Modelo: {'criterion': 'entropy', 'max_depth': 20, 'max_features': 3, 'n_estimators': 50} ✓\n",
      "Modelo: {'criterion': 'entropy', 'max_depth': 20, 'max_features': 3, 'n_estimators': 100} ✓\n",
      "Modelo: {'criterion': 'entropy', 'max_depth': 20, 'max_features': 3, 'n_estimators': 150} ✓\n",
      "Modelo: {'criterion': 'entropy', 'max_depth': 20, 'max_features': 3, 'n_estimators': 200} ✓\n",
      "Modelo: {'criterion': 'entropy', 'max_depth': 20, 'max_features': 5, 'n_estimators': 50} ✓\n",
      "Modelo: {'criterion': 'entropy', 'max_depth': 20, 'max_features': 5, 'n_estimators': 100} ✓\n",
      "Modelo: {'criterion': 'entropy', 'max_depth': 20, 'max_features': 5, 'n_estimators': 150} ✓\n",
      "Modelo: {'criterion': 'entropy', 'max_depth': 20, 'max_features': 5, 'n_estimators': 200} ✓\n",
      "Modelo: {'criterion': 'entropy', 'max_depth': 20, 'max_features': 7, 'n_estimators': 50} ✓\n",
      "Modelo: {'criterion': 'entropy', 'max_depth': 20, 'max_features': 7, 'n_estimators': 100} ✓\n",
      "Modelo: {'criterion': 'entropy', 'max_depth': 20, 'max_features': 7, 'n_estimators': 150} ✓\n",
      "Modelo: {'criterion': 'entropy', 'max_depth': 20, 'max_features': 7, 'n_estimators': 200} ✓\n",
      "Modelo: {'criterion': 'entropy', 'max_depth': 20, 'max_features': 9, 'n_estimators': 50} ✓\n",
      "Modelo: {'criterion': 'entropy', 'max_depth': 20, 'max_features': 9, 'n_estimators': 100} ✓\n",
      "Modelo: {'criterion': 'entropy', 'max_depth': 20, 'max_features': 9, 'n_estimators': 150} ✓\n",
      "Modelo: {'criterion': 'entropy', 'max_depth': 20, 'max_features': 9, 'n_estimators': 200} ✓\n",
      "Modelo: {'criterion': 'entropy', 'max_depth': 20, 'max_features': 12, 'n_estimators': 50} ✓\n",
      "Modelo: {'criterion': 'entropy', 'max_depth': 20, 'max_features': 12, 'n_estimators': 100} ✓\n",
      "Modelo: {'criterion': 'entropy', 'max_depth': 20, 'max_features': 12, 'n_estimators': 150} ✓\n",
      "Modelo: {'criterion': 'entropy', 'max_depth': 20, 'max_features': 12, 'n_estimators': 200} ✓\n"
     ]
    },
    {
     "data": {
      "text/html": [
       "<div>\n",
       "<style scoped>\n",
       "    .dataframe tbody tr th:only-of-type {\n",
       "        vertical-align: middle;\n",
       "    }\n",
       "\n",
       "    .dataframe tbody tr th {\n",
       "        vertical-align: top;\n",
       "    }\n",
       "\n",
       "    .dataframe thead th {\n",
       "        text-align: right;\n",
       "    }\n",
       "</style>\n",
       "<table border=\"1\" class=\"dataframe\">\n",
       "  <thead>\n",
       "    <tr style=\"text-align: right;\">\n",
       "      <th></th>\n",
       "      <th>oob_accuracy</th>\n",
       "      <th>criterion</th>\n",
       "      <th>max_depth</th>\n",
       "      <th>max_features</th>\n",
       "      <th>n_estimators</th>\n",
       "    </tr>\n",
       "  </thead>\n",
       "  <tbody>\n",
       "    <tr>\n",
       "      <th>97</th>\n",
       "      <td>0.863975</td>\n",
       "      <td>gini</td>\n",
       "      <td>15.0</td>\n",
       "      <td>12</td>\n",
       "      <td>100</td>\n",
       "    </tr>\n",
       "    <tr>\n",
       "      <th>189</th>\n",
       "      <td>0.863975</td>\n",
       "      <td>entropy</td>\n",
       "      <td>12.0</td>\n",
       "      <td>7</td>\n",
       "      <td>100</td>\n",
       "    </tr>\n",
       "    <tr>\n",
       "      <th>204</th>\n",
       "      <td>0.863893</td>\n",
       "      <td>entropy</td>\n",
       "      <td>15.0</td>\n",
       "      <td>5</td>\n",
       "      <td>50</td>\n",
       "    </tr>\n",
       "    <tr>\n",
       "      <th>95</th>\n",
       "      <td>0.863811</td>\n",
       "      <td>gini</td>\n",
       "      <td>15.0</td>\n",
       "      <td>9</td>\n",
       "      <td>200</td>\n",
       "    </tr>\n",
       "  </tbody>\n",
       "</table>\n",
       "</div>"
      ],
      "text/plain": [
       "     oob_accuracy criterion  max_depth  max_features  n_estimators\n",
       "97       0.863975      gini       15.0            12           100\n",
       "189      0.863975   entropy       12.0             7           100\n",
       "204      0.863893   entropy       15.0             5            50\n",
       "95       0.863811      gini       15.0             9           200"
      ]
     },
     "execution_count": 303,
     "metadata": {},
     "output_type": "execute_result"
    }
   ],
   "source": [
    "param_grid = ParameterGrid(\n",
    "                {'n_estimators': [50, 100, 150, 200],\n",
    "                 'max_features': [3, 5, 7, 9, 12],\n",
    "                 'max_depth'   : [None, 3, 10, 12, 15, 20],\n",
    "                 'criterion'   : ['gini', 'entropy']\n",
    "                }\n",
    "            )\n",
    "\n",
    "resultados = {'params': [], 'oob_accuracy': []}\n",
    "\n",
    "for params in param_grid:\n",
    "    modelo = RandomForestClassifier(\n",
    "                oob_score    = True,\n",
    "                n_jobs       = -1,\n",
    "                random_state = 123,\n",
    "                ** params\n",
    "             )\n",
    "    modelo.fit(X_train, y_train)\n",
    "    \n",
    "    resultados['params'].append(params)\n",
    "    resultados['oob_accuracy'].append(modelo.score(X_test,y_test))\n",
    "    print(f\"Modelo: {params} \\u2713\")\n",
    "\n",
    "resultados = pd.DataFrame(resultados)\n",
    "resultados = pd.concat([resultados, resultados['params'].apply(pd.Series)], axis=1)\n",
    "resultados = resultados.sort_values('oob_accuracy', ascending=False)\n",
    "resultados = resultados.drop(columns = 'params')\n",
    "resultados.head(4)"
   ]
  },
  {
   "cell_type": "code",
   "execution_count": 313,
   "id": "c20c738a",
   "metadata": {},
   "outputs": [
    {
     "name": "stdout",
     "output_type": "stream",
     "text": [
      "Umbral 0\n",
      "[[   0 9335]\n",
      " [   0 2876]]\n",
      "Precision: 0.23552534599950864\n",
      "Recall: 1.0\n",
      "F1: 0.38125538543116594\n",
      "Accuracy: 0.23552534599950864 \n",
      "\n",
      "Umbral 0.05\n",
      "[[4962 4373]\n",
      " [  52 2824]]\n",
      "Precision: 0.3923857162706683\n",
      "Recall: 0.9819193324061196\n",
      "F1: 0.5607068400675072\n",
      "Accuracy: 0.6376218163950537 \n",
      "\n",
      "Umbral 0.1\n",
      "[[5954 3381]\n",
      " [ 129 2747]]\n",
      "Precision: 0.4482702349869452\n",
      "Recall: 0.9551460361613352\n",
      "F1: 0.6101732563305198\n",
      "Accuracy: 0.7125542543608222 \n",
      "\n",
      "Umbral 0.15000000000000002\n",
      "[[6528 2807]\n",
      " [ 193 2683]]\n",
      "Precision: 0.48870673952641164\n",
      "Recall: 0.9328929068150209\n",
      "F1: 0.6414056896963902\n",
      "Accuracy: 0.7543198755220702 \n",
      "\n",
      "Umbral 0.2\n",
      "[[7004 2331]\n",
      " [ 279 2597]]\n",
      "Precision: 0.5269886363636364\n",
      "Recall: 0.902990264255911\n",
      "F1: 0.6655561250640697\n",
      "Accuracy: 0.7862582917042011 \n",
      "\n",
      "Umbral 0.25\n",
      "[[7487 1848]\n",
      " [ 386 2490]]\n",
      "Precision: 0.573997233748271\n",
      "Recall: 0.8657858136300417\n",
      "F1: 0.6903243692819517\n",
      "Accuracy: 0.8170502006387683 \n",
      "\n",
      "Umbral 0.3\n",
      "[[7900 1435]\n",
      " [ 546 2330]]\n",
      "Precision: 0.6188579017264276\n",
      "Recall: 0.8101529902642559\n",
      "F1: 0.7017015509712392\n",
      "Accuracy: 0.8377692244697404 \n",
      "\n",
      "Umbral 0.35\n",
      "[[8216 1119]\n",
      " [ 688 2188]]\n",
      "Precision: 0.6616268521318416\n",
      "Recall: 0.760778859527121\n",
      "F1: 0.7077470483584021\n",
      "Accuracy: 0.8520186716894603 \n",
      "\n",
      "Umbral 0.39999999999999997\n",
      "[[8494  841]\n",
      " [ 887 1989]]\n",
      "Precision: 0.7028268551236749\n",
      "Recall: 0.6915855354659249\n",
      "F1: 0.6971608832807572\n",
      "Accuracy: 0.8584882483007125 \n",
      "\n",
      "Umbral 0.44999999999999996\n",
      "[[8684  651]\n",
      " [1023 1853]]\n",
      "Precision: 0.7400159744408946\n",
      "Recall: 0.644297635605007\n",
      "F1: 0.6888475836431227\n",
      "Accuracy: 0.8629104905413152 \n",
      "\n",
      "Umbral 0.49999999999999994\n",
      "[[8819  516]\n",
      " [1166 1710]]\n",
      "Precision: 0.7681940700808625\n",
      "Recall: 0.5945757997218358\n",
      "F1: 0.6703253626029007\n",
      "Accuracy: 0.8622553435427074 \n",
      "\n",
      "Umbral 0.5499999999999999\n",
      "[[8912  423]\n",
      " [1275 1601]]\n",
      "Precision: 0.79100790513834\n",
      "Recall: 0.5566759388038943\n",
      "F1: 0.653469387755102\n",
      "Accuracy: 0.8609450495454918 \n",
      "\n",
      "Umbral 0.6\n",
      "[[9002  333]\n",
      " [1410 1466]]\n",
      "Precision: 0.8148971650917176\n",
      "Recall: 0.5097357440890126\n",
      "F1: 0.6271657754010695\n",
      "Accuracy: 0.8572598476783229 \n",
      "\n",
      "Umbral 0.65\n",
      "[[9104  231]\n",
      " [1524 1352]]\n",
      "Precision: 0.8540745420088439\n",
      "Recall: 0.47009735744089015\n",
      "F1: 0.6064139941690962\n",
      "Accuracy: 0.8562771271804112 \n",
      "\n",
      "Umbral 0.7000000000000001\n",
      "[[9209  126]\n",
      " [1675 1201]]\n",
      "Precision: 0.9050489826676714\n",
      "Recall: 0.41759388038942974\n",
      "F1: 0.5714965500832738\n",
      "Accuracy: 0.8525100319384162 \n",
      "\n",
      "Umbral 0.7500000000000001\n",
      "[[9270   65]\n",
      " [1870 1006]]\n",
      "Precision: 0.9393090569561158\n",
      "Recall: 0.3497913769123783\n",
      "F1: 0.5097542437294148\n",
      "Accuracy: 0.8415363197117354 \n",
      "\n",
      "Umbral 0.8000000000000002\n",
      "[[9304   31]\n",
      " [2032  844]]\n",
      "Precision: 0.9645714285714285\n",
      "Recall: 0.29346314325452016\n",
      "F1: 0.45001332977872566\n",
      "Accuracy: 0.8310539677340103 \n",
      "\n",
      "Umbral 0.8500000000000002\n",
      "[[9322   13]\n",
      " [2153  723]]\n",
      "Precision: 0.9823369565217391\n",
      "Recall: 0.25139082058414464\n",
      "F1: 0.4003322259136213\n",
      "Accuracy: 0.8226189501269348 \n",
      "\n",
      "Umbral 0.9000000000000002\n",
      "[[9330    5]\n",
      " [2252  624]]\n",
      "Precision: 0.9920508744038156\n",
      "Recall: 0.21696801112656466\n",
      "F1: 0.3560627674750356\n",
      "Accuracy: 0.8151666530177709 \n",
      "\n",
      "Umbral 0.9500000000000003\n",
      "[[9334    1]\n",
      " [2379  497]]\n",
      "Precision: 0.9979919678714859\n",
      "Recall: 0.17280945757997218\n",
      "F1: 0.2946058091286307\n",
      "Accuracy: 0.8050937679141758 \n",
      "\n"
     ]
    },
    {
     "data": {
      "image/png": "[encoded data removed]",
      "text/plain": [
       "<Figure size 432x288 with 1 Axes>"
      ]
     },
     "metadata": {
      "needs_background": "light"
     },
     "output_type": "display_data"
    },
    {
     "data": {
      "image/png": "[encoded data removed]",
      "text/plain": [
       "<Figure size 432x288 with 1 Axes>"
      ]
     },
     "metadata": {
      "needs_background": "light"
     },
     "output_type": "display_data"
    }
   ],
   "source": [
    "umbral_selection(model,X_test,y_test)"
   ]
  },
  {
   "cell_type": "markdown",
   "id": "fff8dacf",
   "metadata": {},
   "source": [
    "Tras probar varias combinaciones, deducimos que el mejor resultado se obtiene para el clasificador Random Forest reduciendo su umbral de clasificación a 0.35 y aplicando el preprocesado:\n",
    "* Sustitución por moda\n",
    "* Codificación por frecuencia\n",
    "* Selección de características utilizando La correlación de Pearson\n",
    "\n",
    "No se han eliminado outliers ya que el conjunto total se reducía considerablemente, reduciendo el rendimiento total. Tampoco se han realizado otro de tipo de selección o reducción de características debido a la baja cantidad de atributos del conjunto, por lo que conseguiríamos reducir los tiempos de aprendizaje y predicción pero empeorarían los resultados.\n",
    "\n",
    "Para conseguir los hiperparámetros del RandomForest se ha realizado un búsqueda intensiva utilizando GridSearch.\n",
    "\n",
    "Los resultados son:\n",
    "- Precision: 0.6608544027898866\n",
    "- Recall: 0.7532919254658386\n",
    "- F1: 0.7040520143968421\n",
    "- Accuracy: 0.8508920737057619 "
   ]
  },
  {
   "cell_type": "code",
   "execution_count": 188,
   "id": "6e07dd24",
   "metadata": {},
   "outputs": [
    {
     "data": {
      "image/png": "[encoded data removed]",
      "text/plain": [
       "<Figure size 432x288 with 1 Axes>"
      ]
     },
     "metadata": {
      "needs_background": "light"
     },
     "output_type": "display_data"
    }
   ],
   "source": [
    "cm = np.array([[11514,1556], [993,3032]])\n",
    "y_name = ['<=50k','>50k']\n",
    "# crear marco de datos de pandas Crear un conjunto de datos\n",
    "dataframe = pd.DataFrame(cm/np.sum(cm), index=y_name, columns=y_name)\n",
    "\n",
    "# crear mapa de calor dibujar mapa de calor\n",
    "sns.heatmap(dataframe, annot=True, cbar=None, cmap=\"Blues\",vmin=0, vmax=1)\n",
    "plt.title(\"Matriz de confusión\"), plt.tight_layout()\n",
    "plt.ylabel(\"Valor real\"), plt.xlabel(\"Valor predicho\")\n",
    "plt.show()"
   ]
  }
 ],
 "metadata": {
  "kernelspec": {
   "display_name": "Python 3.9.7 ('aa')",
   "language": "python",
   "name": "python3"
  },
  "language_info": {
   "codemirror_mode": {
    "name": "ipython",
    "version": 3
   },
   "file_extension": ".py",
   "mimetype": "text/x-python",
   "name": "python",
   "nbconvert_exporter": "python",
   "pygments_lexer": "ipython3",
   "version": "3.9.7"
  },
  "vscode": {
   "interpreter": {
    "hash": "940d0c87a2af174b8b84c7f325b7048c9e7a42265e9a7fb74312da6bb13de7f5"
   }
  }
 },
 "nbformat": 4,
 "nbformat_minor": 5
}
